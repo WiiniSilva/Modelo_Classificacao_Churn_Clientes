{
  "nbformat": 4,
  "nbformat_minor": 0,
  "metadata": {
    "colab": {
      "provenance": [],
      "toc_visible": true,
      "collapsed_sections": [
        "-5NAUK_Dq359",
        "kpFn_Lzm-RNx"
      ]
    },
    "kernelspec": {
      "name": "python3",
      "display_name": "Python 3"
    },
    "language_info": {
      "name": "python"
    },
    "widgets": {
      "application/vnd.jupyter.widget-state+json": {
        "dbe299a690a34355a6d31733f2ab781f": {
          "model_module": "catboost-widget",
          "model_name": "CatboostWidgetModel",
          "model_module_version": "^1.0.0",
          "state": {
            "_dom_classes": [],
            "_model_module": "catboost-widget",
            "_model_module_version": "^1.0.0",
            "_model_name": "CatboostWidgetModel",
            "_view_count": null,
            "_view_module": "catboost-widget",
            "_view_module_version": "^1.0.0",
            "_view_name": "CatboostWidgetView",
            "data": {
              "catboost_info": {
                "path": "catboost_info",
                "name": "catboost_info",
                "content": {
                  "passed_iterations": 99,
                  "total_iterations": 100,
                  "data": {
                    "iterations": [
                      {
                        "learn": [
                          0.850125,
                          0.6434875234
                        ],
                        "iteration": 0,
                        "passed_time": 0.07077123117,
                        "remaining_time": 7.006351886,
                        "test": [
                          0.856,
                          0.6436097274
                        ]
                      },
                      {
                        "learn": [
                          0.852625,
                          0.6015751638
                        ],
                        "iteration": 1,
                        "passed_time": 0.08982020257,
                        "remaining_time": 4.401189926,
                        "test": [
                          0.8565,
                          0.6020397907
                        ]
                      },
                      {
                        "learn": [
                          0.854,
                          0.5666770163
                        ],
                        "iteration": 2,
                        "passed_time": 0.1134591266,
                        "remaining_time": 3.668511761,
                        "test": [
                          0.86,
                          0.567624207
                        ]
                      },
                      {
                        "learn": [
                          0.855375,
                          0.5372465168
                        ],
                        "iteration": 3,
                        "passed_time": 0.128962179,
                        "remaining_time": 3.095092295,
                        "test": [
                          0.861,
                          0.5383977874
                        ]
                      },
                      {
                        "learn": [
                          0.854375,
                          0.5123054915
                        ],
                        "iteration": 4,
                        "passed_time": 0.1428157519,
                        "remaining_time": 2.713499286,
                        "test": [
                          0.861,
                          0.5132647705
                        ]
                      },
                      {
                        "learn": [
                          0.853875,
                          0.4921293979
                        ],
                        "iteration": 5,
                        "passed_time": 0.1515780868,
                        "remaining_time": 2.37472336,
                        "test": [
                          0.8585,
                          0.4934297699
                        ]
                      },
                      {
                        "learn": [
                          0.85375,
                          0.4744724368
                        ],
                        "iteration": 6,
                        "passed_time": 0.1796585941,
                        "remaining_time": 2.38689275,
                        "test": [
                          0.861,
                          0.4758726155
                        ]
                      },
                      {
                        "learn": [
                          0.8525,
                          0.4593567948
                        ],
                        "iteration": 7,
                        "passed_time": 0.2152349719,
                        "remaining_time": 2.475202176,
                        "test": [
                          0.859,
                          0.460681744
                        ]
                      },
                      {
                        "learn": [
                          0.853875,
                          0.4454871974
                        ],
                        "iteration": 8,
                        "passed_time": 0.2346417082,
                        "remaining_time": 2.372488383,
                        "test": [
                          0.8595,
                          0.4471105586
                        ]
                      },
                      {
                        "learn": [
                          0.85475,
                          0.4340402122
                        ],
                        "iteration": 9,
                        "passed_time": 0.2491915039,
                        "remaining_time": 2.242723535,
                        "test": [
                          0.8625,
                          0.4360183474
                        ]
                      },
                      {
                        "learn": [
                          0.856125,
                          0.4243741551
                        ],
                        "iteration": 10,
                        "passed_time": 0.2566914843,
                        "remaining_time": 2.076867464,
                        "test": [
                          0.8625,
                          0.4258373513
                        ]
                      },
                      {
                        "learn": [
                          0.855,
                          0.4147687687
                        ],
                        "iteration": 11,
                        "passed_time": 0.273037721,
                        "remaining_time": 2.002276621,
                        "test": [
                          0.863,
                          0.4161032246
                        ]
                      },
                      {
                        "learn": [
                          0.85475,
                          0.4058420337
                        ],
                        "iteration": 12,
                        "passed_time": 0.2906696624,
                        "remaining_time": 1.945250818,
                        "test": [
                          0.863,
                          0.4072700386
                        ]
                      },
                      {
                        "learn": [
                          0.85525,
                          0.3990285995
                        ],
                        "iteration": 13,
                        "passed_time": 0.3233840182,
                        "remaining_time": 1.986501826,
                        "test": [
                          0.863,
                          0.4012362369
                        ]
                      },
                      {
                        "learn": [
                          0.854625,
                          0.392426908
                        ],
                        "iteration": 14,
                        "passed_time": 0.3433740501,
                        "remaining_time": 1.945786284,
                        "test": [
                          0.863,
                          0.3951219215
                        ]
                      },
                      {
                        "learn": [
                          0.855625,
                          0.3867866232
                        ],
                        "iteration": 15,
                        "passed_time": 0.3507760666,
                        "remaining_time": 1.84157435,
                        "test": [
                          0.863,
                          0.3899497667
                        ]
                      },
                      {
                        "learn": [
                          0.8565,
                          0.3815129459
                        ],
                        "iteration": 16,
                        "passed_time": 0.357262134,
                        "remaining_time": 1.744279831,
                        "test": [
                          0.8635,
                          0.3847638164
                        ]
                      },
                      {
                        "learn": [
                          0.85675,
                          0.3767646039
                        ],
                        "iteration": 17,
                        "passed_time": 0.3656402224,
                        "remaining_time": 1.665694346,
                        "test": [
                          0.8635,
                          0.3797818677
                        ]
                      },
                      {
                        "learn": [
                          0.85675,
                          0.3729692421
                        ],
                        "iteration": 18,
                        "passed_time": 0.3821010118,
                        "remaining_time": 1.628956945,
                        "test": [
                          0.864,
                          0.3764503523
                        ]
                      },
                      {
                        "learn": [
                          0.857,
                          0.3692024501
                        ],
                        "iteration": 19,
                        "passed_time": 0.3979923446,
                        "remaining_time": 1.591969378,
                        "test": [
                          0.865,
                          0.3728304724
                        ]
                      },
                      {
                        "learn": [
                          0.857,
                          0.3662653987
                        ],
                        "iteration": 20,
                        "passed_time": 0.4064678828,
                        "remaining_time": 1.529093464,
                        "test": [
                          0.8645,
                          0.3704359125
                        ]
                      },
                      {
                        "learn": [
                          0.857375,
                          0.3638210997
                        ],
                        "iteration": 21,
                        "passed_time": 0.4210334286,
                        "remaining_time": 1.492754883,
                        "test": [
                          0.8625,
                          0.3685392742
                        ]
                      },
                      {
                        "learn": [
                          0.85725,
                          0.3613536149
                        ],
                        "iteration": 22,
                        "passed_time": 0.4590907654,
                        "remaining_time": 1.536956041,
                        "test": [
                          0.863,
                          0.3664995839
                        ]
                      },
                      {
                        "learn": [
                          0.857875,
                          0.3596672572
                        ],
                        "iteration": 23,
                        "passed_time": 0.4670665289,
                        "remaining_time": 1.479044008,
                        "test": [
                          0.862,
                          0.3652329175
                        ]
                      },
                      {
                        "learn": [
                          0.860625,
                          0.354859516
                        ],
                        "iteration": 24,
                        "passed_time": 0.4765145678,
                        "remaining_time": 1.429543703,
                        "test": [
                          0.864,
                          0.3614674374
                        ]
                      },
                      {
                        "learn": [
                          0.861625,
                          0.3510357399
                        ],
                        "iteration": 25,
                        "passed_time": 0.491214239,
                        "remaining_time": 1.398071296,
                        "test": [
                          0.8625,
                          0.3582728653
                        ]
                      },
                      {
                        "learn": [
                          0.861375,
                          0.3476881924
                        ],
                        "iteration": 26,
                        "passed_time": 0.4971693191,
                        "remaining_time": 1.344198529,
                        "test": [
                          0.8635,
                          0.355734611
                        ]
                      },
                      {
                        "learn": [
                          0.86125,
                          0.3442305676
                        ],
                        "iteration": 27,
                        "passed_time": 0.506314709,
                        "remaining_time": 1.301952109,
                        "test": [
                          0.864,
                          0.3532954156
                        ]
                      },
                      {
                        "learn": [
                          0.862125,
                          0.3416321333
                        ],
                        "iteration": 28,
                        "passed_time": 0.5112707043,
                        "remaining_time": 1.251731724,
                        "test": [
                          0.864,
                          0.3511564177
                        ]
                      },
                      {
                        "learn": [
                          0.86375,
                          0.3388775794
                        ],
                        "iteration": 29,
                        "passed_time": 0.5188135541,
                        "remaining_time": 1.21056496,
                        "test": [
                          0.863,
                          0.3490995167
                        ]
                      },
                      {
                        "learn": [
                          0.864375,
                          0.3365054702
                        ],
                        "iteration": 30,
                        "passed_time": 0.5266611617,
                        "remaining_time": 1.172245812,
                        "test": [
                          0.863,
                          0.3474485766
                        ]
                      },
                      {
                        "learn": [
                          0.86525,
                          0.3342657228
                        ],
                        "iteration": 31,
                        "passed_time": 0.5339322081,
                        "remaining_time": 1.134605942,
                        "test": [
                          0.8625,
                          0.3464190526
                        ]
                      },
                      {
                        "learn": [
                          0.8655,
                          0.3327541307
                        ],
                        "iteration": 32,
                        "passed_time": 0.5425750039,
                        "remaining_time": 1.101591675,
                        "test": [
                          0.863,
                          0.3453313514
                        ]
                      },
                      {
                        "learn": [
                          0.866375,
                          0.3312444673
                        ],
                        "iteration": 33,
                        "passed_time": 0.5498654584,
                        "remaining_time": 1.06738589,
                        "test": [
                          0.8625,
                          0.3441180317
                        ]
                      },
                      {
                        "learn": [
                          0.86675,
                          0.3297493384
                        ],
                        "iteration": 34,
                        "passed_time": 0.5566506467,
                        "remaining_time": 1.033779772,
                        "test": [
                          0.863,
                          0.3432968972
                        ]
                      },
                      {
                        "learn": [
                          0.8675,
                          0.3284954619
                        ],
                        "iteration": 35,
                        "passed_time": 0.5657991473,
                        "remaining_time": 1.005865151,
                        "test": [
                          0.8645,
                          0.3425836715
                        ]
                      },
                      {
                        "learn": [
                          0.867625,
                          0.3272758494
                        ],
                        "iteration": 36,
                        "passed_time": 0.5801762554,
                        "remaining_time": 0.9878676781,
                        "test": [
                          0.8645,
                          0.342068607
                        ]
                      },
                      {
                        "learn": [
                          0.867875,
                          0.3270750023
                        ],
                        "iteration": 37,
                        "passed_time": 0.5883617344,
                        "remaining_time": 0.9599586192,
                        "test": [
                          0.8645,
                          0.3419341475
                        ]
                      },
                      {
                        "learn": [
                          0.867125,
                          0.3260100205
                        ],
                        "iteration": 38,
                        "passed_time": 0.5984700487,
                        "remaining_time": 0.9360685377,
                        "test": [
                          0.864,
                          0.3411956484
                        ]
                      },
                      {
                        "learn": [
                          0.868125,
                          0.3248725337
                        ],
                        "iteration": 39,
                        "passed_time": 0.6240707207,
                        "remaining_time": 0.936106081,
                        "test": [
                          0.8645,
                          0.340532195
                        ]
                      },
                      {
                        "learn": [
                          0.868125,
                          0.3240265046
                        ],
                        "iteration": 40,
                        "passed_time": 0.6561091383,
                        "remaining_time": 0.9441570527,
                        "test": [
                          0.8655,
                          0.3399429474
                        ]
                      },
                      {
                        "learn": [
                          0.868625,
                          0.323128776
                        ],
                        "iteration": 41,
                        "passed_time": 0.6735302204,
                        "remaining_time": 0.9301131616,
                        "test": [
                          0.8655,
                          0.3395812671
                        ]
                      },
                      {
                        "learn": [
                          0.868375,
                          0.3228338894
                        ],
                        "iteration": 42,
                        "passed_time": 0.6801078293,
                        "remaining_time": 0.9015382854,
                        "test": [
                          0.8645,
                          0.3393038599
                        ]
                      },
                      {
                        "learn": [
                          0.8685,
                          0.3227221502
                        ],
                        "iteration": 43,
                        "passed_time": 0.6939621196,
                        "remaining_time": 0.8832245159,
                        "test": [
                          0.8635,
                          0.3392005027
                        ]
                      },
                      {
                        "learn": [
                          0.86925,
                          0.3219898714
                        ],
                        "iteration": 44,
                        "passed_time": 0.7052050294,
                        "remaining_time": 0.8619172581,
                        "test": [
                          0.8655,
                          0.3389584221
                        ]
                      },
                      {
                        "learn": [
                          0.869875,
                          0.321438817
                        ],
                        "iteration": 45,
                        "passed_time": 0.7239681078,
                        "remaining_time": 0.8498756049,
                        "test": [
                          0.8655,
                          0.3386845322
                        ]
                      },
                      {
                        "learn": [
                          0.87,
                          0.3207209516
                        ],
                        "iteration": 46,
                        "passed_time": 0.7366841636,
                        "remaining_time": 0.8307289505,
                        "test": [
                          0.8655,
                          0.3385006101
                        ]
                      },
                      {
                        "learn": [
                          0.869625,
                          0.3200837991
                        ],
                        "iteration": 47,
                        "passed_time": 0.7631558971,
                        "remaining_time": 0.8267522218,
                        "test": [
                          0.8645,
                          0.3383429965
                        ]
                      },
                      {
                        "learn": [
                          0.870125,
                          0.3196766789
                        ],
                        "iteration": 48,
                        "passed_time": 0.7815568651,
                        "remaining_time": 0.8134571453,
                        "test": [
                          0.8645,
                          0.33795248
                        ]
                      },
                      {
                        "learn": [
                          0.87,
                          0.3196015311
                        ],
                        "iteration": 49,
                        "passed_time": 0.7901392659,
                        "remaining_time": 0.7901392659,
                        "test": [
                          0.8645,
                          0.3379031484
                        ]
                      },
                      {
                        "learn": [
                          0.86975,
                          0.3192938551
                        ],
                        "iteration": 50,
                        "passed_time": 0.8043709361,
                        "remaining_time": 0.7728269778,
                        "test": [
                          0.8645,
                          0.3376969185
                        ]
                      },
                      {
                        "learn": [
                          0.870125,
                          0.3184002748
                        ],
                        "iteration": 51,
                        "passed_time": 0.839496369,
                        "remaining_time": 0.7749197253,
                        "test": [
                          0.865,
                          0.3374578491
                        ]
                      },
                      {
                        "learn": [
                          0.869875,
                          0.3180176012
                        ],
                        "iteration": 52,
                        "passed_time": 0.8677947185,
                        "remaining_time": 0.769553807,
                        "test": [
                          0.863,
                          0.3372124355
                        ]
                      },
                      {
                        "learn": [
                          0.8705,
                          0.3175193831
                        ],
                        "iteration": 53,
                        "passed_time": 0.901253405,
                        "remaining_time": 0.767734382,
                        "test": [
                          0.864,
                          0.3370782945
                        ]
                      },
                      {
                        "learn": [
                          0.870625,
                          0.317175054
                        ],
                        "iteration": 54,
                        "passed_time": 0.9199441859,
                        "remaining_time": 0.7526816067,
                        "test": [
                          0.8635,
                          0.3369194076
                        ]
                      },
                      {
                        "learn": [
                          0.870375,
                          0.3168306714
                        ],
                        "iteration": 55,
                        "passed_time": 0.9269774742,
                        "remaining_time": 0.728339444,
                        "test": [
                          0.864,
                          0.3369065603
                        ]
                      },
                      {
                        "learn": [
                          0.870875,
                          0.3163527367
                        ],
                        "iteration": 56,
                        "passed_time": 0.9361259548,
                        "remaining_time": 0.7062002817,
                        "test": [
                          0.8625,
                          0.3367627142
                        ]
                      },
                      {
                        "learn": [
                          0.870625,
                          0.3161558258
                        ],
                        "iteration": 57,
                        "passed_time": 0.9542168773,
                        "remaining_time": 0.6909846353,
                        "test": [
                          0.864,
                          0.3367323259
                        ]
                      },
                      {
                        "learn": [
                          0.870625,
                          0.3157591626
                        ],
                        "iteration": 58,
                        "passed_time": 0.9727614826,
                        "remaining_time": 0.675986793,
                        "test": [
                          0.8625,
                          0.3365581224
                        ]
                      },
                      {
                        "learn": [
                          0.870875,
                          0.3155227953
                        ],
                        "iteration": 59,
                        "passed_time": 0.9944671527,
                        "remaining_time": 0.6629781018,
                        "test": [
                          0.8615,
                          0.3363137714
                        ]
                      },
                      {
                        "learn": [
                          0.8715,
                          0.3152621636
                        ],
                        "iteration": 60,
                        "passed_time": 1.01119414,
                        "remaining_time": 0.6465011715,
                        "test": [
                          0.8615,
                          0.3362154061
                        ]
                      },
                      {
                        "learn": [
                          0.87175,
                          0.3148162966
                        ],
                        "iteration": 61,
                        "passed_time": 1.03142222,
                        "remaining_time": 0.6321620059,
                        "test": [
                          0.862,
                          0.3362064023
                        ]
                      },
                      {
                        "learn": [
                          0.871625,
                          0.3146847529
                        ],
                        "iteration": 62,
                        "passed_time": 1.039442665,
                        "remaining_time": 0.6104663273,
                        "test": [
                          0.862,
                          0.3361577305
                        ]
                      },
                      {
                        "learn": [
                          0.8715,
                          0.314374004
                        ],
                        "iteration": 63,
                        "passed_time": 1.065295589,
                        "remaining_time": 0.5992287686,
                        "test": [
                          0.8625,
                          0.335918681
                        ]
                      },
                      {
                        "learn": [
                          0.872,
                          0.3140201228
                        ],
                        "iteration": 64,
                        "passed_time": 1.088241331,
                        "remaining_time": 0.5859761014,
                        "test": [
                          0.862,
                          0.3358924203
                        ]
                      },
                      {
                        "learn": [
                          0.87275,
                          0.3133455763
                        ],
                        "iteration": 65,
                        "passed_time": 1.112774132,
                        "remaining_time": 0.5732472801,
                        "test": [
                          0.862,
                          0.3356510193
                        ]
                      },
                      {
                        "learn": [
                          0.873,
                          0.3131050172
                        ],
                        "iteration": 66,
                        "passed_time": 1.129848972,
                        "remaining_time": 0.5564927775,
                        "test": [
                          0.861,
                          0.3355675465
                        ]
                      },
                      {
                        "learn": [
                          0.873625,
                          0.3126154955
                        ],
                        "iteration": 67,
                        "passed_time": 1.145387878,
                        "remaining_time": 0.5390060603,
                        "test": [
                          0.862,
                          0.3357107967
                        ]
                      },
                      {
                        "learn": [
                          0.873,
                          0.3118352635
                        ],
                        "iteration": 68,
                        "passed_time": 1.167971897,
                        "remaining_time": 0.5247409973,
                        "test": [
                          0.861,
                          0.335400602
                        ]
                      },
                      {
                        "learn": [
                          0.873125,
                          0.3115960204
                        ],
                        "iteration": 69,
                        "passed_time": 1.182809235,
                        "remaining_time": 0.5069182436,
                        "test": [
                          0.8605,
                          0.3353620729
                        ]
                      },
                      {
                        "learn": [
                          0.873625,
                          0.3112933879
                        ],
                        "iteration": 70,
                        "passed_time": 1.18988733,
                        "remaining_time": 0.4860103177,
                        "test": [
                          0.8615,
                          0.3352611589
                        ]
                      },
                      {
                        "learn": [
                          0.874125,
                          0.310794311
                        ],
                        "iteration": 71,
                        "passed_time": 1.198407581,
                        "remaining_time": 0.4660473926,
                        "test": [
                          0.8605,
                          0.3350685967
                        ]
                      },
                      {
                        "learn": [
                          0.874,
                          0.3106987367
                        ],
                        "iteration": 72,
                        "passed_time": 1.200849556,
                        "remaining_time": 0.4441498356,
                        "test": [
                          0.8605,
                          0.3350513847
                        ]
                      },
                      {
                        "learn": [
                          0.874125,
                          0.310486629
                        ],
                        "iteration": 73,
                        "passed_time": 1.208759853,
                        "remaining_time": 0.4246994077,
                        "test": [
                          0.86,
                          0.3350271687
                        ]
                      },
                      {
                        "learn": [
                          0.874125,
                          0.3102848569
                        ],
                        "iteration": 74,
                        "passed_time": 1.219328988,
                        "remaining_time": 0.4064429959,
                        "test": [
                          0.859,
                          0.3350883388
                        ]
                      },
                      {
                        "learn": [
                          0.87425,
                          0.309687449
                        ],
                        "iteration": 75,
                        "passed_time": 1.227021311,
                        "remaining_time": 0.3874804139,
                        "test": [
                          0.8595,
                          0.3349530329
                        ]
                      },
                      {
                        "learn": [
                          0.87425,
                          0.3094749778
                        ],
                        "iteration": 76,
                        "passed_time": 1.235014112,
                        "remaining_time": 0.3689003193,
                        "test": [
                          0.86,
                          0.334914068
                        ]
                      },
                      {
                        "learn": [
                          0.874,
                          0.3092703744
                        ],
                        "iteration": 77,
                        "passed_time": 1.247826186,
                        "remaining_time": 0.3519509754,
                        "test": [
                          0.8595,
                          0.3347828182
                        ]
                      },
                      {
                        "learn": [
                          0.874125,
                          0.309204895
                        ],
                        "iteration": 78,
                        "passed_time": 1.252847325,
                        "remaining_time": 0.3330353649,
                        "test": [
                          0.8595,
                          0.3347524016
                        ]
                      },
                      {
                        "learn": [
                          0.87425,
                          0.3088400311
                        ],
                        "iteration": 79,
                        "passed_time": 1.261016166,
                        "remaining_time": 0.3152540415,
                        "test": [
                          0.8605,
                          0.3345478927
                        ]
                      },
                      {
                        "learn": [
                          0.8745,
                          0.3085217557
                        ],
                        "iteration": 80,
                        "passed_time": 1.269334826,
                        "remaining_time": 0.2977452061,
                        "test": [
                          0.8605,
                          0.3344026695
                        ]
                      },
                      {
                        "learn": [
                          0.8745,
                          0.3080189881
                        ],
                        "iteration": 81,
                        "passed_time": 1.277690694,
                        "remaining_time": 0.2804686889,
                        "test": [
                          0.8605,
                          0.3346138821
                        ]
                      },
                      {
                        "learn": [
                          0.874625,
                          0.3073823886
                        ],
                        "iteration": 82,
                        "passed_time": 1.28647181,
                        "remaining_time": 0.2634942261,
                        "test": [
                          0.8615,
                          0.334607295
                        ]
                      },
                      {
                        "learn": [
                          0.874875,
                          0.3069681636
                        ],
                        "iteration": 83,
                        "passed_time": 1.293965341,
                        "remaining_time": 0.2464695888,
                        "test": [
                          0.861,
                          0.3345706809
                        ]
                      },
                      {
                        "learn": [
                          0.875,
                          0.3067492282
                        ],
                        "iteration": 84,
                        "passed_time": 1.303227232,
                        "remaining_time": 0.2299812762,
                        "test": [
                          0.861,
                          0.3345399307
                        ]
                      },
                      {
                        "learn": [
                          0.875125,
                          0.3065273397
                        ],
                        "iteration": 85,
                        "passed_time": 1.310572369,
                        "remaining_time": 0.2133489904,
                        "test": [
                          0.8605,
                          0.3345703477
                        ]
                      },
                      {
                        "learn": [
                          0.8755,
                          0.3060386368
                        ],
                        "iteration": 86,
                        "passed_time": 1.317853053,
                        "remaining_time": 0.1969205711,
                        "test": [
                          0.8595,
                          0.3345711987
                        ]
                      },
                      {
                        "learn": [
                          0.8755,
                          0.3059687145
                        ],
                        "iteration": 87,
                        "passed_time": 1.322664783,
                        "remaining_time": 0.1803633795,
                        "test": [
                          0.8595,
                          0.3345377114
                        ]
                      },
                      {
                        "learn": [
                          0.8755,
                          0.305721088
                        ],
                        "iteration": 88,
                        "passed_time": 1.330161974,
                        "remaining_time": 0.1644020417,
                        "test": [
                          0.859,
                          0.3342605344
                        ]
                      },
                      {
                        "learn": [
                          0.8755,
                          0.3056888448
                        ],
                        "iteration": 89,
                        "passed_time": 1.337497192,
                        "remaining_time": 0.1486107991,
                        "test": [
                          0.859,
                          0.334209919
                        ]
                      },
                      {
                        "learn": [
                          0.875625,
                          0.3055827187
                        ],
                        "iteration": 90,
                        "passed_time": 1.347256654,
                        "remaining_time": 0.1332451636,
                        "test": [
                          0.859,
                          0.3341388773
                        ]
                      },
                      {
                        "learn": [
                          0.876,
                          0.3054445747
                        ],
                        "iteration": 91,
                        "passed_time": 1.358818283,
                        "remaining_time": 0.1181581116,
                        "test": [
                          0.8595,
                          0.3341069518
                        ]
                      },
                      {
                        "learn": [
                          0.876125,
                          0.3051760572
                        ],
                        "iteration": 92,
                        "passed_time": 1.378411365,
                        "remaining_time": 0.103751393,
                        "test": [
                          0.8605,
                          0.3341693394
                        ]
                      },
                      {
                        "learn": [
                          0.87575,
                          0.3048503496
                        ],
                        "iteration": 93,
                        "passed_time": 1.398773834,
                        "remaining_time": 0.08928343621,
                        "test": [
                          0.8595,
                          0.333926823
                        ]
                      },
                      {
                        "learn": [
                          0.876375,
                          0.3044347359
                        ],
                        "iteration": 94,
                        "passed_time": 1.421774254,
                        "remaining_time": 0.07483022388,
                        "test": [
                          0.86,
                          0.333879163
                        ]
                      },
                      {
                        "learn": [
                          0.87625,
                          0.3039859592
                        ],
                        "iteration": 95,
                        "passed_time": 1.433909971,
                        "remaining_time": 0.05974624879,
                        "test": [
                          0.8595,
                          0.3340609585
                        ]
                      },
                      {
                        "learn": [
                          0.876375,
                          0.3037370359
                        ],
                        "iteration": 96,
                        "passed_time": 1.447791763,
                        "remaining_time": 0.04477706485,
                        "test": [
                          0.8605,
                          0.334157696
                        ]
                      },
                      {
                        "learn": [
                          0.876875,
                          0.3034900164
                        ],
                        "iteration": 97,
                        "passed_time": 1.459935,
                        "remaining_time": 0.02979459185,
                        "test": [
                          0.86,
                          0.3343413626
                        ]
                      },
                      {
                        "learn": [
                          0.876625,
                          0.3031298577
                        ],
                        "iteration": 98,
                        "passed_time": 1.476828939,
                        "remaining_time": 0.01491746403,
                        "test": [
                          0.8595,
                          0.3343252033
                        ]
                      },
                      {
                        "learn": [
                          0.87675,
                          0.3028734287
                        ],
                        "iteration": 99,
                        "passed_time": 1.505275863,
                        "remaining_time": 0,
                        "test": [
                          0.859,
                          0.3342426062
                        ]
                      }
                    ],
                    "meta": {
                      "test_sets": [
                        "test"
                      ],
                      "test_metrics": [
                        {
                          "best_value": "Max",
                          "name": "Accuracy"
                        },
                        {
                          "best_value": "Min",
                          "name": "Logloss"
                        }
                      ],
                      "learn_metrics": [
                        {
                          "best_value": "Max",
                          "name": "Accuracy"
                        },
                        {
                          "best_value": "Min",
                          "name": "Logloss"
                        }
                      ],
                      "launch_mode": "Train",
                      "parameters": "",
                      "iteration_count": 100,
                      "learn_sets": [
                        "learn"
                      ],
                      "name": "experiment"
                    }
                  }
                }
              }
            },
            "layout": "IPY_MODEL_59822ab10f8f4995becc0e98b5274481"
          }
        }
      }
    }
  },
  "cells": [
    {
      "cell_type": "markdown",
      "source": [
        "# 0 - Aprendizagem Supervisionada: Modelo de Classificação"
      ],
      "metadata": {
        "id": "8p7_DFnMi-4Y"
      }
    },
    {
      "cell_type": "markdown",
      "source": [
        "Dados obtidos no site Kaggle:https://www.kaggle.com/datasets/shrutimechlearn/churn-modelling"
      ],
      "metadata": {
        "id": "j7aqjoXpjFgb"
      }
    },
    {
      "cell_type": "markdown",
      "source": [
        "RowNumber: Identificador único para cada registro, não irá contribuir para a análise.\n",
        "\n",
        "CustomerId: identificador único para cada cliente.\n",
        "\n",
        "Surname: Sobrenome de cada cliente.\n",
        "\n",
        "CreditScore: crédito de um cliente com base em seu histórico de crédito e comportamento financeiro.\n",
        "\n",
        "Geography: Pais onde cada cliente mora.\n",
        "\n",
        "Gender: Gênero do cliente(Feminino ou Masculino)\n",
        "\n",
        "Age: Idade do clientes\n",
        "\n",
        "Tenure: Quantidade de tempo que o cliente está com o banco.\n",
        "\n",
        "Balance: O saldo co cliente, ou seja a quantidade de dinheiro na conta bancária .\n",
        "\n",
        "NumOfProducts: Pode incluir várias ofertas, como contas de poupança, empréstimos, cartões de crédito, entre outros.\n",
        "\n",
        "HasCrCard: Usada para identificar se o cliente tem ou não cartão de crédito com (1) para caso ele possua, e (0) caso contrario.\n",
        "\n",
        "IsActiveMember: Indica se o cliente é membro ativo (1) ou não (0) dentro do banco.\n",
        "\n",
        "EstimatedSalary: Fornece uma aproximação do nível de renda do cliente.\n",
        "\n",
        "Exited: Indica se um cliente cancelou (1) ou não (0) do banco."
      ],
      "metadata": {
        "id": "2XC0E37NjZA8"
      }
    },
    {
      "cell_type": "markdown",
      "source": [
        "# 1 - Pré-processamento das variaveis categoricas"
      ],
      "metadata": {
        "id": "Ye-3JIwNkX7D"
      }
    },
    {
      "cell_type": "markdown",
      "source": [
        "Temos como o objetivo desse projeto criar um algoritmo de aprendizado de maquina, para prever se um clientes de determinado banco irá irá fazer Churn da empresa, ou seja, cancelar sua conta."
      ],
      "metadata": {
        "id": "a4XhBvfJkjkt"
      }
    },
    {
      "cell_type": "code",
      "source": [
        "# Instalação do Algoritmo\n",
        "!pip install lightgbm\n",
        "!pip install catboost"
      ],
      "metadata": {
        "colab": {
          "base_uri": "https://localhost:8080/"
        },
        "id": "6DJwBT-bR1LF",
        "outputId": "b078f440-38a3-4e24-c793-cf0444d471a5"
      },
      "execution_count": 1,
      "outputs": [
        {
          "output_type": "stream",
          "name": "stdout",
          "text": [
            "Requirement already satisfied: lightgbm in /usr/local/lib/python3.10/dist-packages (3.3.5)\n",
            "Requirement already satisfied: wheel in /usr/local/lib/python3.10/dist-packages (from lightgbm) (0.40.0)\n",
            "Requirement already satisfied: numpy in /usr/local/lib/python3.10/dist-packages (from lightgbm) (1.22.4)\n",
            "Requirement already satisfied: scipy in /usr/local/lib/python3.10/dist-packages (from lightgbm) (1.10.1)\n",
            "Requirement already satisfied: scikit-learn!=0.22.0 in /usr/local/lib/python3.10/dist-packages (from lightgbm) (1.2.2)\n",
            "Requirement already satisfied: joblib>=1.1.1 in /usr/local/lib/python3.10/dist-packages (from scikit-learn!=0.22.0->lightgbm) (1.2.0)\n",
            "Requirement already satisfied: threadpoolctl>=2.0.0 in /usr/local/lib/python3.10/dist-packages (from scikit-learn!=0.22.0->lightgbm) (3.1.0)\n",
            "Collecting catboost\n",
            "  Downloading catboost-1.2-cp310-cp310-manylinux2014_x86_64.whl (98.6 MB)\n",
            "\u001b[2K     \u001b[90m━━━━━━━━━━━━━━━━━━━━━━━━━━━━━━━━━━━━━━━━\u001b[0m \u001b[32m98.6/98.6 MB\u001b[0m \u001b[31m8.6 MB/s\u001b[0m eta \u001b[36m0:00:00\u001b[0m\n",
            "\u001b[?25hRequirement already satisfied: graphviz in /usr/local/lib/python3.10/dist-packages (from catboost) (0.20.1)\n",
            "Requirement already satisfied: matplotlib in /usr/local/lib/python3.10/dist-packages (from catboost) (3.7.1)\n",
            "Requirement already satisfied: numpy>=1.16.0 in /usr/local/lib/python3.10/dist-packages (from catboost) (1.22.4)\n",
            "Requirement already satisfied: pandas>=0.24 in /usr/local/lib/python3.10/dist-packages (from catboost) (1.5.3)\n",
            "Requirement already satisfied: scipy in /usr/local/lib/python3.10/dist-packages (from catboost) (1.10.1)\n",
            "Requirement already satisfied: plotly in /usr/local/lib/python3.10/dist-packages (from catboost) (5.13.1)\n",
            "Requirement already satisfied: six in /usr/local/lib/python3.10/dist-packages (from catboost) (1.16.0)\n",
            "Requirement already satisfied: python-dateutil>=2.8.1 in /usr/local/lib/python3.10/dist-packages (from pandas>=0.24->catboost) (2.8.2)\n",
            "Requirement already satisfied: pytz>=2020.1 in /usr/local/lib/python3.10/dist-packages (from pandas>=0.24->catboost) (2022.7.1)\n",
            "Requirement already satisfied: contourpy>=1.0.1 in /usr/local/lib/python3.10/dist-packages (from matplotlib->catboost) (1.1.0)\n",
            "Requirement already satisfied: cycler>=0.10 in /usr/local/lib/python3.10/dist-packages (from matplotlib->catboost) (0.11.0)\n",
            "Requirement already satisfied: fonttools>=4.22.0 in /usr/local/lib/python3.10/dist-packages (from matplotlib->catboost) (4.40.0)\n",
            "Requirement already satisfied: kiwisolver>=1.0.1 in /usr/local/lib/python3.10/dist-packages (from matplotlib->catboost) (1.4.4)\n",
            "Requirement already satisfied: packaging>=20.0 in /usr/local/lib/python3.10/dist-packages (from matplotlib->catboost) (23.1)\n",
            "Requirement already satisfied: pillow>=6.2.0 in /usr/local/lib/python3.10/dist-packages (from matplotlib->catboost) (8.4.0)\n",
            "Requirement already satisfied: pyparsing>=2.3.1 in /usr/local/lib/python3.10/dist-packages (from matplotlib->catboost) (3.1.0)\n",
            "Requirement already satisfied: tenacity>=6.2.0 in /usr/local/lib/python3.10/dist-packages (from plotly->catboost) (8.2.2)\n",
            "Installing collected packages: catboost\n",
            "Successfully installed catboost-1.2\n"
          ]
        }
      ]
    },
    {
      "cell_type": "code",
      "execution_count": 2,
      "metadata": {
        "id": "KpzitYwjizu3"
      },
      "outputs": [],
      "source": [
        "import pandas as pd\n",
        "import numpy as np\n",
        "from sklearn.preprocessing import LabelEncoder\n",
        "from sklearn.preprocessing import OneHotEncoder\n",
        "from sklearn.preprocessing import StandardScaler\n",
        "from sklearn.compose import ColumnTransformer\n",
        "from sklearn.model_selection import train_test_split\n",
        "from sklearn.metrics import accuracy_score, confusion_matrix, classification_report\n",
        "from sklearn.model_selection import GridSearchCV\n",
        "from sklearn.model_selection import KFold\n",
        "from sklearn.model_selection import cross_val_score\n",
        "from sklearn.naive_bayes import GaussianNB\n",
        "from sklearn.svm import SVC\n",
        "from sklearn.linear_model import LogisticRegression\n",
        "from sklearn.neighbors import KNeighborsClassifier\n",
        "from sklearn.tree import DecisionTreeClassifier\n",
        "from sklearn.ensemble import RandomForestClassifier\n",
        "from xgboost import XGBClassifier\n",
        "import lightgbm as lgb\n",
        "from catboost import CatBoostClassifier"
      ]
    },
    {
      "cell_type": "code",
      "source": [
        "df = pd.read_csv('Churn_Modelling_Tratado.csv', sep=';', encoding='utf-8')"
      ],
      "metadata": {
        "id": "bNpajxpYk8Ps"
      },
      "execution_count": 3,
      "outputs": []
    },
    {
      "cell_type": "code",
      "source": [
        "df.head()"
      ],
      "metadata": {
        "colab": {
          "base_uri": "https://localhost:8080/",
          "height": 206
        },
        "id": "jteQerhvlNJL",
        "outputId": "32154e90-4fb5-447a-aecf-f524ae65ddcb"
      },
      "execution_count": 4,
      "outputs": [
        {
          "output_type": "execute_result",
          "data": {
            "text/plain": [
              "   RowNumber  CustomerId   Surname  CreditScore Geography  Gender  Age  \\\n",
              "0          1    15634602  Hargrave          619    France  Female   42   \n",
              "1          2    15647311      Hill          608     Spain  Female   41   \n",
              "2          3    15619304      Onio          502    France  Female   42   \n",
              "3          4    15701354      Boni          699    France  Female   39   \n",
              "4          5    15737888  Mitchell          850     Spain  Female   43   \n",
              "\n",
              "   Tenure    Balance  NumOfProducts  HasCrCard  IsActiveMember  \\\n",
              "0       2       0.00              1          1               1   \n",
              "1       1   83807.86              1          0               1   \n",
              "2       8  159660.80              3          1               0   \n",
              "3       1       0.00              2          0               0   \n",
              "4       2  125510.82              1          1               1   \n",
              "\n",
              "   EstimatedSalary  Exited  \n",
              "0        101348.88       1  \n",
              "1        112542.58       0  \n",
              "2        113931.57       1  \n",
              "3         93826.63       0  \n",
              "4         79084.10       0  "
            ],
            "text/html": [
              "\n",
              "  <div id=\"df-d4127b30-a39c-415a-9ae1-c8fd06cb6815\">\n",
              "    <div class=\"colab-df-container\">\n",
              "      <div>\n",
              "<style scoped>\n",
              "    .dataframe tbody tr th:only-of-type {\n",
              "        vertical-align: middle;\n",
              "    }\n",
              "\n",
              "    .dataframe tbody tr th {\n",
              "        vertical-align: top;\n",
              "    }\n",
              "\n",
              "    .dataframe thead th {\n",
              "        text-align: right;\n",
              "    }\n",
              "</style>\n",
              "<table border=\"1\" class=\"dataframe\">\n",
              "  <thead>\n",
              "    <tr style=\"text-align: right;\">\n",
              "      <th></th>\n",
              "      <th>RowNumber</th>\n",
              "      <th>CustomerId</th>\n",
              "      <th>Surname</th>\n",
              "      <th>CreditScore</th>\n",
              "      <th>Geography</th>\n",
              "      <th>Gender</th>\n",
              "      <th>Age</th>\n",
              "      <th>Tenure</th>\n",
              "      <th>Balance</th>\n",
              "      <th>NumOfProducts</th>\n",
              "      <th>HasCrCard</th>\n",
              "      <th>IsActiveMember</th>\n",
              "      <th>EstimatedSalary</th>\n",
              "      <th>Exited</th>\n",
              "    </tr>\n",
              "  </thead>\n",
              "  <tbody>\n",
              "    <tr>\n",
              "      <th>0</th>\n",
              "      <td>1</td>\n",
              "      <td>15634602</td>\n",
              "      <td>Hargrave</td>\n",
              "      <td>619</td>\n",
              "      <td>France</td>\n",
              "      <td>Female</td>\n",
              "      <td>42</td>\n",
              "      <td>2</td>\n",
              "      <td>0.00</td>\n",
              "      <td>1</td>\n",
              "      <td>1</td>\n",
              "      <td>1</td>\n",
              "      <td>101348.88</td>\n",
              "      <td>1</td>\n",
              "    </tr>\n",
              "    <tr>\n",
              "      <th>1</th>\n",
              "      <td>2</td>\n",
              "      <td>15647311</td>\n",
              "      <td>Hill</td>\n",
              "      <td>608</td>\n",
              "      <td>Spain</td>\n",
              "      <td>Female</td>\n",
              "      <td>41</td>\n",
              "      <td>1</td>\n",
              "      <td>83807.86</td>\n",
              "      <td>1</td>\n",
              "      <td>0</td>\n",
              "      <td>1</td>\n",
              "      <td>112542.58</td>\n",
              "      <td>0</td>\n",
              "    </tr>\n",
              "    <tr>\n",
              "      <th>2</th>\n",
              "      <td>3</td>\n",
              "      <td>15619304</td>\n",
              "      <td>Onio</td>\n",
              "      <td>502</td>\n",
              "      <td>France</td>\n",
              "      <td>Female</td>\n",
              "      <td>42</td>\n",
              "      <td>8</td>\n",
              "      <td>159660.80</td>\n",
              "      <td>3</td>\n",
              "      <td>1</td>\n",
              "      <td>0</td>\n",
              "      <td>113931.57</td>\n",
              "      <td>1</td>\n",
              "    </tr>\n",
              "    <tr>\n",
              "      <th>3</th>\n",
              "      <td>4</td>\n",
              "      <td>15701354</td>\n",
              "      <td>Boni</td>\n",
              "      <td>699</td>\n",
              "      <td>France</td>\n",
              "      <td>Female</td>\n",
              "      <td>39</td>\n",
              "      <td>1</td>\n",
              "      <td>0.00</td>\n",
              "      <td>2</td>\n",
              "      <td>0</td>\n",
              "      <td>0</td>\n",
              "      <td>93826.63</td>\n",
              "      <td>0</td>\n",
              "    </tr>\n",
              "    <tr>\n",
              "      <th>4</th>\n",
              "      <td>5</td>\n",
              "      <td>15737888</td>\n",
              "      <td>Mitchell</td>\n",
              "      <td>850</td>\n",
              "      <td>Spain</td>\n",
              "      <td>Female</td>\n",
              "      <td>43</td>\n",
              "      <td>2</td>\n",
              "      <td>125510.82</td>\n",
              "      <td>1</td>\n",
              "      <td>1</td>\n",
              "      <td>1</td>\n",
              "      <td>79084.10</td>\n",
              "      <td>0</td>\n",
              "    </tr>\n",
              "  </tbody>\n",
              "</table>\n",
              "</div>\n",
              "      <button class=\"colab-df-convert\" onclick=\"convertToInteractive('df-d4127b30-a39c-415a-9ae1-c8fd06cb6815')\"\n",
              "              title=\"Convert this dataframe to an interactive table.\"\n",
              "              style=\"display:none;\">\n",
              "        \n",
              "  <svg xmlns=\"http://www.w3.org/2000/svg\" height=\"24px\"viewBox=\"0 0 24 24\"\n",
              "       width=\"24px\">\n",
              "    <path d=\"M0 0h24v24H0V0z\" fill=\"none\"/>\n",
              "    <path d=\"M18.56 5.44l.94 2.06.94-2.06 2.06-.94-2.06-.94-.94-2.06-.94 2.06-2.06.94zm-11 1L8.5 8.5l.94-2.06 2.06-.94-2.06-.94L8.5 2.5l-.94 2.06-2.06.94zm10 10l.94 2.06.94-2.06 2.06-.94-2.06-.94-.94-2.06-.94 2.06-2.06.94z\"/><path d=\"M17.41 7.96l-1.37-1.37c-.4-.4-.92-.59-1.43-.59-.52 0-1.04.2-1.43.59L10.3 9.45l-7.72 7.72c-.78.78-.78 2.05 0 2.83L4 21.41c.39.39.9.59 1.41.59.51 0 1.02-.2 1.41-.59l7.78-7.78 2.81-2.81c.8-.78.8-2.07 0-2.86zM5.41 20L4 18.59l7.72-7.72 1.47 1.35L5.41 20z\"/>\n",
              "  </svg>\n",
              "      </button>\n",
              "      \n",
              "  <style>\n",
              "    .colab-df-container {\n",
              "      display:flex;\n",
              "      flex-wrap:wrap;\n",
              "      gap: 12px;\n",
              "    }\n",
              "\n",
              "    .colab-df-convert {\n",
              "      background-color: #E8F0FE;\n",
              "      border: none;\n",
              "      border-radius: 50%;\n",
              "      cursor: pointer;\n",
              "      display: none;\n",
              "      fill: #1967D2;\n",
              "      height: 32px;\n",
              "      padding: 0 0 0 0;\n",
              "      width: 32px;\n",
              "    }\n",
              "\n",
              "    .colab-df-convert:hover {\n",
              "      background-color: #E2EBFA;\n",
              "      box-shadow: 0px 1px 2px rgba(60, 64, 67, 0.3), 0px 1px 3px 1px rgba(60, 64, 67, 0.15);\n",
              "      fill: #174EA6;\n",
              "    }\n",
              "\n",
              "    [theme=dark] .colab-df-convert {\n",
              "      background-color: #3B4455;\n",
              "      fill: #D2E3FC;\n",
              "    }\n",
              "\n",
              "    [theme=dark] .colab-df-convert:hover {\n",
              "      background-color: #434B5C;\n",
              "      box-shadow: 0px 1px 3px 1px rgba(0, 0, 0, 0.15);\n",
              "      filter: drop-shadow(0px 1px 2px rgba(0, 0, 0, 0.3));\n",
              "      fill: #FFFFFF;\n",
              "    }\n",
              "  </style>\n",
              "\n",
              "      <script>\n",
              "        const buttonEl =\n",
              "          document.querySelector('#df-d4127b30-a39c-415a-9ae1-c8fd06cb6815 button.colab-df-convert');\n",
              "        buttonEl.style.display =\n",
              "          google.colab.kernel.accessAllowed ? 'block' : 'none';\n",
              "\n",
              "        async function convertToInteractive(key) {\n",
              "          const element = document.querySelector('#df-d4127b30-a39c-415a-9ae1-c8fd06cb6815');\n",
              "          const dataTable =\n",
              "            await google.colab.kernel.invokeFunction('convertToInteractive',\n",
              "                                                     [key], {});\n",
              "          if (!dataTable) return;\n",
              "\n",
              "          const docLinkHtml = 'Like what you see? Visit the ' +\n",
              "            '<a target=\"_blank\" href=https://colab.research.google.com/notebooks/data_table.ipynb>data table notebook</a>'\n",
              "            + ' to learn more about interactive tables.';\n",
              "          element.innerHTML = '';\n",
              "          dataTable['output_type'] = 'display_data';\n",
              "          await google.colab.output.renderOutput(dataTable, element);\n",
              "          const docLink = document.createElement('div');\n",
              "          docLink.innerHTML = docLinkHtml;\n",
              "          element.appendChild(docLink);\n",
              "        }\n",
              "      </script>\n",
              "    </div>\n",
              "  </div>\n",
              "  "
            ]
          },
          "metadata": {},
          "execution_count": 4
        }
      ]
    },
    {
      "cell_type": "code",
      "source": [
        "df.info()"
      ],
      "metadata": {
        "colab": {
          "base_uri": "https://localhost:8080/"
        },
        "id": "kCiBFSP-lRiQ",
        "outputId": "ddd040a6-b73a-4ae1-9c6d-46a275f84541"
      },
      "execution_count": 5,
      "outputs": [
        {
          "output_type": "stream",
          "name": "stdout",
          "text": [
            "<class 'pandas.core.frame.DataFrame'>\n",
            "RangeIndex: 10000 entries, 0 to 9999\n",
            "Data columns (total 14 columns):\n",
            " #   Column           Non-Null Count  Dtype  \n",
            "---  ------           --------------  -----  \n",
            " 0   RowNumber        10000 non-null  int64  \n",
            " 1   CustomerId       10000 non-null  int64  \n",
            " 2   Surname          10000 non-null  object \n",
            " 3   CreditScore      10000 non-null  int64  \n",
            " 4   Geography        10000 non-null  object \n",
            " 5   Gender           10000 non-null  object \n",
            " 6   Age              10000 non-null  int64  \n",
            " 7   Tenure           10000 non-null  int64  \n",
            " 8   Balance          10000 non-null  float64\n",
            " 9   NumOfProducts    10000 non-null  int64  \n",
            " 10  HasCrCard        10000 non-null  int64  \n",
            " 11  IsActiveMember   10000 non-null  int64  \n",
            " 12  EstimatedSalary  10000 non-null  float64\n",
            " 13  Exited           10000 non-null  int64  \n",
            "dtypes: float64(2), int64(9), object(3)\n",
            "memory usage: 1.1+ MB\n"
          ]
        }
      ]
    },
    {
      "cell_type": "code",
      "source": [
        "df.shape"
      ],
      "metadata": {
        "colab": {
          "base_uri": "https://localhost:8080/"
        },
        "id": "Js_w8gqblTzp",
        "outputId": "db0ea319-6a52-4bbb-cec6-84a79df35415"
      },
      "execution_count": 6,
      "outputs": [
        {
          "output_type": "execute_result",
          "data": {
            "text/plain": [
              "(10000, 14)"
            ]
          },
          "metadata": {},
          "execution_count": 6
        }
      ]
    },
    {
      "cell_type": "markdown",
      "source": [
        "Removendo colunas que não serão necessárias para o modelo de predição"
      ],
      "metadata": {
        "id": "fZUf8vw4mq5r"
      }
    },
    {
      "cell_type": "code",
      "source": [
        "df = df.drop(['RowNumber', 'CustomerId', 'Surname', 'Tenure', 'EstimatedSalary'], axis = 1)"
      ],
      "metadata": {
        "id": "X0X1VzOnmwts"
      },
      "execution_count": 7,
      "outputs": []
    },
    {
      "cell_type": "code",
      "source": [
        "df.info()"
      ],
      "metadata": {
        "colab": {
          "base_uri": "https://localhost:8080/"
        },
        "id": "ArEkDZp0nBuK",
        "outputId": "e5fe9946-798a-4d2a-d746-1f978b8a35f5"
      },
      "execution_count": 8,
      "outputs": [
        {
          "output_type": "stream",
          "name": "stdout",
          "text": [
            "<class 'pandas.core.frame.DataFrame'>\n",
            "RangeIndex: 10000 entries, 0 to 9999\n",
            "Data columns (total 9 columns):\n",
            " #   Column          Non-Null Count  Dtype  \n",
            "---  ------          --------------  -----  \n",
            " 0   CreditScore     10000 non-null  int64  \n",
            " 1   Geography       10000 non-null  object \n",
            " 2   Gender          10000 non-null  object \n",
            " 3   Age             10000 non-null  int64  \n",
            " 4   Balance         10000 non-null  float64\n",
            " 5   NumOfProducts   10000 non-null  int64  \n",
            " 6   HasCrCard       10000 non-null  int64  \n",
            " 7   IsActiveMember  10000 non-null  int64  \n",
            " 8   Exited          10000 non-null  int64  \n",
            "dtypes: float64(1), int64(6), object(2)\n",
            "memory usage: 703.2+ KB\n"
          ]
        }
      ]
    },
    {
      "cell_type": "markdown",
      "source": [
        "## 1.1 - LabelEncoder: transformação de variáveis categóricas em numéricas"
      ],
      "metadata": {
        "id": "9zJVV4M7lio1"
      }
    },
    {
      "cell_type": "markdown",
      "source": [
        "O LabelEncoder é um método de pré-processamento que pode converter variáveis categóricas em números. A razão pela qual muitos algoritmos de aprendizado de máquina não podem lidar diretamente com variáveis categóricas é que isso é crucial. O LabelEncoder transforma cada categoria individual em uma variável categórica com um número inteiro. No entanto, você deve ter em mente que o LabelEncoder não deve ser usado em variáveis categóricas ordinais. Isso pode levar o modelo a entender a ordem dos valores de forma errada."
      ],
      "metadata": {
        "id": "Hq1K9j8dYjXY"
      }
    },
    {
      "cell_type": "markdown",
      "source": [
        "Definindo as variáveis previsoras"
      ],
      "metadata": {
        "id": "S5HPWm9bmIV3"
      }
    },
    {
      "cell_type": "code",
      "source": [
        "previsores = df.iloc[:, 0:8].values"
      ],
      "metadata": {
        "id": "SmCndqZOl4o3"
      },
      "execution_count": 9,
      "outputs": []
    },
    {
      "cell_type": "code",
      "source": [
        "previsores"
      ],
      "metadata": {
        "colab": {
          "base_uri": "https://localhost:8080/"
        },
        "id": "otaqbiTPl_y3",
        "outputId": "931ff218-e283-4ea7-d0d0-1b15f3525051"
      },
      "execution_count": 10,
      "outputs": [
        {
          "output_type": "execute_result",
          "data": {
            "text/plain": [
              "array([[619, 'France', 'Female', ..., 1, 1, 1],\n",
              "       [608, 'Spain', 'Female', ..., 1, 0, 1],\n",
              "       [502, 'France', 'Female', ..., 3, 1, 0],\n",
              "       ...,\n",
              "       [709, 'France', 'Female', ..., 1, 0, 1],\n",
              "       [772, 'Germany', 'Male', ..., 2, 1, 0],\n",
              "       [792, 'France', 'Female', ..., 1, 1, 0]], dtype=object)"
            ]
          },
          "metadata": {},
          "execution_count": 10
        }
      ]
    },
    {
      "cell_type": "markdown",
      "source": [
        "Definindo a variável alvo"
      ],
      "metadata": {
        "id": "7qdaHjLjmMfv"
      }
    },
    {
      "cell_type": "code",
      "source": [
        "alvo = df.iloc[:, 8].values"
      ],
      "metadata": {
        "id": "NuOEkvLgmGfs"
      },
      "execution_count": 11,
      "outputs": []
    },
    {
      "cell_type": "code",
      "source": [
        "alvo"
      ],
      "metadata": {
        "colab": {
          "base_uri": "https://localhost:8080/"
        },
        "id": "3BLfQo30mXEI",
        "outputId": "db704d35-fbf1-4129-dead-e8f2cc50464a"
      },
      "execution_count": 12,
      "outputs": [
        {
          "output_type": "execute_result",
          "data": {
            "text/plain": [
              "array([1, 0, 1, ..., 1, 1, 0])"
            ]
          },
          "metadata": {},
          "execution_count": 12
        }
      ]
    },
    {
      "cell_type": "code",
      "source": [
        "previsores.shape, alvo.shape"
      ],
      "metadata": {
        "colab": {
          "base_uri": "https://localhost:8080/"
        },
        "id": "x1Koypc6mbeh",
        "outputId": "24b26474-c6ef-4bcf-ea1c-21f499853f76"
      },
      "execution_count": 13,
      "outputs": [
        {
          "output_type": "execute_result",
          "data": {
            "text/plain": [
              "((10000, 8), (10000,))"
            ]
          },
          "metadata": {},
          "execution_count": 13
        }
      ]
    },
    {
      "cell_type": "markdown",
      "source": [
        "Transformando as variáveis categóricas em númericas"
      ],
      "metadata": {
        "id": "TXfUpJI8mhb6"
      }
    },
    {
      "cell_type": "code",
      "source": [
        "previsores[:, 1] = LabelEncoder().fit_transform(previsores[:, 1])\n",
        "previsores[:, 2] = LabelEncoder().fit_transform(previsores[:, 2])"
      ],
      "metadata": {
        "id": "HO_XNW5amh9J"
      },
      "execution_count": 14,
      "outputs": []
    },
    {
      "cell_type": "code",
      "source": [
        "previsores"
      ],
      "metadata": {
        "colab": {
          "base_uri": "https://localhost:8080/"
        },
        "id": "88CJJSubn1Hx",
        "outputId": "edf55346-74e8-4e6c-da8a-c7c73155b50c"
      },
      "execution_count": 15,
      "outputs": [
        {
          "output_type": "execute_result",
          "data": {
            "text/plain": [
              "array([[619, 0, 0, ..., 1, 1, 1],\n",
              "       [608, 2, 0, ..., 1, 0, 1],\n",
              "       [502, 0, 0, ..., 3, 1, 0],\n",
              "       ...,\n",
              "       [709, 0, 0, ..., 1, 0, 1],\n",
              "       [772, 1, 1, ..., 2, 1, 0],\n",
              "       [792, 0, 0, ..., 1, 1, 0]], dtype=object)"
            ]
          },
          "metadata": {},
          "execution_count": 15
        }
      ]
    },
    {
      "cell_type": "code",
      "source": [
        "previsores.shape"
      ],
      "metadata": {
        "colab": {
          "base_uri": "https://localhost:8080/"
        },
        "id": "tM96qNLhpHvt",
        "outputId": "28245dfc-3587-4648-9a92-04922505c6a1"
      },
      "execution_count": 16,
      "outputs": [
        {
          "output_type": "execute_result",
          "data": {
            "text/plain": [
              "(10000, 8)"
            ]
          },
          "metadata": {},
          "execution_count": 16
        }
      ]
    },
    {
      "cell_type": "markdown",
      "source": [
        "## 1.2 - OneHotEncoder: Criação de váriaveis Dummy"
      ],
      "metadata": {
        "id": "usJ1QAKWoPFG"
      }
    },
    {
      "cell_type": "markdown",
      "source": [
        "As variáveis que não podem ser medidas numericamente, como a cor dos olhos ou o tipo de carro, são chamadas de variáveis categóricas. Os algoritmos de machine learning exigem que todas as entradas sejam numéricas, então são criadas variáveis dummy para mostrar as variáveis categóricas como números."
      ],
      "metadata": {
        "id": "S9FeEnr3Ynzf"
      }
    },
    {
      "cell_type": "code",
      "source": [
        "previsores2 = ColumnTransformer(transformers=[('OneHot', OneHotEncoder(), [0, 1, 2, 3, 4, 5, 6, 7])], remainder='passthrough').fit_transform(previsores)"
      ],
      "metadata": {
        "id": "G0TYIuLkoQ8q"
      },
      "execution_count": 17,
      "outputs": []
    },
    {
      "cell_type": "code",
      "source": [
        "previsores2"
      ],
      "metadata": {
        "colab": {
          "base_uri": "https://localhost:8080/"
        },
        "id": "GXwStmY_ppC_",
        "outputId": "0f12b177-9ca5-406b-c2b9-c46b17cf2d0b"
      },
      "execution_count": 18,
      "outputs": [
        {
          "output_type": "execute_result",
          "data": {
            "text/plain": [
              "<10000x6925 sparse matrix of type '<class 'numpy.float64'>'\n",
              "\twith 80000 stored elements in Compressed Sparse Row format>"
            ]
          },
          "metadata": {},
          "execution_count": 18
        }
      ]
    },
    {
      "cell_type": "code",
      "source": [
        "previsores2.shape"
      ],
      "metadata": {
        "colab": {
          "base_uri": "https://localhost:8080/"
        },
        "id": "Ln3fWmFqprgd",
        "outputId": "8be11c6e-d579-4382-bc51-3e7581a2d492"
      },
      "execution_count": 19,
      "outputs": [
        {
          "output_type": "execute_result",
          "data": {
            "text/plain": [
              "(10000, 6925)"
            ]
          },
          "metadata": {},
          "execution_count": 19
        }
      ]
    },
    {
      "cell_type": "markdown",
      "source": [
        "## 1.3 - Escalonamento"
      ],
      "metadata": {
        "id": "bbgVB_JzpybM"
      }
    },
    {
      "cell_type": "markdown",
      "source": [
        "Agora será necessário fazer o escalonamento, devido ao fato de que muitos algoritmos de machine learning usam distâncias entre pontos de dados para determinar a similaridade entre eles, a normalização é crucial. As características podem ter um peso maior do que outras se suas escalas não forem iguais. Isso pode resultar em resultados errôneos ou imprecisos."
      ],
      "metadata": {
        "id": "mdHwIJhiYrRJ"
      }
    },
    {
      "cell_type": "code",
      "source": [
        "previsores2_esc = StandardScaler(with_mean=False).fit_transform(previsores2)"
      ],
      "metadata": {
        "id": "fsaKSNO-p1cD"
      },
      "execution_count": 20,
      "outputs": []
    },
    {
      "cell_type": "code",
      "source": [
        "previsores2_esc.shape"
      ],
      "metadata": {
        "colab": {
          "base_uri": "https://localhost:8080/"
        },
        "id": "gze6ZreyqGZS",
        "outputId": "b118a332-dfbf-466a-cfc1-baf859fa9268"
      },
      "execution_count": 21,
      "outputs": [
        {
          "output_type": "execute_result",
          "data": {
            "text/plain": [
              "(10000, 6925)"
            ]
          },
          "metadata": {},
          "execution_count": 21
        }
      ]
    },
    {
      "cell_type": "markdown",
      "source": [
        "## 1.4 - Separando em Treino e Teste"
      ],
      "metadata": {
        "id": "qanCSNBVqTXn"
      }
    },
    {
      "cell_type": "markdown",
      "source": [
        "A divisão do conjunto de dados em treino e teste é fundamental para avaliar o desempenho do modelo. O modelo é ajustado aos dados por meio do conjunto de treinamento, enquanto o desempenho do modelo em dados não vistos é avaliado pelo conjunto de teste. O overfitting, que ocorre quando o modelo se ajusta muito bem aos dados de treinamento mas não generaliza bem para novos dados, pode ser evitado separando os dados de teste e de treinamento. A separação dos dados em treinamento e teste também ajuda na avaliação de vários modelos e na seleção do modelo mais adequado para os dados."
      ],
      "metadata": {
        "id": "djbh74V9Yv7L"
      }
    },
    {
      "cell_type": "code",
      "source": [
        "X_treino, X_teste, y_treino, y_teste = train_test_split(previsores2, alvo, test_size=0.2, random_state = 1, stratify = alvo)"
      ],
      "metadata": {
        "id": "XlW1fBmEqWBe"
      },
      "execution_count": 28,
      "outputs": []
    },
    {
      "cell_type": "code",
      "source": [
        "X_treino.shape, X_teste.shape, y_treino.shape, y_teste.shape"
      ],
      "metadata": {
        "colab": {
          "base_uri": "https://localhost:8080/"
        },
        "id": "vpgyVd7LqsPs",
        "outputId": "0ffae212-f968-426d-bdec-8d29fa9f997c"
      },
      "execution_count": 29,
      "outputs": [
        {
          "output_type": "execute_result",
          "data": {
            "text/plain": [
              "((8000, 6925), (2000, 6925), (8000,), (2000,))"
            ]
          },
          "metadata": {},
          "execution_count": 29
        }
      ]
    },
    {
      "cell_type": "markdown",
      "source": [
        "## 1.5 - Dataframes"
      ],
      "metadata": {
        "id": "ptT_7-teoYAt"
      }
    },
    {
      "cell_type": "markdown",
      "source": [
        "Previsores: Transformada as variáveis categóricas em númericas, aplicado apenas o Label Encoder.\n",
        "\n",
        "Previsores2: aplicada o OneHotEncoder, para criar Dummies das variáveis.\n",
        "\n",
        "previsores2_esc: São as previsores2, porém estão escalonadas(Normalizadas)."
      ],
      "metadata": {
        "id": "cHgkRsicodHx"
      }
    },
    {
      "cell_type": "markdown",
      "source": [
        "# 2 - Modelos Machine Learning"
      ],
      "metadata": {
        "id": "b0eFwW23q1Hx"
      }
    },
    {
      "cell_type": "markdown",
      "source": [
        "## 2.1 - Naive Bayes: Modelo Não consegue se adaptar ao problema"
      ],
      "metadata": {
        "id": "-5NAUK_Dq359"
      }
    },
    {
      "cell_type": "markdown",
      "source": [
        "O algoritmo de classificação Naive Bayes, que se baseia no Teorema de Bayes, é um classificador probabilístico. Ele é usado para organizar itens em diferentes categorias com base em suas características. O algoritmo assume que todas as características contribuem igualmente para a probabilidade de uma categoria específica e que as características são independentes umas das outras. Por exemplo, o Naive Bayes pode ser usado para classificar e-mails como spam ou não spam usando as palavras-chave presentes no e-mail."
      ],
      "metadata": {
        "id": "xeKWky6QY2Pu"
      }
    },
    {
      "cell_type": "markdown",
      "source": [
        "Treino"
      ],
      "metadata": {
        "id": "D3Nrs2oMrN__"
      }
    },
    {
      "cell_type": "code",
      "source": [
        "#Criando o modelo\n",
        "naive = GaussianNB()\n",
        "naive.fit(X_treino, y_treino)"
      ],
      "metadata": {
        "colab": {
          "base_uri": "https://localhost:8080/",
          "height": 75
        },
        "id": "NA91B3czrB2P",
        "outputId": "2d94da2c-59c1-4cc2-abea-f1227be790e8"
      },
      "execution_count": null,
      "outputs": [
        {
          "output_type": "execute_result",
          "data": {
            "text/plain": [
              "GaussianNB()"
            ],
            "text/html": [
              "<style>#sk-container-id-9 {color: black;background-color: white;}#sk-container-id-9 pre{padding: 0;}#sk-container-id-9 div.sk-toggleable {background-color: white;}#sk-container-id-9 label.sk-toggleable__label {cursor: pointer;display: block;width: 100%;margin-bottom: 0;padding: 0.3em;box-sizing: border-box;text-align: center;}#sk-container-id-9 label.sk-toggleable__label-arrow:before {content: \"▸\";float: left;margin-right: 0.25em;color: #696969;}#sk-container-id-9 label.sk-toggleable__label-arrow:hover:before {color: black;}#sk-container-id-9 div.sk-estimator:hover label.sk-toggleable__label-arrow:before {color: black;}#sk-container-id-9 div.sk-toggleable__content {max-height: 0;max-width: 0;overflow: hidden;text-align: left;background-color: #f0f8ff;}#sk-container-id-9 div.sk-toggleable__content pre {margin: 0.2em;color: black;border-radius: 0.25em;background-color: #f0f8ff;}#sk-container-id-9 input.sk-toggleable__control:checked~div.sk-toggleable__content {max-height: 200px;max-width: 100%;overflow: auto;}#sk-container-id-9 input.sk-toggleable__control:checked~label.sk-toggleable__label-arrow:before {content: \"▾\";}#sk-container-id-9 div.sk-estimator input.sk-toggleable__control:checked~label.sk-toggleable__label {background-color: #d4ebff;}#sk-container-id-9 div.sk-label input.sk-toggleable__control:checked~label.sk-toggleable__label {background-color: #d4ebff;}#sk-container-id-9 input.sk-hidden--visually {border: 0;clip: rect(1px 1px 1px 1px);clip: rect(1px, 1px, 1px, 1px);height: 1px;margin: -1px;overflow: hidden;padding: 0;position: absolute;width: 1px;}#sk-container-id-9 div.sk-estimator {font-family: monospace;background-color: #f0f8ff;border: 1px dotted black;border-radius: 0.25em;box-sizing: border-box;margin-bottom: 0.5em;}#sk-container-id-9 div.sk-estimator:hover {background-color: #d4ebff;}#sk-container-id-9 div.sk-parallel-item::after {content: \"\";width: 100%;border-bottom: 1px solid gray;flex-grow: 1;}#sk-container-id-9 div.sk-label:hover label.sk-toggleable__label {background-color: #d4ebff;}#sk-container-id-9 div.sk-serial::before {content: \"\";position: absolute;border-left: 1px solid gray;box-sizing: border-box;top: 0;bottom: 0;left: 50%;z-index: 0;}#sk-container-id-9 div.sk-serial {display: flex;flex-direction: column;align-items: center;background-color: white;padding-right: 0.2em;padding-left: 0.2em;position: relative;}#sk-container-id-9 div.sk-item {position: relative;z-index: 1;}#sk-container-id-9 div.sk-parallel {display: flex;align-items: stretch;justify-content: center;background-color: white;position: relative;}#sk-container-id-9 div.sk-item::before, #sk-container-id-9 div.sk-parallel-item::before {content: \"\";position: absolute;border-left: 1px solid gray;box-sizing: border-box;top: 0;bottom: 0;left: 50%;z-index: -1;}#sk-container-id-9 div.sk-parallel-item {display: flex;flex-direction: column;z-index: 1;position: relative;background-color: white;}#sk-container-id-9 div.sk-parallel-item:first-child::after {align-self: flex-end;width: 50%;}#sk-container-id-9 div.sk-parallel-item:last-child::after {align-self: flex-start;width: 50%;}#sk-container-id-9 div.sk-parallel-item:only-child::after {width: 0;}#sk-container-id-9 div.sk-dashed-wrapped {border: 1px dashed gray;margin: 0 0.4em 0.5em 0.4em;box-sizing: border-box;padding-bottom: 0.4em;background-color: white;}#sk-container-id-9 div.sk-label label {font-family: monospace;font-weight: bold;display: inline-block;line-height: 1.2em;}#sk-container-id-9 div.sk-label-container {text-align: center;}#sk-container-id-9 div.sk-container {/* jupyter's `normalize.less` sets `[hidden] { display: none; }` but bootstrap.min.css set `[hidden] { display: none !important; }` so we also need the `!important` here to be able to override the default hidden behavior on the sphinx rendered scikit-learn.org. See: https://github.com/scikit-learn/scikit-learn/issues/21755 */display: inline-block !important;position: relative;}#sk-container-id-9 div.sk-text-repr-fallback {display: none;}</style><div id=\"sk-container-id-9\" class=\"sk-top-container\"><div class=\"sk-text-repr-fallback\"><pre>GaussianNB()</pre><b>In a Jupyter environment, please rerun this cell to show the HTML representation or trust the notebook. <br />On GitHub, the HTML representation is unable to render, please try loading this page with nbviewer.org.</b></div><div class=\"sk-container\" hidden><div class=\"sk-item\"><div class=\"sk-estimator sk-toggleable\"><input class=\"sk-toggleable__control sk-hidden--visually\" id=\"sk-estimator-id-9\" type=\"checkbox\" checked><label for=\"sk-estimator-id-9\" class=\"sk-toggleable__label sk-toggleable__label-arrow\">GaussianNB</label><div class=\"sk-toggleable__content\"><pre>GaussianNB()</pre></div></div></div></div></div>"
            ]
          },
          "metadata": {},
          "execution_count": 52
        }
      ]
    },
    {
      "cell_type": "markdown",
      "source": [
        "Avaliação"
      ],
      "metadata": {
        "id": "wCNNdiP-rMwL"
      }
    },
    {
      "cell_type": "code",
      "source": [
        "#Fazendo as previsões e salvando na variável \"previsoes_naive\"\n",
        "previsao_naive = naive.predict(X_teste)\n",
        "previsao_naive"
      ],
      "metadata": {
        "colab": {
          "base_uri": "https://localhost:8080/"
        },
        "id": "4jgrmOAyrKz0",
        "outputId": "209eeb6e-a7f0-4e62-92ad-33a4e7481ab2"
      },
      "execution_count": null,
      "outputs": [
        {
          "output_type": "execute_result",
          "data": {
            "text/plain": [
              "array([0, 0, 0, ..., 0, 0, 0])"
            ]
          },
          "metadata": {},
          "execution_count": 53
        }
      ]
    },
    {
      "cell_type": "code",
      "source": [
        "y_teste"
      ],
      "metadata": {
        "colab": {
          "base_uri": "https://localhost:8080/"
        },
        "id": "q6tjvXSfrfHQ",
        "outputId": "f479692e-8181-4e4e-e416-241f02bf5513"
      },
      "execution_count": null,
      "outputs": [
        {
          "output_type": "execute_result",
          "data": {
            "text/plain": [
              "array([0, 0, 0, ..., 1, 0, 0])"
            ]
          },
          "metadata": {},
          "execution_count": 54
        }
      ]
    },
    {
      "cell_type": "code",
      "source": [
        "#Verificando a acurácia do modelo\n",
        "accuracy_score(y_teste, previsao_naive)"
      ],
      "metadata": {
        "colab": {
          "base_uri": "https://localhost:8080/"
        },
        "id": "QcD-VfuCrhVF",
        "outputId": "91233411-a77a-4a78-ea08-7890b3021dc5"
      },
      "execution_count": null,
      "outputs": [
        {
          "output_type": "execute_result",
          "data": {
            "text/plain": [
              "0.79"
            ]
          },
          "metadata": {},
          "execution_count": 55
        }
      ]
    },
    {
      "cell_type": "code",
      "source": [
        "#Matriz de confusão\n",
        "confusion_matrix(y_teste, previsao_naive)"
      ],
      "metadata": {
        "colab": {
          "base_uri": "https://localhost:8080/"
        },
        "id": "Lf-FghC0rqlK",
        "outputId": "4a2b3cc1-e858-4a9e-ed57-2d61fc4776e9"
      },
      "execution_count": null,
      "outputs": [
        {
          "output_type": "execute_result",
          "data": {
            "text/plain": [
              "array([[1547,   46],\n",
              "       [ 374,   33]])"
            ]
          },
          "metadata": {},
          "execution_count": 45
        }
      ]
    },
    {
      "cell_type": "code",
      "source": [
        "#Relatório de classificação.\n",
        "print(classification_report(y_teste, previsao_naive))"
      ],
      "metadata": {
        "colab": {
          "base_uri": "https://localhost:8080/"
        },
        "id": "n0JHYiT2sIw2",
        "outputId": "66e6e269-26fd-4cce-933a-8c6322a546a7"
      },
      "execution_count": null,
      "outputs": [
        {
          "output_type": "stream",
          "name": "stdout",
          "text": [
            "              precision    recall  f1-score   support\n",
            "\n",
            "           0       0.81      0.97      0.88      1593\n",
            "           1       0.42      0.08      0.14       407\n",
            "\n",
            "    accuracy                           0.79      2000\n",
            "   macro avg       0.61      0.53      0.51      2000\n",
            "weighted avg       0.73      0.79      0.73      2000\n",
            "\n"
          ]
        }
      ]
    },
    {
      "cell_type": "markdown",
      "source": [
        "análise dados de treino"
      ],
      "metadata": {
        "id": "DUC5ZAB1sUeF"
      }
    },
    {
      "cell_type": "code",
      "source": [
        "#Fazendo as previsões para os dataset de treino e salvando na variável \"previsao_treino\"\n",
        "previsao_treino = naive.predict(X_treino)\n",
        "previsao_treino"
      ],
      "metadata": {
        "colab": {
          "base_uri": "https://localhost:8080/"
        },
        "id": "ELwYpNGOsVLj",
        "outputId": "d57b07c6-6d7c-4892-ed82-296350fe3da9"
      },
      "execution_count": null,
      "outputs": [
        {
          "output_type": "execute_result",
          "data": {
            "text/plain": [
              "array([1, 0, 1, ..., 0, 0, 0])"
            ]
          },
          "metadata": {},
          "execution_count": 47
        }
      ]
    },
    {
      "cell_type": "code",
      "source": [
        "accuracy_score(y_treino, previsao_treino)"
      ],
      "metadata": {
        "colab": {
          "base_uri": "https://localhost:8080/"
        },
        "id": "PDYUi5YrsZbX",
        "outputId": "df8255fc-2fce-42b8-ae9c-94f8b0175e3e"
      },
      "execution_count": null,
      "outputs": [
        {
          "output_type": "execute_result",
          "data": {
            "text/plain": [
              "0.782125"
            ]
          },
          "metadata": {},
          "execution_count": 48
        }
      ]
    },
    {
      "cell_type": "code",
      "source": [
        "confusion_matrix(y_treino, previsao_treino)"
      ],
      "metadata": {
        "colab": {
          "base_uri": "https://localhost:8080/"
        },
        "id": "MKAWydrMse_G",
        "outputId": "27d1f713-4986-4423-f37f-2c489e41f176"
      },
      "execution_count": null,
      "outputs": [
        {
          "output_type": "execute_result",
          "data": {
            "text/plain": [
              "array([[6150,  220],\n",
              "       [1523,  107]])"
            ]
          },
          "metadata": {},
          "execution_count": 49
        }
      ]
    },
    {
      "cell_type": "markdown",
      "source": [
        "### 2.1.1 - Validação Cruzada"
      ],
      "metadata": {
        "id": "kpFn_Lzm-RNx"
      }
    },
    {
      "cell_type": "code",
      "source": [
        "#Separando os dados em Folds\n",
        "kfold = KFold(n_splits = 10, shuffle=True, random_state = 1)"
      ],
      "metadata": {
        "id": "I3FRmL8S-Vz7"
      },
      "execution_count": null,
      "outputs": []
    },
    {
      "cell_type": "code",
      "source": [
        "# Criando o modelo e salvando os resultados na variável \"resultado_naive\"\n",
        "modelo_naive = GaussianNB()\n",
        "resultado_naive = cross_val_score(modelo_naive, previsores, alvo, cv = kfold)\n",
        "resultado_naive"
      ],
      "metadata": {
        "colab": {
          "base_uri": "https://localhost:8080/"
        },
        "id": "Ng-gqhYM-bkq",
        "outputId": "23c2d3a8-10c9-4a1a-8da2-c83f0952428c"
      },
      "execution_count": null,
      "outputs": [
        {
          "output_type": "execute_result",
          "data": {
            "text/plain": [
              "array([0.78 , 0.784, 0.785, 0.769, 0.819, 0.785, 0.763, 0.792, 0.771,\n",
              "       0.777])"
            ]
          },
          "metadata": {},
          "execution_count": 52
        }
      ]
    },
    {
      "cell_type": "code",
      "source": [
        "print('Acurácia Média: {:.2f}%'.format(resultado_naive.mean() * 100))"
      ],
      "metadata": {
        "colab": {
          "base_uri": "https://localhost:8080/"
        },
        "id": "iPGIQuuH-kNN",
        "outputId": "c767a8c0-4ee8-412d-ed1b-85868d2a41c8"
      },
      "execution_count": null,
      "outputs": [
        {
          "output_type": "stream",
          "name": "stdout",
          "text": [
            "Acurácia Média: 78.25%\n"
          ]
        }
      ]
    },
    {
      "cell_type": "markdown",
      "source": [
        "Naive Bayes = Modelo Não se adapta ao problema"
      ],
      "metadata": {
        "id": "QEAPWWlC-mzd"
      }
    },
    {
      "cell_type": "markdown",
      "source": [
        "## 2.2 - Máquinas de vetor de suporte(SVM): 85,4% (treino e teste) e 85,45% (validação cruzada)"
      ],
      "metadata": {
        "id": "duG4YVR5s00b"
      }
    },
    {
      "cell_type": "markdown",
      "source": [
        "Uma coleção de técnicas de aprendizado supervisionado conhecidas como máquinas de vetor de suporte (SVMs) são usadas para classificação e análise de regressão, após a análise de dados e a identificação de padrões. As SVMs podem ser usadas para tarefas de regressão e classificação. Elas são uma classe de aprendizagem supervisionado que foi bem estudada. As SVMs são usadas para uma variedade de tarefas, incluindo a recuperação de informações e a classificação de imagens e texto."
      ],
      "metadata": {
        "id": "7wuSiZRLZe7v"
      }
    },
    {
      "cell_type": "code",
      "source": [
        "# Definir os parâmetros que você desejamos testar\n",
        "param_svm = {'C': [0.1, 1, 1.2], 'kernel': ['linear', 'rbf'], 'gamma': [0.1, 1, 10], 'degree': [2, 3, 4]}"
      ],
      "metadata": {
        "id": "ISS5BaLnuhWV"
      },
      "execution_count": null,
      "outputs": []
    },
    {
      "cell_type": "code",
      "source": [
        "#Criando um modelo de SVM para o GridSearch\n",
        "svc = SVC()"
      ],
      "metadata": {
        "id": "t6NEXxv2uih5"
      },
      "execution_count": null,
      "outputs": []
    },
    {
      "cell_type": "code",
      "source": [
        "# Criando um objeto GridSearchCV\n",
        "grid_svc = GridSearchCV(svc, param_svm)"
      ],
      "metadata": {
        "id": "zTRxfXc5un-W"
      },
      "execution_count": null,
      "outputs": []
    },
    {
      "cell_type": "code",
      "source": [
        "# Treinando o modelo com o conjunto de treinamento\n",
        "grid_svc.fit(X_treino, y_treino)"
      ],
      "metadata": {
        "colab": {
          "base_uri": "https://localhost:8080/",
          "height": 118
        },
        "id": "D1Ewp09vur6q",
        "outputId": "d6b3c8d2-eba9-4a96-a343-2716c1771ffb"
      },
      "execution_count": null,
      "outputs": [
        {
          "output_type": "execute_result",
          "data": {
            "text/plain": [
              "GridSearchCV(estimator=SVC(),\n",
              "             param_grid={'C': [0.1, 1, 1.2], 'degree': [2, 3, 4],\n",
              "                         'gamma': [0.1, 1, 10], 'kernel': ['linear', 'rbf']})"
            ],
            "text/html": [
              "<style>#sk-container-id-2 {color: black;background-color: white;}#sk-container-id-2 pre{padding: 0;}#sk-container-id-2 div.sk-toggleable {background-color: white;}#sk-container-id-2 label.sk-toggleable__label {cursor: pointer;display: block;width: 100%;margin-bottom: 0;padding: 0.3em;box-sizing: border-box;text-align: center;}#sk-container-id-2 label.sk-toggleable__label-arrow:before {content: \"▸\";float: left;margin-right: 0.25em;color: #696969;}#sk-container-id-2 label.sk-toggleable__label-arrow:hover:before {color: black;}#sk-container-id-2 div.sk-estimator:hover label.sk-toggleable__label-arrow:before {color: black;}#sk-container-id-2 div.sk-toggleable__content {max-height: 0;max-width: 0;overflow: hidden;text-align: left;background-color: #f0f8ff;}#sk-container-id-2 div.sk-toggleable__content pre {margin: 0.2em;color: black;border-radius: 0.25em;background-color: #f0f8ff;}#sk-container-id-2 input.sk-toggleable__control:checked~div.sk-toggleable__content {max-height: 200px;max-width: 100%;overflow: auto;}#sk-container-id-2 input.sk-toggleable__control:checked~label.sk-toggleable__label-arrow:before {content: \"▾\";}#sk-container-id-2 div.sk-estimator input.sk-toggleable__control:checked~label.sk-toggleable__label {background-color: #d4ebff;}#sk-container-id-2 div.sk-label input.sk-toggleable__control:checked~label.sk-toggleable__label {background-color: #d4ebff;}#sk-container-id-2 input.sk-hidden--visually {border: 0;clip: rect(1px 1px 1px 1px);clip: rect(1px, 1px, 1px, 1px);height: 1px;margin: -1px;overflow: hidden;padding: 0;position: absolute;width: 1px;}#sk-container-id-2 div.sk-estimator {font-family: monospace;background-color: #f0f8ff;border: 1px dotted black;border-radius: 0.25em;box-sizing: border-box;margin-bottom: 0.5em;}#sk-container-id-2 div.sk-estimator:hover {background-color: #d4ebff;}#sk-container-id-2 div.sk-parallel-item::after {content: \"\";width: 100%;border-bottom: 1px solid gray;flex-grow: 1;}#sk-container-id-2 div.sk-label:hover label.sk-toggleable__label {background-color: #d4ebff;}#sk-container-id-2 div.sk-serial::before {content: \"\";position: absolute;border-left: 1px solid gray;box-sizing: border-box;top: 0;bottom: 0;left: 50%;z-index: 0;}#sk-container-id-2 div.sk-serial {display: flex;flex-direction: column;align-items: center;background-color: white;padding-right: 0.2em;padding-left: 0.2em;position: relative;}#sk-container-id-2 div.sk-item {position: relative;z-index: 1;}#sk-container-id-2 div.sk-parallel {display: flex;align-items: stretch;justify-content: center;background-color: white;position: relative;}#sk-container-id-2 div.sk-item::before, #sk-container-id-2 div.sk-parallel-item::before {content: \"\";position: absolute;border-left: 1px solid gray;box-sizing: border-box;top: 0;bottom: 0;left: 50%;z-index: -1;}#sk-container-id-2 div.sk-parallel-item {display: flex;flex-direction: column;z-index: 1;position: relative;background-color: white;}#sk-container-id-2 div.sk-parallel-item:first-child::after {align-self: flex-end;width: 50%;}#sk-container-id-2 div.sk-parallel-item:last-child::after {align-self: flex-start;width: 50%;}#sk-container-id-2 div.sk-parallel-item:only-child::after {width: 0;}#sk-container-id-2 div.sk-dashed-wrapped {border: 1px dashed gray;margin: 0 0.4em 0.5em 0.4em;box-sizing: border-box;padding-bottom: 0.4em;background-color: white;}#sk-container-id-2 div.sk-label label {font-family: monospace;font-weight: bold;display: inline-block;line-height: 1.2em;}#sk-container-id-2 div.sk-label-container {text-align: center;}#sk-container-id-2 div.sk-container {/* jupyter's `normalize.less` sets `[hidden] { display: none; }` but bootstrap.min.css set `[hidden] { display: none !important; }` so we also need the `!important` here to be able to override the default hidden behavior on the sphinx rendered scikit-learn.org. See: https://github.com/scikit-learn/scikit-learn/issues/21755 */display: inline-block !important;position: relative;}#sk-container-id-2 div.sk-text-repr-fallback {display: none;}</style><div id=\"sk-container-id-2\" class=\"sk-top-container\"><div class=\"sk-text-repr-fallback\"><pre>GridSearchCV(estimator=SVC(),\n",
              "             param_grid={&#x27;C&#x27;: [0.1, 1, 1.2], &#x27;degree&#x27;: [2, 3, 4],\n",
              "                         &#x27;gamma&#x27;: [0.1, 1, 10], &#x27;kernel&#x27;: [&#x27;linear&#x27;, &#x27;rbf&#x27;]})</pre><b>In a Jupyter environment, please rerun this cell to show the HTML representation or trust the notebook. <br />On GitHub, the HTML representation is unable to render, please try loading this page with nbviewer.org.</b></div><div class=\"sk-container\" hidden><div class=\"sk-item sk-dashed-wrapped\"><div class=\"sk-label-container\"><div class=\"sk-label sk-toggleable\"><input class=\"sk-toggleable__control sk-hidden--visually\" id=\"sk-estimator-id-2\" type=\"checkbox\" ><label for=\"sk-estimator-id-2\" class=\"sk-toggleable__label sk-toggleable__label-arrow\">GridSearchCV</label><div class=\"sk-toggleable__content\"><pre>GridSearchCV(estimator=SVC(),\n",
              "             param_grid={&#x27;C&#x27;: [0.1, 1, 1.2], &#x27;degree&#x27;: [2, 3, 4],\n",
              "                         &#x27;gamma&#x27;: [0.1, 1, 10], &#x27;kernel&#x27;: [&#x27;linear&#x27;, &#x27;rbf&#x27;]})</pre></div></div></div><div class=\"sk-parallel\"><div class=\"sk-parallel-item\"><div class=\"sk-item\"><div class=\"sk-label-container\"><div class=\"sk-label sk-toggleable\"><input class=\"sk-toggleable__control sk-hidden--visually\" id=\"sk-estimator-id-3\" type=\"checkbox\" ><label for=\"sk-estimator-id-3\" class=\"sk-toggleable__label sk-toggleable__label-arrow\">estimator: SVC</label><div class=\"sk-toggleable__content\"><pre>SVC()</pre></div></div></div><div class=\"sk-serial\"><div class=\"sk-item\"><div class=\"sk-estimator sk-toggleable\"><input class=\"sk-toggleable__control sk-hidden--visually\" id=\"sk-estimator-id-4\" type=\"checkbox\" ><label for=\"sk-estimator-id-4\" class=\"sk-toggleable__label sk-toggleable__label-arrow\">SVC</label><div class=\"sk-toggleable__content\"><pre>SVC()</pre></div></div></div></div></div></div></div></div></div></div>"
            ]
          },
          "metadata": {},
          "execution_count": 40
        }
      ]
    },
    {
      "cell_type": "code",
      "source": [
        "# melhores parâmetros encontrados pelo Grid Search\n",
        "print(grid_svc.best_params_)"
      ],
      "metadata": {
        "colab": {
          "base_uri": "https://localhost:8080/"
        },
        "id": "2WjYr1KIuzPg",
        "outputId": "d647e0d3-e5f8-4cd7-c656-315254718154"
      },
      "execution_count": null,
      "outputs": [
        {
          "output_type": "stream",
          "name": "stdout",
          "text": [
            "{'C': 1.2, 'degree': 2, 'gamma': 0.1, 'kernel': 'rbf'}\n"
          ]
        }
      ]
    },
    {
      "cell_type": "code",
      "source": [
        "#Criando e Treinando o modelo\n",
        "svm = SVC(kernel='rbf', random_state=1, C = 1.2, gamma = 0.1, degree = 2)\n",
        "svm.fit(X_treino, y_treino)"
      ],
      "metadata": {
        "colab": {
          "base_uri": "https://localhost:8080/",
          "height": 75
        },
        "id": "noiiFeg6tAaF",
        "outputId": "f979e128-3781-42a1-ef7c-30f9025d03ee"
      },
      "execution_count": 48,
      "outputs": [
        {
          "output_type": "execute_result",
          "data": {
            "text/plain": [
              "SVC(C=1.2, degree=2, gamma=0.1, random_state=1)"
            ],
            "text/html": [
              "<style>#sk-container-id-4 {color: black;background-color: white;}#sk-container-id-4 pre{padding: 0;}#sk-container-id-4 div.sk-toggleable {background-color: white;}#sk-container-id-4 label.sk-toggleable__label {cursor: pointer;display: block;width: 100%;margin-bottom: 0;padding: 0.3em;box-sizing: border-box;text-align: center;}#sk-container-id-4 label.sk-toggleable__label-arrow:before {content: \"▸\";float: left;margin-right: 0.25em;color: #696969;}#sk-container-id-4 label.sk-toggleable__label-arrow:hover:before {color: black;}#sk-container-id-4 div.sk-estimator:hover label.sk-toggleable__label-arrow:before {color: black;}#sk-container-id-4 div.sk-toggleable__content {max-height: 0;max-width: 0;overflow: hidden;text-align: left;background-color: #f0f8ff;}#sk-container-id-4 div.sk-toggleable__content pre {margin: 0.2em;color: black;border-radius: 0.25em;background-color: #f0f8ff;}#sk-container-id-4 input.sk-toggleable__control:checked~div.sk-toggleable__content {max-height: 200px;max-width: 100%;overflow: auto;}#sk-container-id-4 input.sk-toggleable__control:checked~label.sk-toggleable__label-arrow:before {content: \"▾\";}#sk-container-id-4 div.sk-estimator input.sk-toggleable__control:checked~label.sk-toggleable__label {background-color: #d4ebff;}#sk-container-id-4 div.sk-label input.sk-toggleable__control:checked~label.sk-toggleable__label {background-color: #d4ebff;}#sk-container-id-4 input.sk-hidden--visually {border: 0;clip: rect(1px 1px 1px 1px);clip: rect(1px, 1px, 1px, 1px);height: 1px;margin: -1px;overflow: hidden;padding: 0;position: absolute;width: 1px;}#sk-container-id-4 div.sk-estimator {font-family: monospace;background-color: #f0f8ff;border: 1px dotted black;border-radius: 0.25em;box-sizing: border-box;margin-bottom: 0.5em;}#sk-container-id-4 div.sk-estimator:hover {background-color: #d4ebff;}#sk-container-id-4 div.sk-parallel-item::after {content: \"\";width: 100%;border-bottom: 1px solid gray;flex-grow: 1;}#sk-container-id-4 div.sk-label:hover label.sk-toggleable__label {background-color: #d4ebff;}#sk-container-id-4 div.sk-serial::before {content: \"\";position: absolute;border-left: 1px solid gray;box-sizing: border-box;top: 0;bottom: 0;left: 50%;z-index: 0;}#sk-container-id-4 div.sk-serial {display: flex;flex-direction: column;align-items: center;background-color: white;padding-right: 0.2em;padding-left: 0.2em;position: relative;}#sk-container-id-4 div.sk-item {position: relative;z-index: 1;}#sk-container-id-4 div.sk-parallel {display: flex;align-items: stretch;justify-content: center;background-color: white;position: relative;}#sk-container-id-4 div.sk-item::before, #sk-container-id-4 div.sk-parallel-item::before {content: \"\";position: absolute;border-left: 1px solid gray;box-sizing: border-box;top: 0;bottom: 0;left: 50%;z-index: -1;}#sk-container-id-4 div.sk-parallel-item {display: flex;flex-direction: column;z-index: 1;position: relative;background-color: white;}#sk-container-id-4 div.sk-parallel-item:first-child::after {align-self: flex-end;width: 50%;}#sk-container-id-4 div.sk-parallel-item:last-child::after {align-self: flex-start;width: 50%;}#sk-container-id-4 div.sk-parallel-item:only-child::after {width: 0;}#sk-container-id-4 div.sk-dashed-wrapped {border: 1px dashed gray;margin: 0 0.4em 0.5em 0.4em;box-sizing: border-box;padding-bottom: 0.4em;background-color: white;}#sk-container-id-4 div.sk-label label {font-family: monospace;font-weight: bold;display: inline-block;line-height: 1.2em;}#sk-container-id-4 div.sk-label-container {text-align: center;}#sk-container-id-4 div.sk-container {/* jupyter's `normalize.less` sets `[hidden] { display: none; }` but bootstrap.min.css set `[hidden] { display: none !important; }` so we also need the `!important` here to be able to override the default hidden behavior on the sphinx rendered scikit-learn.org. See: https://github.com/scikit-learn/scikit-learn/issues/21755 */display: inline-block !important;position: relative;}#sk-container-id-4 div.sk-text-repr-fallback {display: none;}</style><div id=\"sk-container-id-4\" class=\"sk-top-container\"><div class=\"sk-text-repr-fallback\"><pre>SVC(C=1.2, degree=2, gamma=0.1, random_state=1)</pre><b>In a Jupyter environment, please rerun this cell to show the HTML representation or trust the notebook. <br />On GitHub, the HTML representation is unable to render, please try loading this page with nbviewer.org.</b></div><div class=\"sk-container\" hidden><div class=\"sk-item\"><div class=\"sk-estimator sk-toggleable\"><input class=\"sk-toggleable__control sk-hidden--visually\" id=\"sk-estimator-id-4\" type=\"checkbox\" checked><label for=\"sk-estimator-id-4\" class=\"sk-toggleable__label sk-toggleable__label-arrow\">SVC</label><div class=\"sk-toggleable__content\"><pre>SVC(C=1.2, degree=2, gamma=0.1, random_state=1)</pre></div></div></div></div></div>"
            ]
          },
          "metadata": {},
          "execution_count": 48
        }
      ]
    },
    {
      "cell_type": "code",
      "source": [
        "#Fazendo as previsões e salvando na variável \"previsoes_svm\"\n",
        "previsoes_svm = svm.predict(X_teste)\n",
        "previsoes_svm"
      ],
      "metadata": {
        "colab": {
          "base_uri": "https://localhost:8080/"
        },
        "id": "rjTdmHhGtC0t",
        "outputId": "5fac9293-8a17-49d4-ea24-f6407da6b697"
      },
      "execution_count": 46,
      "outputs": [
        {
          "output_type": "execute_result",
          "data": {
            "text/plain": [
              "array([0, 0, 0, ..., 0, 0, 0])"
            ]
          },
          "metadata": {},
          "execution_count": 46
        }
      ]
    },
    {
      "cell_type": "code",
      "source": [
        "y_teste"
      ],
      "metadata": {
        "colab": {
          "base_uri": "https://localhost:8080/"
        },
        "id": "R8v7kBGntGhW",
        "outputId": "6643cfb8-1693-4674-9ac9-bb1684671815"
      },
      "execution_count": 32,
      "outputs": [
        {
          "output_type": "execute_result",
          "data": {
            "text/plain": [
              "array([0, 0, 0, ..., 1, 0, 0])"
            ]
          },
          "metadata": {},
          "execution_count": 32
        }
      ]
    },
    {
      "cell_type": "code",
      "source": [
        "#Verificando a acurácia do modelo\n",
        "accuracy_score(y_teste, previsoes_svm)"
      ],
      "metadata": {
        "colab": {
          "base_uri": "https://localhost:8080/"
        },
        "id": "9HyVnA7ltIjP",
        "outputId": "7cbcb1a6-3679-48c9-c83f-a34ee7e6cd70"
      },
      "execution_count": 33,
      "outputs": [
        {
          "output_type": "execute_result",
          "data": {
            "text/plain": [
              "0.854"
            ]
          },
          "metadata": {},
          "execution_count": 33
        }
      ]
    },
    {
      "cell_type": "code",
      "source": [
        "#Matriz de confusão\n",
        "confusion_matrix(y_teste, previsoes_svm)"
      ],
      "metadata": {
        "colab": {
          "base_uri": "https://localhost:8080/"
        },
        "id": "ShDzsOQJtPK1",
        "outputId": "3d803843-644c-40ee-8592-dc31155a7e98"
      },
      "execution_count": 34,
      "outputs": [
        {
          "output_type": "execute_result",
          "data": {
            "text/plain": [
              "array([[1558,   35],\n",
              "       [ 257,  150]])"
            ]
          },
          "metadata": {},
          "execution_count": 34
        }
      ]
    },
    {
      "cell_type": "code",
      "source": [
        "#Relatório de classificação\n",
        "print(classification_report(y_teste, previsoes_svm))"
      ],
      "metadata": {
        "colab": {
          "base_uri": "https://localhost:8080/"
        },
        "id": "VLDlHpyMta2n",
        "outputId": "cb357c18-3e14-4b69-a535-a64867b81035"
      },
      "execution_count": 35,
      "outputs": [
        {
          "output_type": "stream",
          "name": "stdout",
          "text": [
            "              precision    recall  f1-score   support\n",
            "\n",
            "           0       0.86      0.98      0.91      1593\n",
            "           1       0.81      0.37      0.51       407\n",
            "\n",
            "    accuracy                           0.85      2000\n",
            "   macro avg       0.83      0.67      0.71      2000\n",
            "weighted avg       0.85      0.85      0.83      2000\n",
            "\n"
          ]
        }
      ]
    },
    {
      "cell_type": "markdown",
      "source": [
        "análise dados de treino"
      ],
      "metadata": {
        "id": "aNxeFDL_teuZ"
      }
    },
    {
      "cell_type": "code",
      "source": [
        "#Fazendo as previsões para os dataset de treino e salvando na variável \"previsao_treino_svm\"\n",
        "previsao_treino_svm = svm.predict(X_treino)\n",
        "previsao_treino_svm"
      ],
      "metadata": {
        "colab": {
          "base_uri": "https://localhost:8080/"
        },
        "id": "IU_7aB3uthZf",
        "outputId": "bd79ccc2-05d3-40c8-94d9-c074b15b5b8a"
      },
      "execution_count": null,
      "outputs": [
        {
          "output_type": "execute_result",
          "data": {
            "text/plain": [
              "array([0, 0, 0, ..., 0, 0, 0])"
            ]
          },
          "metadata": {},
          "execution_count": 48
        }
      ]
    },
    {
      "cell_type": "code",
      "source": [
        "y_treino"
      ],
      "metadata": {
        "colab": {
          "base_uri": "https://localhost:8080/"
        },
        "id": "SUgEMC5JtrLg",
        "outputId": "67b8db93-6530-4b74-9647-c8be34bed720"
      },
      "execution_count": null,
      "outputs": [
        {
          "output_type": "execute_result",
          "data": {
            "text/plain": [
              "array([0, 0, 1, ..., 0, 0, 0])"
            ]
          },
          "metadata": {},
          "execution_count": 49
        }
      ]
    },
    {
      "cell_type": "code",
      "source": [
        "accuracy_score(y_treino, previsao_treino_svm)"
      ],
      "metadata": {
        "colab": {
          "base_uri": "https://localhost:8080/"
        },
        "id": "cP0-SjPRtt4P",
        "outputId": "ac3f7b5f-abbb-48f7-918f-25530b48c682"
      },
      "execution_count": null,
      "outputs": [
        {
          "output_type": "execute_result",
          "data": {
            "text/plain": [
              "0.8925"
            ]
          },
          "metadata": {},
          "execution_count": 50
        }
      ]
    },
    {
      "cell_type": "markdown",
      "source": [
        "### 2.2.3 - Validação Cruzada"
      ],
      "metadata": {
        "id": "PbU80wIY78Vq"
      }
    },
    {
      "cell_type": "code",
      "source": [
        "#Separando os dados em Folds\n",
        "kfold = KFold(n_splits=10, shuffle = True, random_state = 1)"
      ],
      "metadata": {
        "id": "ysp84Ds37_0V"
      },
      "execution_count": null,
      "outputs": []
    },
    {
      "cell_type": "code",
      "source": [
        "# Criando o modelo e salvando os resultados na variável \"resultado_svm\"\n",
        "modelo_svm = SVC(kernel='rbf', random_state=1, C = 1.2, gamma = 0.1, degree = 2)\n",
        "resultado_svm = cross_val_score(modelo_svm, previsores2, alvo, cv = kfold)\n",
        "resultado_svm"
      ],
      "metadata": {
        "colab": {
          "base_uri": "https://localhost:8080/"
        },
        "id": "BkHXwLHY8hxT",
        "outputId": "ee42c006-f085-4ae7-e450-fb9268fbf530"
      },
      "execution_count": null,
      "outputs": [
        {
          "output_type": "execute_result",
          "data": {
            "text/plain": [
              "array([0.849, 0.86 , 0.857, 0.861, 0.862, 0.847, 0.84 , 0.854, 0.873,\n",
              "       0.842])"
            ]
          },
          "metadata": {},
          "execution_count": 52
        }
      ]
    },
    {
      "cell_type": "code",
      "source": [
        "print('Acurácia Média: {:.2f}%'.format(resultado_svm.mean() * 100))"
      ],
      "metadata": {
        "colab": {
          "base_uri": "https://localhost:8080/"
        },
        "id": "CEr0aGJz8q3H",
        "outputId": "5268c34e-2d0b-4629-eea9-5be6ef4b90f0"
      },
      "execution_count": null,
      "outputs": [
        {
          "output_type": "stream",
          "name": "stdout",
          "text": [
            "Acurácia Média: 85.45%\n"
          ]
        }
      ]
    },
    {
      "cell_type": "markdown",
      "source": [
        "SVM = 85,4% (treino e teste) e 85,45% (validação cruzada) sem escalonar dados previsores2, com o escalonamento o modelo overfita."
      ],
      "metadata": {
        "id": "E_WUJw4W9spd"
      }
    },
    {
      "cell_type": "markdown",
      "source": [
        "## 2.3 - Regressão Logistica: 85,1% (treino e teste) e 85,12% (validação cruzada)"
      ],
      "metadata": {
        "id": "KG2Cj4dolMeZ"
      }
    },
    {
      "cell_type": "markdown",
      "source": [
        "O modelo estatístico conhecido como regressão logística é usado para prever variáveis binárias, ou seja, variáveis que podem assumir apenas dois valores, como zero ou um, sim ou não, verdadeiro ou falso, etc. A regressão logística, por exemplo, pode ser usada para prever se um consumidor vai comprar um produto, se um e-mail é spam ou não, se um paciente está doente ou não, etc."
      ],
      "metadata": {
        "id": "RqNU3POKZ-Ie"
      }
    },
    {
      "cell_type": "code",
      "source": [
        "#Criando um modelo de regressão logística para o GridSearch\n",
        "logistica = LogisticRegression()"
      ],
      "metadata": {
        "id": "zqrCrPjklUnC"
      },
      "execution_count": null,
      "outputs": []
    },
    {
      "cell_type": "code",
      "source": [
        "#Definindo os hiperparametros\n",
        "param_logistica = {'C': [0.001, 0.01, 0.1, 1, 10, 100],\n",
        "              'penalty': ['l1', 'l2', 'elasticnet', 'none'],\n",
        "              'solver': ['newton-cg', 'lbfgs', 'liblinear', 'sag', 'saga'],\n",
        "              'max_iter': [100, 150, 200]}"
      ],
      "metadata": {
        "id": "gshC4MUll6pr"
      },
      "execution_count": null,
      "outputs": []
    },
    {
      "cell_type": "code",
      "source": [
        "#Criando o GridSearch\n",
        "grid_logistica = GridSearchCV(logistica, param_logistica)"
      ],
      "metadata": {
        "id": "Iid2w4ahmBnW"
      },
      "execution_count": null,
      "outputs": []
    },
    {
      "cell_type": "code",
      "source": [
        "#Treinamento com o GridSearch\n",
        "grid_logistica.fit(X_treino, y_treino)"
      ],
      "metadata": {
        "id": "gpbgeacWmmOe"
      },
      "execution_count": null,
      "outputs": []
    },
    {
      "cell_type": "code",
      "source": [
        "#Imprimindo os melhores hiperparametros para o modelo\n",
        "print(grid_logistica.best_params_)"
      ],
      "metadata": {
        "colab": {
          "base_uri": "https://localhost:8080/"
        },
        "id": "i3h9CbBTmvs1",
        "outputId": "cd1a98e7-813c-4c6b-eedf-a422c19ae576"
      },
      "execution_count": null,
      "outputs": [
        {
          "output_type": "stream",
          "name": "stdout",
          "text": [
            "{'C': 1, 'max_iter': 100, 'penalty': 'l1', 'solver': 'liblinear'}\n"
          ]
        }
      ]
    },
    {
      "cell_type": "code",
      "source": [
        "print(grid_logistica.best_score_)"
      ],
      "metadata": {
        "colab": {
          "base_uri": "https://localhost:8080/"
        },
        "id": "sYsVuyv9nAua",
        "outputId": "e6ae8d79-2e7d-4278-abe5-a413aceb8943"
      },
      "execution_count": null,
      "outputs": [
        {
          "output_type": "stream",
          "name": "stdout",
          "text": [
            "0.8493749999999999\n"
          ]
        }
      ]
    },
    {
      "cell_type": "code",
      "source": [
        "#Criando um modelo de regressão logística\n",
        "reg_log = LogisticRegression(random_state=1, max_iter=100, penalty='l1', solver = 'liblinear', C = 1)"
      ],
      "metadata": {
        "id": "lj2TzmTbuddF"
      },
      "execution_count": null,
      "outputs": []
    },
    {
      "cell_type": "code",
      "source": [
        "#Treinando o modelo\n",
        "reg_log.fit(X_treino, y_treino)"
      ],
      "metadata": {
        "colab": {
          "base_uri": "https://localhost:8080/",
          "height": 75
        },
        "id": "QFgiY30JvC86",
        "outputId": "010751fe-271a-44d5-c22d-cd56a54fe043"
      },
      "execution_count": null,
      "outputs": [
        {
          "output_type": "execute_result",
          "data": {
            "text/plain": [
              "LogisticRegression(C=1, penalty='l1', random_state=1, solver='liblinear')"
            ],
            "text/html": [
              "<style>#sk-container-id-2 {color: black;background-color: white;}#sk-container-id-2 pre{padding: 0;}#sk-container-id-2 div.sk-toggleable {background-color: white;}#sk-container-id-2 label.sk-toggleable__label {cursor: pointer;display: block;width: 100%;margin-bottom: 0;padding: 0.3em;box-sizing: border-box;text-align: center;}#sk-container-id-2 label.sk-toggleable__label-arrow:before {content: \"▸\";float: left;margin-right: 0.25em;color: #696969;}#sk-container-id-2 label.sk-toggleable__label-arrow:hover:before {color: black;}#sk-container-id-2 div.sk-estimator:hover label.sk-toggleable__label-arrow:before {color: black;}#sk-container-id-2 div.sk-toggleable__content {max-height: 0;max-width: 0;overflow: hidden;text-align: left;background-color: #f0f8ff;}#sk-container-id-2 div.sk-toggleable__content pre {margin: 0.2em;color: black;border-radius: 0.25em;background-color: #f0f8ff;}#sk-container-id-2 input.sk-toggleable__control:checked~div.sk-toggleable__content {max-height: 200px;max-width: 100%;overflow: auto;}#sk-container-id-2 input.sk-toggleable__control:checked~label.sk-toggleable__label-arrow:before {content: \"▾\";}#sk-container-id-2 div.sk-estimator input.sk-toggleable__control:checked~label.sk-toggleable__label {background-color: #d4ebff;}#sk-container-id-2 div.sk-label input.sk-toggleable__control:checked~label.sk-toggleable__label {background-color: #d4ebff;}#sk-container-id-2 input.sk-hidden--visually {border: 0;clip: rect(1px 1px 1px 1px);clip: rect(1px, 1px, 1px, 1px);height: 1px;margin: -1px;overflow: hidden;padding: 0;position: absolute;width: 1px;}#sk-container-id-2 div.sk-estimator {font-family: monospace;background-color: #f0f8ff;border: 1px dotted black;border-radius: 0.25em;box-sizing: border-box;margin-bottom: 0.5em;}#sk-container-id-2 div.sk-estimator:hover {background-color: #d4ebff;}#sk-container-id-2 div.sk-parallel-item::after {content: \"\";width: 100%;border-bottom: 1px solid gray;flex-grow: 1;}#sk-container-id-2 div.sk-label:hover label.sk-toggleable__label {background-color: #d4ebff;}#sk-container-id-2 div.sk-serial::before {content: \"\";position: absolute;border-left: 1px solid gray;box-sizing: border-box;top: 0;bottom: 0;left: 50%;z-index: 0;}#sk-container-id-2 div.sk-serial {display: flex;flex-direction: column;align-items: center;background-color: white;padding-right: 0.2em;padding-left: 0.2em;position: relative;}#sk-container-id-2 div.sk-item {position: relative;z-index: 1;}#sk-container-id-2 div.sk-parallel {display: flex;align-items: stretch;justify-content: center;background-color: white;position: relative;}#sk-container-id-2 div.sk-item::before, #sk-container-id-2 div.sk-parallel-item::before {content: \"\";position: absolute;border-left: 1px solid gray;box-sizing: border-box;top: 0;bottom: 0;left: 50%;z-index: -1;}#sk-container-id-2 div.sk-parallel-item {display: flex;flex-direction: column;z-index: 1;position: relative;background-color: white;}#sk-container-id-2 div.sk-parallel-item:first-child::after {align-self: flex-end;width: 50%;}#sk-container-id-2 div.sk-parallel-item:last-child::after {align-self: flex-start;width: 50%;}#sk-container-id-2 div.sk-parallel-item:only-child::after {width: 0;}#sk-container-id-2 div.sk-dashed-wrapped {border: 1px dashed gray;margin: 0 0.4em 0.5em 0.4em;box-sizing: border-box;padding-bottom: 0.4em;background-color: white;}#sk-container-id-2 div.sk-label label {font-family: monospace;font-weight: bold;display: inline-block;line-height: 1.2em;}#sk-container-id-2 div.sk-label-container {text-align: center;}#sk-container-id-2 div.sk-container {/* jupyter's `normalize.less` sets `[hidden] { display: none; }` but bootstrap.min.css set `[hidden] { display: none !important; }` so we also need the `!important` here to be able to override the default hidden behavior on the sphinx rendered scikit-learn.org. See: https://github.com/scikit-learn/scikit-learn/issues/21755 */display: inline-block !important;position: relative;}#sk-container-id-2 div.sk-text-repr-fallback {display: none;}</style><div id=\"sk-container-id-2\" class=\"sk-top-container\"><div class=\"sk-text-repr-fallback\"><pre>LogisticRegression(C=1, penalty=&#x27;l1&#x27;, random_state=1, solver=&#x27;liblinear&#x27;)</pre><b>In a Jupyter environment, please rerun this cell to show the HTML representation or trust the notebook. <br />On GitHub, the HTML representation is unable to render, please try loading this page with nbviewer.org.</b></div><div class=\"sk-container\" hidden><div class=\"sk-item\"><div class=\"sk-estimator sk-toggleable\"><input class=\"sk-toggleable__control sk-hidden--visually\" id=\"sk-estimator-id-2\" type=\"checkbox\" checked><label for=\"sk-estimator-id-2\" class=\"sk-toggleable__label sk-toggleable__label-arrow\">LogisticRegression</label><div class=\"sk-toggleable__content\"><pre>LogisticRegression(C=1, penalty=&#x27;l1&#x27;, random_state=1, solver=&#x27;liblinear&#x27;)</pre></div></div></div></div></div>"
            ]
          },
          "metadata": {},
          "execution_count": 32
        }
      ]
    },
    {
      "cell_type": "code",
      "source": [
        "#Fazendo as previsões e salvando na variável \"previsao_log\"\n",
        "previsao_log = reg_log.predict(X_teste)\n",
        "previsao_log"
      ],
      "metadata": {
        "colab": {
          "base_uri": "https://localhost:8080/"
        },
        "id": "dF9A2imTvH-R",
        "outputId": "c9a3aa2c-47c7-4b12-b5b8-3d0dc8dcb336"
      },
      "execution_count": null,
      "outputs": [
        {
          "output_type": "execute_result",
          "data": {
            "text/plain": [
              "array([0, 0, 0, ..., 0, 0, 0])"
            ]
          },
          "metadata": {},
          "execution_count": 111
        }
      ]
    },
    {
      "cell_type": "code",
      "source": [
        "y_teste"
      ],
      "metadata": {
        "colab": {
          "base_uri": "https://localhost:8080/"
        },
        "id": "VYaPb1h_vOPB",
        "outputId": "253d52fb-4a89-4895-b100-98f62844e27b"
      },
      "execution_count": null,
      "outputs": [
        {
          "output_type": "execute_result",
          "data": {
            "text/plain": [
              "array([0, 0, 0, ..., 1, 0, 0])"
            ]
          },
          "metadata": {},
          "execution_count": 64
        }
      ]
    },
    {
      "cell_type": "code",
      "source": [
        "#Verificando a acurácia do modelo\n",
        "accuracy_score(y_teste, previsao_log)"
      ],
      "metadata": {
        "colab": {
          "base_uri": "https://localhost:8080/"
        },
        "id": "z9PgTwNovPU7",
        "outputId": "c64fca4c-39e1-40d7-9981-264e1be93e83"
      },
      "execution_count": null,
      "outputs": [
        {
          "output_type": "execute_result",
          "data": {
            "text/plain": [
              "0.851"
            ]
          },
          "metadata": {},
          "execution_count": 112
        }
      ]
    },
    {
      "cell_type": "code",
      "source": [
        "#Matriz de confusão\n",
        "confusion_matrix(y_teste, previsao_log)"
      ],
      "metadata": {
        "colab": {
          "base_uri": "https://localhost:8080/"
        },
        "id": "pqhD2bnDvTVL",
        "outputId": "b756f585-5550-4513-8e6e-b77b591d1d97"
      },
      "execution_count": null,
      "outputs": [
        {
          "output_type": "execute_result",
          "data": {
            "text/plain": [
              "array([[1524,   69],\n",
              "       [ 229,  178]])"
            ]
          },
          "metadata": {},
          "execution_count": 113
        }
      ]
    },
    {
      "cell_type": "code",
      "source": [
        "#Relatório de classificação\n",
        "print(classification_report(y_teste, previsao_log))"
      ],
      "metadata": {
        "colab": {
          "base_uri": "https://localhost:8080/"
        },
        "id": "A1FuPjLivWXD",
        "outputId": "a400d0d5-a5ca-40d2-81a0-1a1a4b9cf244"
      },
      "execution_count": null,
      "outputs": [
        {
          "output_type": "stream",
          "name": "stdout",
          "text": [
            "              precision    recall  f1-score   support\n",
            "\n",
            "           0       0.87      0.96      0.91      1593\n",
            "           1       0.72      0.44      0.54       407\n",
            "\n",
            "    accuracy                           0.85      2000\n",
            "   macro avg       0.80      0.70      0.73      2000\n",
            "weighted avg       0.84      0.85      0.84      2000\n",
            "\n"
          ]
        }
      ]
    },
    {
      "cell_type": "markdown",
      "source": [
        "Análise com dados de Treino"
      ],
      "metadata": {
        "id": "o8cnOEY4vbMg"
      }
    },
    {
      "cell_type": "code",
      "source": [
        "#Fazendo as previsões para os dataset de treino e salvando na variável \"previsao_treino_log\"\n",
        "previsao_treino_log = reg_log.predict(X_treino)"
      ],
      "metadata": {
        "id": "Vz1x8WIOvh5V"
      },
      "execution_count": null,
      "outputs": []
    },
    {
      "cell_type": "code",
      "source": [
        "accuracy_score(y_treino, previsao_treino_log)"
      ],
      "metadata": {
        "colab": {
          "base_uri": "https://localhost:8080/"
        },
        "id": "8weZSMGWvsdY",
        "outputId": "cbf4da2d-0927-4fec-e97d-4755ee61b2be"
      },
      "execution_count": null,
      "outputs": [
        {
          "output_type": "execute_result",
          "data": {
            "text/plain": [
              "0.861875"
            ]
          },
          "metadata": {},
          "execution_count": 69
        }
      ]
    },
    {
      "cell_type": "code",
      "source": [
        "confusion_matrix(y_treino, previsao_treino_log)"
      ],
      "metadata": {
        "colab": {
          "base_uri": "https://localhost:8080/"
        },
        "id": "68lMfwSlvxqJ",
        "outputId": "fb6a1fc6-6d5f-46e0-ff6f-827484e059b7"
      },
      "execution_count": null,
      "outputs": [
        {
          "output_type": "execute_result",
          "data": {
            "text/plain": [
              "array([[6107,  263],\n",
              "       [ 842,  788]])"
            ]
          },
          "metadata": {},
          "execution_count": 70
        }
      ]
    },
    {
      "cell_type": "markdown",
      "source": [
        "### 2.3.1 - Validação Cruzada"
      ],
      "metadata": {
        "id": "n7FdyixGv1QF"
      }
    },
    {
      "cell_type": "code",
      "source": [
        "# Separando os dados em folds\n",
        "kfold = KFold(n_splits=10, shuffle = True, random_state = 1)"
      ],
      "metadata": {
        "id": "Y75OjyVgv5jo"
      },
      "execution_count": null,
      "outputs": []
    },
    {
      "cell_type": "code",
      "source": [
        "# Criando o modelo\n",
        "modelo_log = LogisticRegression(random_state = 5, max_iter=100, penalty='l1', solver = 'liblinear', C = 1)"
      ],
      "metadata": {
        "id": "VD3C178wwCeZ"
      },
      "execution_count": null,
      "outputs": []
    },
    {
      "cell_type": "code",
      "source": [
        "# Salvando os resultados na variável \"resultado_log\"\n",
        "resultado_log = cross_val_score(modelo_log, previsores2, alvo, cv = kfold)"
      ],
      "metadata": {
        "id": "rm4rQJDlwKhC"
      },
      "execution_count": null,
      "outputs": []
    },
    {
      "cell_type": "code",
      "source": [
        "print('Acurácia Média: {:.2f}%'.format(resultado_log.mean() * 100.0))"
      ],
      "metadata": {
        "colab": {
          "base_uri": "https://localhost:8080/"
        },
        "id": "lc3nt9RRwfn_",
        "outputId": "d7180c2b-e5b6-47f1-9c14-e9d98fc8df43"
      },
      "execution_count": null,
      "outputs": [
        {
          "output_type": "stream",
          "name": "stdout",
          "text": [
            "Acurácia Média: 85.10%\n"
          ]
        }
      ]
    },
    {
      "cell_type": "markdown",
      "source": [
        "Regressão Logistica = 85,1% (treino e teste) e 85,12% (validação cruzada), com o Dataframe previsores2."
      ],
      "metadata": {
        "id": "CmcxmPx00LsF"
      }
    },
    {
      "cell_type": "markdown",
      "source": [
        "## 2.4 - KNN: 82,85% (treino e teste) e 82,85% (validação cruzada)"
      ],
      "metadata": {
        "id": "Udhe0WQ3V2J5"
      }
    },
    {
      "cell_type": "markdown",
      "source": [
        "O KNN é um tipo de algoritmo de aprendizado supervisionado que é usado para resolver problemas de classificação ou regressão. É conhecido como K-nearest neighbors, ou vizinhos mais próximos. Ele se baseia no conceito de que pontos semelhantes tendem an estar próximos uns dos outros no espaço de atributos.\n",
        "\n",
        "O mecanismo de funcionamento do KNN é o seguinte: quando queremos classificar ou prever um novo ponto no conjunto de treinamento, ele usa uma medida de distância, como a distância euclidiana, para encontrar os K pontos mais próximos desse ponto. Em seguida, dependendo do tipo de problema, ele usa esses pontos para fazer uma média ou uma votação."
      ],
      "metadata": {
        "id": "HgWFMUEFfLh9"
      }
    },
    {
      "cell_type": "code",
      "source": [
        "#Criando um modelo KNN para o GridSearch\n",
        "knn = KNeighborsClassifier()"
      ],
      "metadata": {
        "id": "7ruWuATmWUY5"
      },
      "execution_count": null,
      "outputs": []
    },
    {
      "cell_type": "code",
      "source": [
        "#Definindo os hiperparametros\n",
        "param_knn = {'n_neighbors': [3, 5, 7, 9, 11], 'weights': ['uniform', 'distance'], 'algorithm': ['auto', 'ball_tree', 'kd_tree', 'brute'],\n",
        "             'metric': ['euclidean', 'manhattan','minkowski']}"
      ],
      "metadata": {
        "id": "BedW3cwwWXwA"
      },
      "execution_count": null,
      "outputs": []
    },
    {
      "cell_type": "code",
      "source": [
        "#Criando o GridSearch\n",
        "grid_knn = GridSearchCV(knn, param_knn)"
      ],
      "metadata": {
        "id": "T_IVy6NIW2hO"
      },
      "execution_count": null,
      "outputs": []
    },
    {
      "cell_type": "code",
      "source": [
        "#Treinamento com o GridSearch\n",
        "grid_knn.fit(X_treino, y_treino)"
      ],
      "metadata": {
        "id": "KmxjZ_DzW86_"
      },
      "execution_count": null,
      "outputs": []
    },
    {
      "cell_type": "code",
      "source": [
        "#Imprimindo os melhores hiperparametros para o modelo\n",
        "print(grid_knn.best_params_)"
      ],
      "metadata": {
        "colab": {
          "base_uri": "https://localhost:8080/"
        },
        "id": "rnjbQ3y1XRUw",
        "outputId": "3fa097e4-e29d-4550-ed37-d4216bcea3fb"
      },
      "execution_count": null,
      "outputs": [
        {
          "output_type": "stream",
          "name": "stdout",
          "text": [
            "{'algorithm': 'auto', 'metric': 'manhattan', 'n_neighbors': 7, 'weights': 'distance'}\n"
          ]
        }
      ]
    },
    {
      "cell_type": "code",
      "source": [
        "#Criando um modelo KNN\n",
        "knn1 = KNeighborsClassifier(n_neighbors=7, metric = 'manhattan')"
      ],
      "metadata": {
        "id": "nK95NlVrXjEo"
      },
      "execution_count": null,
      "outputs": []
    },
    {
      "cell_type": "code",
      "source": [
        "#Treinando o modelo\n",
        "knn1.fit(X_treino, y_treino)"
      ],
      "metadata": {
        "colab": {
          "base_uri": "https://localhost:8080/",
          "height": 75
        },
        "id": "ugzkYLWwXuB2",
        "outputId": "2de50c4d-104e-4bbb-930e-5c8932f61aaf"
      },
      "execution_count": null,
      "outputs": [
        {
          "output_type": "execute_result",
          "data": {
            "text/plain": [
              "KNeighborsClassifier(metric='manhattan', n_neighbors=7)"
            ],
            "text/html": [
              "<style>#sk-container-id-3 {color: black;background-color: white;}#sk-container-id-3 pre{padding: 0;}#sk-container-id-3 div.sk-toggleable {background-color: white;}#sk-container-id-3 label.sk-toggleable__label {cursor: pointer;display: block;width: 100%;margin-bottom: 0;padding: 0.3em;box-sizing: border-box;text-align: center;}#sk-container-id-3 label.sk-toggleable__label-arrow:before {content: \"▸\";float: left;margin-right: 0.25em;color: #696969;}#sk-container-id-3 label.sk-toggleable__label-arrow:hover:before {color: black;}#sk-container-id-3 div.sk-estimator:hover label.sk-toggleable__label-arrow:before {color: black;}#sk-container-id-3 div.sk-toggleable__content {max-height: 0;max-width: 0;overflow: hidden;text-align: left;background-color: #f0f8ff;}#sk-container-id-3 div.sk-toggleable__content pre {margin: 0.2em;color: black;border-radius: 0.25em;background-color: #f0f8ff;}#sk-container-id-3 input.sk-toggleable__control:checked~div.sk-toggleable__content {max-height: 200px;max-width: 100%;overflow: auto;}#sk-container-id-3 input.sk-toggleable__control:checked~label.sk-toggleable__label-arrow:before {content: \"▾\";}#sk-container-id-3 div.sk-estimator input.sk-toggleable__control:checked~label.sk-toggleable__label {background-color: #d4ebff;}#sk-container-id-3 div.sk-label input.sk-toggleable__control:checked~label.sk-toggleable__label {background-color: #d4ebff;}#sk-container-id-3 input.sk-hidden--visually {border: 0;clip: rect(1px 1px 1px 1px);clip: rect(1px, 1px, 1px, 1px);height: 1px;margin: -1px;overflow: hidden;padding: 0;position: absolute;width: 1px;}#sk-container-id-3 div.sk-estimator {font-family: monospace;background-color: #f0f8ff;border: 1px dotted black;border-radius: 0.25em;box-sizing: border-box;margin-bottom: 0.5em;}#sk-container-id-3 div.sk-estimator:hover {background-color: #d4ebff;}#sk-container-id-3 div.sk-parallel-item::after {content: \"\";width: 100%;border-bottom: 1px solid gray;flex-grow: 1;}#sk-container-id-3 div.sk-label:hover label.sk-toggleable__label {background-color: #d4ebff;}#sk-container-id-3 div.sk-serial::before {content: \"\";position: absolute;border-left: 1px solid gray;box-sizing: border-box;top: 0;bottom: 0;left: 50%;z-index: 0;}#sk-container-id-3 div.sk-serial {display: flex;flex-direction: column;align-items: center;background-color: white;padding-right: 0.2em;padding-left: 0.2em;position: relative;}#sk-container-id-3 div.sk-item {position: relative;z-index: 1;}#sk-container-id-3 div.sk-parallel {display: flex;align-items: stretch;justify-content: center;background-color: white;position: relative;}#sk-container-id-3 div.sk-item::before, #sk-container-id-3 div.sk-parallel-item::before {content: \"\";position: absolute;border-left: 1px solid gray;box-sizing: border-box;top: 0;bottom: 0;left: 50%;z-index: -1;}#sk-container-id-3 div.sk-parallel-item {display: flex;flex-direction: column;z-index: 1;position: relative;background-color: white;}#sk-container-id-3 div.sk-parallel-item:first-child::after {align-self: flex-end;width: 50%;}#sk-container-id-3 div.sk-parallel-item:last-child::after {align-self: flex-start;width: 50%;}#sk-container-id-3 div.sk-parallel-item:only-child::after {width: 0;}#sk-container-id-3 div.sk-dashed-wrapped {border: 1px dashed gray;margin: 0 0.4em 0.5em 0.4em;box-sizing: border-box;padding-bottom: 0.4em;background-color: white;}#sk-container-id-3 div.sk-label label {font-family: monospace;font-weight: bold;display: inline-block;line-height: 1.2em;}#sk-container-id-3 div.sk-label-container {text-align: center;}#sk-container-id-3 div.sk-container {/* jupyter's `normalize.less` sets `[hidden] { display: none; }` but bootstrap.min.css set `[hidden] { display: none !important; }` so we also need the `!important` here to be able to override the default hidden behavior on the sphinx rendered scikit-learn.org. See: https://github.com/scikit-learn/scikit-learn/issues/21755 */display: inline-block !important;position: relative;}#sk-container-id-3 div.sk-text-repr-fallback {display: none;}</style><div id=\"sk-container-id-3\" class=\"sk-top-container\"><div class=\"sk-text-repr-fallback\"><pre>KNeighborsClassifier(metric=&#x27;manhattan&#x27;, n_neighbors=7)</pre><b>In a Jupyter environment, please rerun this cell to show the HTML representation or trust the notebook. <br />On GitHub, the HTML representation is unable to render, please try loading this page with nbviewer.org.</b></div><div class=\"sk-container\" hidden><div class=\"sk-item\"><div class=\"sk-estimator sk-toggleable\"><input class=\"sk-toggleable__control sk-hidden--visually\" id=\"sk-estimator-id-3\" type=\"checkbox\" checked><label for=\"sk-estimator-id-3\" class=\"sk-toggleable__label sk-toggleable__label-arrow\">KNeighborsClassifier</label><div class=\"sk-toggleable__content\"><pre>KNeighborsClassifier(metric=&#x27;manhattan&#x27;, n_neighbors=7)</pre></div></div></div></div></div>"
            ]
          },
          "metadata": {},
          "execution_count": 34
        }
      ]
    },
    {
      "cell_type": "code",
      "source": [
        "#Fazendo as previsões e salvando na variável \"previsao_knn\"\n",
        "previsao_knn = knn1.predict(X_teste)\n",
        "previsao_knn"
      ],
      "metadata": {
        "colab": {
          "base_uri": "https://localhost:8080/"
        },
        "id": "2i08nwfmXzNV",
        "outputId": "327b9dce-671a-4cc6-8a71-2a11b670b09b"
      },
      "execution_count": null,
      "outputs": [
        {
          "output_type": "execute_result",
          "data": {
            "text/plain": [
              "array([0, 0, 0, ..., 0, 0, 0])"
            ]
          },
          "metadata": {},
          "execution_count": 117
        }
      ]
    },
    {
      "cell_type": "code",
      "source": [
        "y_teste"
      ],
      "metadata": {
        "colab": {
          "base_uri": "https://localhost:8080/"
        },
        "id": "atqu7fQ1X6ln",
        "outputId": "0ebd8cf8-ea7c-4ad8-deea-c585c4d54a87"
      },
      "execution_count": null,
      "outputs": [
        {
          "output_type": "execute_result",
          "data": {
            "text/plain": [
              "array([0, 0, 0, ..., 1, 0, 0])"
            ]
          },
          "metadata": {},
          "execution_count": 84
        }
      ]
    },
    {
      "cell_type": "code",
      "source": [
        "#Verificando a acurácia do modelo\n",
        "accuracy_score(y_teste, previsao_knn)"
      ],
      "metadata": {
        "colab": {
          "base_uri": "https://localhost:8080/"
        },
        "id": "QPV2G5pYX74B",
        "outputId": "8f1c07c6-b890-4db6-f826-2b73f27cbf03"
      },
      "execution_count": null,
      "outputs": [
        {
          "output_type": "execute_result",
          "data": {
            "text/plain": [
              "0.8285"
            ]
          },
          "metadata": {},
          "execution_count": 118
        }
      ]
    },
    {
      "cell_type": "code",
      "source": [
        "#Matriz de confusão\n",
        "confusion_matrix(y_teste, previsao_knn)"
      ],
      "metadata": {
        "colab": {
          "base_uri": "https://localhost:8080/"
        },
        "id": "SyP5JewrX_Wz",
        "outputId": "869986aa-47ac-4844-9601-46ed060197b3"
      },
      "execution_count": null,
      "outputs": [
        {
          "output_type": "execute_result",
          "data": {
            "text/plain": [
              "array([[1516,   77],\n",
              "       [ 266,  141]])"
            ]
          },
          "metadata": {},
          "execution_count": 86
        }
      ]
    },
    {
      "cell_type": "code",
      "source": [
        "##Relatório de classificação.\n",
        "print(classification_report(y_teste, previsao_knn))"
      ],
      "metadata": {
        "colab": {
          "base_uri": "https://localhost:8080/"
        },
        "id": "OGNpefubYCnT",
        "outputId": "185de3e8-2517-4e1c-f867-5e819f5a0a85"
      },
      "execution_count": null,
      "outputs": [
        {
          "output_type": "stream",
          "name": "stdout",
          "text": [
            "              precision    recall  f1-score   support\n",
            "\n",
            "           0       0.85      0.95      0.90      1593\n",
            "           1       0.65      0.35      0.45       407\n",
            "\n",
            "    accuracy                           0.83      2000\n",
            "   macro avg       0.75      0.65      0.67      2000\n",
            "weighted avg       0.81      0.83      0.81      2000\n",
            "\n"
          ]
        }
      ]
    },
    {
      "cell_type": "markdown",
      "source": [
        "Análise dados Treino"
      ],
      "metadata": {
        "id": "UDDFmjZdg77Y"
      }
    },
    {
      "cell_type": "code",
      "source": [
        "modelo_knn = KNeighborsClassifier(n_neighbors=11, metric = 'euclidean')"
      ],
      "metadata": {
        "id": "8DGxEnLGg8mh"
      },
      "execution_count": null,
      "outputs": []
    },
    {
      "cell_type": "code",
      "source": [
        "modelo_knn.fit(X_treino, y_treino)"
      ],
      "metadata": {
        "colab": {
          "base_uri": "https://localhost:8080/",
          "height": 75
        },
        "id": "D3IYgC4vhT91",
        "outputId": "7a9eb802-59c8-4d44-f5ef-bc0b85458142"
      },
      "execution_count": null,
      "outputs": [
        {
          "output_type": "execute_result",
          "data": {
            "text/plain": [
              "KNeighborsClassifier(metric='euclidean', n_neighbors=11)"
            ],
            "text/html": [
              "<style>#sk-container-id-8 {color: black;background-color: white;}#sk-container-id-8 pre{padding: 0;}#sk-container-id-8 div.sk-toggleable {background-color: white;}#sk-container-id-8 label.sk-toggleable__label {cursor: pointer;display: block;width: 100%;margin-bottom: 0;padding: 0.3em;box-sizing: border-box;text-align: center;}#sk-container-id-8 label.sk-toggleable__label-arrow:before {content: \"▸\";float: left;margin-right: 0.25em;color: #696969;}#sk-container-id-8 label.sk-toggleable__label-arrow:hover:before {color: black;}#sk-container-id-8 div.sk-estimator:hover label.sk-toggleable__label-arrow:before {color: black;}#sk-container-id-8 div.sk-toggleable__content {max-height: 0;max-width: 0;overflow: hidden;text-align: left;background-color: #f0f8ff;}#sk-container-id-8 div.sk-toggleable__content pre {margin: 0.2em;color: black;border-radius: 0.25em;background-color: #f0f8ff;}#sk-container-id-8 input.sk-toggleable__control:checked~div.sk-toggleable__content {max-height: 200px;max-width: 100%;overflow: auto;}#sk-container-id-8 input.sk-toggleable__control:checked~label.sk-toggleable__label-arrow:before {content: \"▾\";}#sk-container-id-8 div.sk-estimator input.sk-toggleable__control:checked~label.sk-toggleable__label {background-color: #d4ebff;}#sk-container-id-8 div.sk-label input.sk-toggleable__control:checked~label.sk-toggleable__label {background-color: #d4ebff;}#sk-container-id-8 input.sk-hidden--visually {border: 0;clip: rect(1px 1px 1px 1px);clip: rect(1px, 1px, 1px, 1px);height: 1px;margin: -1px;overflow: hidden;padding: 0;position: absolute;width: 1px;}#sk-container-id-8 div.sk-estimator {font-family: monospace;background-color: #f0f8ff;border: 1px dotted black;border-radius: 0.25em;box-sizing: border-box;margin-bottom: 0.5em;}#sk-container-id-8 div.sk-estimator:hover {background-color: #d4ebff;}#sk-container-id-8 div.sk-parallel-item::after {content: \"\";width: 100%;border-bottom: 1px solid gray;flex-grow: 1;}#sk-container-id-8 div.sk-label:hover label.sk-toggleable__label {background-color: #d4ebff;}#sk-container-id-8 div.sk-serial::before {content: \"\";position: absolute;border-left: 1px solid gray;box-sizing: border-box;top: 0;bottom: 0;left: 50%;z-index: 0;}#sk-container-id-8 div.sk-serial {display: flex;flex-direction: column;align-items: center;background-color: white;padding-right: 0.2em;padding-left: 0.2em;position: relative;}#sk-container-id-8 div.sk-item {position: relative;z-index: 1;}#sk-container-id-8 div.sk-parallel {display: flex;align-items: stretch;justify-content: center;background-color: white;position: relative;}#sk-container-id-8 div.sk-item::before, #sk-container-id-8 div.sk-parallel-item::before {content: \"\";position: absolute;border-left: 1px solid gray;box-sizing: border-box;top: 0;bottom: 0;left: 50%;z-index: -1;}#sk-container-id-8 div.sk-parallel-item {display: flex;flex-direction: column;z-index: 1;position: relative;background-color: white;}#sk-container-id-8 div.sk-parallel-item:first-child::after {align-self: flex-end;width: 50%;}#sk-container-id-8 div.sk-parallel-item:last-child::after {align-self: flex-start;width: 50%;}#sk-container-id-8 div.sk-parallel-item:only-child::after {width: 0;}#sk-container-id-8 div.sk-dashed-wrapped {border: 1px dashed gray;margin: 0 0.4em 0.5em 0.4em;box-sizing: border-box;padding-bottom: 0.4em;background-color: white;}#sk-container-id-8 div.sk-label label {font-family: monospace;font-weight: bold;display: inline-block;line-height: 1.2em;}#sk-container-id-8 div.sk-label-container {text-align: center;}#sk-container-id-8 div.sk-container {/* jupyter's `normalize.less` sets `[hidden] { display: none; }` but bootstrap.min.css set `[hidden] { display: none !important; }` so we also need the `!important` here to be able to override the default hidden behavior on the sphinx rendered scikit-learn.org. See: https://github.com/scikit-learn/scikit-learn/issues/21755 */display: inline-block !important;position: relative;}#sk-container-id-8 div.sk-text-repr-fallback {display: none;}</style><div id=\"sk-container-id-8\" class=\"sk-top-container\"><div class=\"sk-text-repr-fallback\"><pre>KNeighborsClassifier(metric=&#x27;euclidean&#x27;, n_neighbors=11)</pre><b>In a Jupyter environment, please rerun this cell to show the HTML representation or trust the notebook. <br />On GitHub, the HTML representation is unable to render, please try loading this page with nbviewer.org.</b></div><div class=\"sk-container\" hidden><div class=\"sk-item\"><div class=\"sk-estimator sk-toggleable\"><input class=\"sk-toggleable__control sk-hidden--visually\" id=\"sk-estimator-id-14\" type=\"checkbox\" checked><label for=\"sk-estimator-id-14\" class=\"sk-toggleable__label sk-toggleable__label-arrow\">KNeighborsClassifier</label><div class=\"sk-toggleable__content\"><pre>KNeighborsClassifier(metric=&#x27;euclidean&#x27;, n_neighbors=11)</pre></div></div></div></div></div>"
            ]
          },
          "metadata": {},
          "execution_count": 89
        }
      ]
    },
    {
      "cell_type": "code",
      "source": [
        "#Fazendo as previsões para os dataset de treino e salvando na variável \"previsao_treino_knn\"\n",
        "previsao_treino_knn = modelo_knn.predict(X_treino)"
      ],
      "metadata": {
        "id": "kMeJHuiHhZa_"
      },
      "execution_count": null,
      "outputs": []
    },
    {
      "cell_type": "code",
      "source": [
        "accuracy_score(y_treino, previsao_treino_knn)"
      ],
      "metadata": {
        "colab": {
          "base_uri": "https://localhost:8080/"
        },
        "id": "GoYZbj9jhcmp",
        "outputId": "25ff146c-1410-4a90-a46c-90ab9bc86764"
      },
      "execution_count": null,
      "outputs": [
        {
          "output_type": "execute_result",
          "data": {
            "text/plain": [
              "0.8485"
            ]
          },
          "metadata": {},
          "execution_count": 91
        }
      ]
    },
    {
      "cell_type": "code",
      "source": [
        "confusion_matrix(y_treino, previsao_treino_knn)"
      ],
      "metadata": {
        "colab": {
          "base_uri": "https://localhost:8080/"
        },
        "id": "YN9h-36qheVf",
        "outputId": "8bb1912d-a06d-4931-e529-41ee335d7229"
      },
      "execution_count": null,
      "outputs": [
        {
          "output_type": "execute_result",
          "data": {
            "text/plain": [
              "array([[6178,  192],\n",
              "       [1020,  610]])"
            ]
          },
          "metadata": {},
          "execution_count": 92
        }
      ]
    },
    {
      "cell_type": "markdown",
      "source": [
        "### 2.4.1 - Validação Cruzada"
      ],
      "metadata": {
        "id": "BFv3VAQBh4Fk"
      }
    },
    {
      "cell_type": "code",
      "source": [
        "# Separando os dados em folds\n",
        "kfold = KFold(n_splits = 30, shuffle=True, random_state = 1)"
      ],
      "metadata": {
        "id": "ak4Wdncqh8Db"
      },
      "execution_count": null,
      "outputs": []
    },
    {
      "cell_type": "code",
      "source": [
        "# Criando o modelo\n",
        "modelo_knn = KNeighborsClassifier(n_neighbors=7, metric = 'manhattan')"
      ],
      "metadata": {
        "id": "et-GCTw6iAFp"
      },
      "execution_count": null,
      "outputs": []
    },
    {
      "cell_type": "code",
      "source": [
        "# Salvando os resultados na variável \"resultado_knn\"\n",
        "resultado_knn = cross_val_score(modelo_knn, previsores2, alvo, cv = kfold)\n",
        "resultado_knn"
      ],
      "metadata": {
        "colab": {
          "base_uri": "https://localhost:8080/"
        },
        "id": "mTGGgQnoiFKn",
        "outputId": "10319331-51c1-40a6-c898-28ee1236eb0a"
      },
      "execution_count": null,
      "outputs": [
        {
          "output_type": "execute_result",
          "data": {
            "text/plain": [
              "array([0.81137725, 0.82335329, 0.80538922, 0.81437126, 0.84730539,\n",
              "       0.83532934, 0.85329341, 0.80838323, 0.82335329, 0.83532934,\n",
              "       0.84084084, 0.82882883, 0.85285285, 0.86786787, 0.82882883,\n",
              "       0.82882883, 0.81981982, 0.83183183, 0.82282282, 0.7957958 ,\n",
              "       0.83483483, 0.83783784, 0.82882883, 0.81681682, 0.86186186,\n",
              "       0.82282282, 0.85885886, 0.81081081, 0.8048048 , 0.8018018 ])"
            ]
          },
          "metadata": {},
          "execution_count": 95
        }
      ]
    },
    {
      "cell_type": "code",
      "source": [
        "print(\"Acurácia Média: %.2f%%\" % (resultado_knn.mean() * 100.0))"
      ],
      "metadata": {
        "colab": {
          "base_uri": "https://localhost:8080/"
        },
        "id": "JhVdXJsKiNoq",
        "outputId": "50f95e35-b10e-482b-ab08-21785d8643a7"
      },
      "execution_count": null,
      "outputs": [
        {
          "output_type": "stream",
          "name": "stdout",
          "text": [
            "Acurácia Média: 82.85%\n"
          ]
        }
      ]
    },
    {
      "cell_type": "markdown",
      "source": [
        "Knn = 82,85% (treino e teste) e 82,85% (validação cruzada), com o Dataframe previsores2."
      ],
      "metadata": {
        "id": "8l2YBSWKiPxB"
      }
    },
    {
      "cell_type": "markdown",
      "source": [
        "## 2.5 - Árvores de Decisão: 86,53% (treino e teste) e 85,7% (validação cruzada)"
      ],
      "metadata": {
        "id": "aHCvm2KIi9FD"
      }
    },
    {
      "cell_type": "markdown",
      "source": [
        "Uma árvore de decisão é um tipo de algoritmo de aprendizado supervisionado que é usado para resolver problemas de classificação ou regressão. Ele pode prever categorias discretas (por exemplo, sim ou não) ou valores numéricos (por exemplo, o preço de uma casa).\n",
        "\n",
        "A árvore de decisão funciona da seguinte maneira: um dado novo que queremos classificar ou prever começa pelo nó raiz e segue o ramo correspondente à resposta da pergunta ou condição do nó. Em seguida, ele repete o procedimento no nó subsequente até chegar a um nó folha que contém o valor previsto ou a classe.\n"
      ],
      "metadata": {
        "id": "I5Wk5mU7gppZ"
      }
    },
    {
      "cell_type": "code",
      "source": [
        "#Definindo os hiperparametros\n",
        "param_arvore = {'max_depth': [1, 2, 3, 4, 5, 6, 7, 8, 9, 10], 'min_samples_split': [2, 3, 4, 5, 6, 7, 8, 9],\n",
        "                'criterion': ['gini', 'entropy'], 'max_features': ['auto', 'sqrt', 'log2']}"
      ],
      "metadata": {
        "id": "Ka7z4xDyjHty"
      },
      "execution_count": null,
      "outputs": []
    },
    {
      "cell_type": "code",
      "source": [
        "#Criando o modelo de arvore de decisão para o GridSearch\n",
        "arvored = DecisionTreeClassifier()"
      ],
      "metadata": {
        "id": "eNVF4HILjNHw"
      },
      "execution_count": null,
      "outputs": []
    },
    {
      "cell_type": "code",
      "source": [
        "#Criando o GridSearch\n",
        "grid_arvore = GridSearchCV(arvored, param_grid=param_arvore)"
      ],
      "metadata": {
        "id": "SEtAFkWRjbxO"
      },
      "execution_count": null,
      "outputs": []
    },
    {
      "cell_type": "code",
      "source": [
        "#Treinamento com o GridSearch\n",
        "grid_arvore.fit(X_treino, y_treino)"
      ],
      "metadata": {
        "id": "qP1-8czNjugo"
      },
      "execution_count": null,
      "outputs": []
    },
    {
      "cell_type": "code",
      "source": [
        "#Imprimindo os melhores hiperparametros para o modelo\n",
        "print(grid_arvore.best_params_)"
      ],
      "metadata": {
        "colab": {
          "base_uri": "https://localhost:8080/"
        },
        "id": "D5gFhlbckpJO",
        "outputId": "4617406d-150c-453d-9d11-c1f519870276"
      },
      "execution_count": null,
      "outputs": [
        {
          "output_type": "stream",
          "name": "stdout",
          "text": [
            "{'criterion': 'gini', 'max_depth': 7, 'max_features': 'log2', 'min_samples_split': 4}\n"
          ]
        }
      ]
    },
    {
      "cell_type": "code",
      "source": [
        "#Criando o modelo\n",
        "arvore = DecisionTreeClassifier(criterion='entropy',max_features = 'log2', max_depth = 8, min_samples_split = 7, random_state = 1)"
      ],
      "metadata": {
        "id": "fCnaV87LlBNr"
      },
      "execution_count": null,
      "outputs": []
    },
    {
      "cell_type": "code",
      "source": [
        "#Treinando o modelo de arvore de decisão\n",
        "arvore.fit(X_treino, y_treino)"
      ],
      "metadata": {
        "colab": {
          "base_uri": "https://localhost:8080/",
          "height": 92
        },
        "id": "vRCWlbEVlr_C",
        "outputId": "be58a37f-5d36-4861-ba81-af6a81448ca7"
      },
      "execution_count": null,
      "outputs": [
        {
          "output_type": "execute_result",
          "data": {
            "text/plain": [
              "DecisionTreeClassifier(criterion='entropy', max_depth=8, max_features='log2',\n",
              "                       min_samples_split=7, random_state=1)"
            ],
            "text/html": [
              "<style>#sk-container-id-8 {color: black;background-color: white;}#sk-container-id-8 pre{padding: 0;}#sk-container-id-8 div.sk-toggleable {background-color: white;}#sk-container-id-8 label.sk-toggleable__label {cursor: pointer;display: block;width: 100%;margin-bottom: 0;padding: 0.3em;box-sizing: border-box;text-align: center;}#sk-container-id-8 label.sk-toggleable__label-arrow:before {content: \"▸\";float: left;margin-right: 0.25em;color: #696969;}#sk-container-id-8 label.sk-toggleable__label-arrow:hover:before {color: black;}#sk-container-id-8 div.sk-estimator:hover label.sk-toggleable__label-arrow:before {color: black;}#sk-container-id-8 div.sk-toggleable__content {max-height: 0;max-width: 0;overflow: hidden;text-align: left;background-color: #f0f8ff;}#sk-container-id-8 div.sk-toggleable__content pre {margin: 0.2em;color: black;border-radius: 0.25em;background-color: #f0f8ff;}#sk-container-id-8 input.sk-toggleable__control:checked~div.sk-toggleable__content {max-height: 200px;max-width: 100%;overflow: auto;}#sk-container-id-8 input.sk-toggleable__control:checked~label.sk-toggleable__label-arrow:before {content: \"▾\";}#sk-container-id-8 div.sk-estimator input.sk-toggleable__control:checked~label.sk-toggleable__label {background-color: #d4ebff;}#sk-container-id-8 div.sk-label input.sk-toggleable__control:checked~label.sk-toggleable__label {background-color: #d4ebff;}#sk-container-id-8 input.sk-hidden--visually {border: 0;clip: rect(1px 1px 1px 1px);clip: rect(1px, 1px, 1px, 1px);height: 1px;margin: -1px;overflow: hidden;padding: 0;position: absolute;width: 1px;}#sk-container-id-8 div.sk-estimator {font-family: monospace;background-color: #f0f8ff;border: 1px dotted black;border-radius: 0.25em;box-sizing: border-box;margin-bottom: 0.5em;}#sk-container-id-8 div.sk-estimator:hover {background-color: #d4ebff;}#sk-container-id-8 div.sk-parallel-item::after {content: \"\";width: 100%;border-bottom: 1px solid gray;flex-grow: 1;}#sk-container-id-8 div.sk-label:hover label.sk-toggleable__label {background-color: #d4ebff;}#sk-container-id-8 div.sk-serial::before {content: \"\";position: absolute;border-left: 1px solid gray;box-sizing: border-box;top: 0;bottom: 0;left: 50%;z-index: 0;}#sk-container-id-8 div.sk-serial {display: flex;flex-direction: column;align-items: center;background-color: white;padding-right: 0.2em;padding-left: 0.2em;position: relative;}#sk-container-id-8 div.sk-item {position: relative;z-index: 1;}#sk-container-id-8 div.sk-parallel {display: flex;align-items: stretch;justify-content: center;background-color: white;position: relative;}#sk-container-id-8 div.sk-item::before, #sk-container-id-8 div.sk-parallel-item::before {content: \"\";position: absolute;border-left: 1px solid gray;box-sizing: border-box;top: 0;bottom: 0;left: 50%;z-index: -1;}#sk-container-id-8 div.sk-parallel-item {display: flex;flex-direction: column;z-index: 1;position: relative;background-color: white;}#sk-container-id-8 div.sk-parallel-item:first-child::after {align-self: flex-end;width: 50%;}#sk-container-id-8 div.sk-parallel-item:last-child::after {align-self: flex-start;width: 50%;}#sk-container-id-8 div.sk-parallel-item:only-child::after {width: 0;}#sk-container-id-8 div.sk-dashed-wrapped {border: 1px dashed gray;margin: 0 0.4em 0.5em 0.4em;box-sizing: border-box;padding-bottom: 0.4em;background-color: white;}#sk-container-id-8 div.sk-label label {font-family: monospace;font-weight: bold;display: inline-block;line-height: 1.2em;}#sk-container-id-8 div.sk-label-container {text-align: center;}#sk-container-id-8 div.sk-container {/* jupyter's `normalize.less` sets `[hidden] { display: none; }` but bootstrap.min.css set `[hidden] { display: none !important; }` so we also need the `!important` here to be able to override the default hidden behavior on the sphinx rendered scikit-learn.org. See: https://github.com/scikit-learn/scikit-learn/issues/21755 */display: inline-block !important;position: relative;}#sk-container-id-8 div.sk-text-repr-fallback {display: none;}</style><div id=\"sk-container-id-8\" class=\"sk-top-container\"><div class=\"sk-text-repr-fallback\"><pre>DecisionTreeClassifier(criterion=&#x27;entropy&#x27;, max_depth=8, max_features=&#x27;log2&#x27;,\n",
              "                       min_samples_split=7, random_state=1)</pre><b>In a Jupyter environment, please rerun this cell to show the HTML representation or trust the notebook. <br />On GitHub, the HTML representation is unable to render, please try loading this page with nbviewer.org.</b></div><div class=\"sk-container\" hidden><div class=\"sk-item\"><div class=\"sk-estimator sk-toggleable\"><input class=\"sk-toggleable__control sk-hidden--visually\" id=\"sk-estimator-id-8\" type=\"checkbox\" checked><label for=\"sk-estimator-id-8\" class=\"sk-toggleable__label sk-toggleable__label-arrow\">DecisionTreeClassifier</label><div class=\"sk-toggleable__content\"><pre>DecisionTreeClassifier(criterion=&#x27;entropy&#x27;, max_depth=8, max_features=&#x27;log2&#x27;,\n",
              "                       min_samples_split=7, random_state=1)</pre></div></div></div></div></div>"
            ]
          },
          "metadata": {},
          "execution_count": 51
        }
      ]
    },
    {
      "cell_type": "code",
      "source": [
        "#Fazendo as previsões e salvando na variável \"previsao_arvore\"\n",
        "previsao_arvore = arvore.predict(X_teste)\n",
        "previsao_arvore"
      ],
      "metadata": {
        "colab": {
          "base_uri": "https://localhost:8080/"
        },
        "id": "y-05_Bakjw_4",
        "outputId": "99f2cd80-09d3-4721-b5e0-755897565840"
      },
      "execution_count": null,
      "outputs": [
        {
          "output_type": "execute_result",
          "data": {
            "text/plain": [
              "array([0, 0, 0, ..., 0, 0, 0])"
            ]
          },
          "metadata": {},
          "execution_count": 153
        }
      ]
    },
    {
      "cell_type": "code",
      "source": [
        "y_teste"
      ],
      "metadata": {
        "colab": {
          "base_uri": "https://localhost:8080/"
        },
        "id": "JY379q0gkVY2",
        "outputId": "b88e2663-a188-4c33-8740-d28749090d49"
      },
      "execution_count": null,
      "outputs": [
        {
          "output_type": "execute_result",
          "data": {
            "text/plain": [
              "array([0, 0, 0, ..., 1, 0, 0])"
            ]
          },
          "metadata": {},
          "execution_count": 154
        }
      ]
    },
    {
      "cell_type": "code",
      "source": [
        "#Verificando a acurácia do modelo\n",
        "accuracy_score(y_teste, previsao_arvore)"
      ],
      "metadata": {
        "colab": {
          "base_uri": "https://localhost:8080/"
        },
        "id": "vIdsXBOukXaJ",
        "outputId": "ca46804e-cb0d-4841-bf7a-f3e7a950bc3d"
      },
      "execution_count": null,
      "outputs": [
        {
          "output_type": "execute_result",
          "data": {
            "text/plain": [
              "0.858"
            ]
          },
          "metadata": {},
          "execution_count": 155
        }
      ]
    },
    {
      "cell_type": "code",
      "source": [
        "#Matris de confusão\n",
        "confusion_matrix(y_teste, previsao_arvore)"
      ],
      "metadata": {
        "colab": {
          "base_uri": "https://localhost:8080/"
        },
        "id": "5UUCMMvRkdNC",
        "outputId": "4f6be3c0-d094-43d8-f320-df3155c17e12"
      },
      "execution_count": null,
      "outputs": [
        {
          "output_type": "execute_result",
          "data": {
            "text/plain": [
              "array([[1533,   60],\n",
              "       [ 224,  183]])"
            ]
          },
          "metadata": {},
          "execution_count": 156
        }
      ]
    },
    {
      "cell_type": "markdown",
      "source": [
        "Análise dados de Treino"
      ],
      "metadata": {
        "id": "wuQ2daPrmKbR"
      }
    },
    {
      "cell_type": "code",
      "source": [
        "#Fazendo as previsões para os dataset de treino e salvando na variável \"previsao_treino_arvore\"\n",
        "previsao_treino_arvore = arvore.predict(X_treino)\n",
        "previsao_treino_arvore"
      ],
      "metadata": {
        "colab": {
          "base_uri": "https://localhost:8080/"
        },
        "id": "rXtk6yv3mK9V",
        "outputId": "20cfdcdf-5414-4661-8c2c-36b782370f0c"
      },
      "execution_count": null,
      "outputs": [
        {
          "output_type": "execute_result",
          "data": {
            "text/plain": [
              "array([0, 0, 0, ..., 0, 0, 0])"
            ]
          },
          "metadata": {},
          "execution_count": 157
        }
      ]
    },
    {
      "cell_type": "code",
      "source": [
        "accuracy_score(y_treino, previsao_treino_arvore)"
      ],
      "metadata": {
        "colab": {
          "base_uri": "https://localhost:8080/"
        },
        "id": "dpaMcVghn-nF",
        "outputId": "db3ef22a-e78a-4699-f797-08518ff3d7d3"
      },
      "execution_count": null,
      "outputs": [
        {
          "output_type": "execute_result",
          "data": {
            "text/plain": [
              "0.861875"
            ]
          },
          "metadata": {},
          "execution_count": 158
        }
      ]
    },
    {
      "cell_type": "code",
      "source": [
        "confusion_matrix(y_treino, previsao_treino_arvore)"
      ],
      "metadata": {
        "colab": {
          "base_uri": "https://localhost:8080/"
        },
        "id": "XW0lV6OxoCFf",
        "outputId": "85ebe8c9-adf7-4487-83e8-6d7bd9d0051a"
      },
      "execution_count": null,
      "outputs": [
        {
          "output_type": "execute_result",
          "data": {
            "text/plain": [
              "array([[6179,  191],\n",
              "       [ 914,  716]])"
            ]
          },
          "metadata": {},
          "execution_count": 159
        }
      ]
    },
    {
      "cell_type": "markdown",
      "source": [
        "### 2.5.1 - Validação Cruzada"
      ],
      "metadata": {
        "id": "D8-M0OOooD4c"
      }
    },
    {
      "cell_type": "code",
      "source": [
        "# Separando os dados em folds\n",
        "kfold = KFold(n_splits = 10, shuffle=True, random_state = 1)"
      ],
      "metadata": {
        "id": "9qaq7ChJoHJ6"
      },
      "execution_count": null,
      "outputs": []
    },
    {
      "cell_type": "code",
      "source": [
        "#Criando o modelo\n",
        "modelo_arvore = DecisionTreeClassifier(criterion='entropy',max_features = 'log2', max_depth = 8, min_samples_split = 7, random_state = 1)"
      ],
      "metadata": {
        "id": "uLc1v3H9oQ51"
      },
      "execution_count": null,
      "outputs": []
    },
    {
      "cell_type": "code",
      "source": [
        "# Salvando os resultados na variável \"resultado_arvore\"\n",
        "resultado_arvore = cross_val_score(modelo_arvore, previsores, alvo, cv = kfold)\n",
        "resultado_arvore"
      ],
      "metadata": {
        "colab": {
          "base_uri": "https://localhost:8080/"
        },
        "id": "lgHuQb0BokcM",
        "outputId": "ac92575b-a3c7-4467-f899-efa3c195f426"
      },
      "execution_count": null,
      "outputs": [
        {
          "output_type": "execute_result",
          "data": {
            "text/plain": [
              "array([0.848, 0.858, 0.85 , 0.848, 0.853, 0.857, 0.839, 0.845, 0.863,\n",
              "       0.84 ])"
            ]
          },
          "metadata": {},
          "execution_count": 162
        }
      ]
    },
    {
      "cell_type": "code",
      "source": [
        "print(\"Acurácia Média: %.2f%%\" % (resultado_arvore.mean() * 100.0))"
      ],
      "metadata": {
        "colab": {
          "base_uri": "https://localhost:8080/"
        },
        "id": "iqBIe-7top45",
        "outputId": "23b6cea3-5e70-4372-a57c-5e787f2bb4f9"
      },
      "execution_count": null,
      "outputs": [
        {
          "output_type": "stream",
          "name": "stdout",
          "text": [
            "Acurácia Média: 85.01%\n"
          ]
        }
      ]
    },
    {
      "cell_type": "markdown",
      "source": [
        "Arvores de Decisão = 86,53% (treino e teste) e 85,7% (validação cruzada), com o conjunto de dados previsores."
      ],
      "metadata": {
        "id": "IDtC_pXNovYc"
      }
    },
    {
      "cell_type": "markdown",
      "source": [
        "## 2.6 - Random Forest: 86,15% (treino e teste) e 85,74% (validação cruzada)"
      ],
      "metadata": {
        "id": "RoOIPTvGrRv0"
      }
    },
    {
      "cell_type": "markdown",
      "source": [
        "Floresta aleatória, também conhecida como \"floresta aleatória\", é um tipo de algoritmo de aprendizado supervisionado usado para resolver problemas de regressão ou classificação, além de servir como uma árvore de decisão. Por outro lado, ele cria uma \"floresta\" com um conjunto de árvores de decisão separadas que foram criadas aleatoriamente.\n",
        "\n",
        "Para fazer uma previsão com um bosque aleatório, cada árvore de decisão faz sua própria previsão. No caso de regressão ou classificação, os resultados são determinados pela média (no caso de regressão) ou pela votação majoritária (no caso de classificação). Assim, o bosque aleatório pode registrar a variabilidade dos dados e evitar o problema de overfitting (ou seja, o modelo se adaptar demais aos dados de treino e perder a capacidade de generalizar para dados novos)."
      ],
      "metadata": {
        "id": "bdLPbvP_h5-V"
      }
    },
    {
      "cell_type": "code",
      "source": [
        "#criando o modelo\n",
        "forest = RandomForestClassifier(n_estimators=100, criterion='entropy', random_state = 1, max_depth=8)"
      ],
      "metadata": {
        "id": "YLvlWdjGsabx"
      },
      "execution_count": null,
      "outputs": []
    },
    {
      "cell_type": "code",
      "source": [
        "#Treinando o modelo\n",
        "forest.fit(X_treino, y_treino)"
      ],
      "metadata": {
        "colab": {
          "base_uri": "https://localhost:8080/",
          "height": 75
        },
        "id": "kDD9O3tksiTp",
        "outputId": "2efad6c3-96ac-4e47-e363-dddf655fa3dd"
      },
      "execution_count": null,
      "outputs": [
        {
          "output_type": "execute_result",
          "data": {
            "text/plain": [
              "RandomForestClassifier(criterion='entropy', max_depth=8, random_state=1)"
            ],
            "text/html": [
              "<style>#sk-container-id-10 {color: black;background-color: white;}#sk-container-id-10 pre{padding: 0;}#sk-container-id-10 div.sk-toggleable {background-color: white;}#sk-container-id-10 label.sk-toggleable__label {cursor: pointer;display: block;width: 100%;margin-bottom: 0;padding: 0.3em;box-sizing: border-box;text-align: center;}#sk-container-id-10 label.sk-toggleable__label-arrow:before {content: \"▸\";float: left;margin-right: 0.25em;color: #696969;}#sk-container-id-10 label.sk-toggleable__label-arrow:hover:before {color: black;}#sk-container-id-10 div.sk-estimator:hover label.sk-toggleable__label-arrow:before {color: black;}#sk-container-id-10 div.sk-toggleable__content {max-height: 0;max-width: 0;overflow: hidden;text-align: left;background-color: #f0f8ff;}#sk-container-id-10 div.sk-toggleable__content pre {margin: 0.2em;color: black;border-radius: 0.25em;background-color: #f0f8ff;}#sk-container-id-10 input.sk-toggleable__control:checked~div.sk-toggleable__content {max-height: 200px;max-width: 100%;overflow: auto;}#sk-container-id-10 input.sk-toggleable__control:checked~label.sk-toggleable__label-arrow:before {content: \"▾\";}#sk-container-id-10 div.sk-estimator input.sk-toggleable__control:checked~label.sk-toggleable__label {background-color: #d4ebff;}#sk-container-id-10 div.sk-label input.sk-toggleable__control:checked~label.sk-toggleable__label {background-color: #d4ebff;}#sk-container-id-10 input.sk-hidden--visually {border: 0;clip: rect(1px 1px 1px 1px);clip: rect(1px, 1px, 1px, 1px);height: 1px;margin: -1px;overflow: hidden;padding: 0;position: absolute;width: 1px;}#sk-container-id-10 div.sk-estimator {font-family: monospace;background-color: #f0f8ff;border: 1px dotted black;border-radius: 0.25em;box-sizing: border-box;margin-bottom: 0.5em;}#sk-container-id-10 div.sk-estimator:hover {background-color: #d4ebff;}#sk-container-id-10 div.sk-parallel-item::after {content: \"\";width: 100%;border-bottom: 1px solid gray;flex-grow: 1;}#sk-container-id-10 div.sk-label:hover label.sk-toggleable__label {background-color: #d4ebff;}#sk-container-id-10 div.sk-serial::before {content: \"\";position: absolute;border-left: 1px solid gray;box-sizing: border-box;top: 0;bottom: 0;left: 50%;z-index: 0;}#sk-container-id-10 div.sk-serial {display: flex;flex-direction: column;align-items: center;background-color: white;padding-right: 0.2em;padding-left: 0.2em;position: relative;}#sk-container-id-10 div.sk-item {position: relative;z-index: 1;}#sk-container-id-10 div.sk-parallel {display: flex;align-items: stretch;justify-content: center;background-color: white;position: relative;}#sk-container-id-10 div.sk-item::before, #sk-container-id-10 div.sk-parallel-item::before {content: \"\";position: absolute;border-left: 1px solid gray;box-sizing: border-box;top: 0;bottom: 0;left: 50%;z-index: -1;}#sk-container-id-10 div.sk-parallel-item {display: flex;flex-direction: column;z-index: 1;position: relative;background-color: white;}#sk-container-id-10 div.sk-parallel-item:first-child::after {align-self: flex-end;width: 50%;}#sk-container-id-10 div.sk-parallel-item:last-child::after {align-self: flex-start;width: 50%;}#sk-container-id-10 div.sk-parallel-item:only-child::after {width: 0;}#sk-container-id-10 div.sk-dashed-wrapped {border: 1px dashed gray;margin: 0 0.4em 0.5em 0.4em;box-sizing: border-box;padding-bottom: 0.4em;background-color: white;}#sk-container-id-10 div.sk-label label {font-family: monospace;font-weight: bold;display: inline-block;line-height: 1.2em;}#sk-container-id-10 div.sk-label-container {text-align: center;}#sk-container-id-10 div.sk-container {/* jupyter's `normalize.less` sets `[hidden] { display: none; }` but bootstrap.min.css set `[hidden] { display: none !important; }` so we also need the `!important` here to be able to override the default hidden behavior on the sphinx rendered scikit-learn.org. See: https://github.com/scikit-learn/scikit-learn/issues/21755 */display: inline-block !important;position: relative;}#sk-container-id-10 div.sk-text-repr-fallback {display: none;}</style><div id=\"sk-container-id-10\" class=\"sk-top-container\"><div class=\"sk-text-repr-fallback\"><pre>RandomForestClassifier(criterion=&#x27;entropy&#x27;, max_depth=8, random_state=1)</pre><b>In a Jupyter environment, please rerun this cell to show the HTML representation or trust the notebook. <br />On GitHub, the HTML representation is unable to render, please try loading this page with nbviewer.org.</b></div><div class=\"sk-container\" hidden><div class=\"sk-item\"><div class=\"sk-estimator sk-toggleable\"><input class=\"sk-toggleable__control sk-hidden--visually\" id=\"sk-estimator-id-10\" type=\"checkbox\" checked><label for=\"sk-estimator-id-10\" class=\"sk-toggleable__label sk-toggleable__label-arrow\">RandomForestClassifier</label><div class=\"sk-toggleable__content\"><pre>RandomForestClassifier(criterion=&#x27;entropy&#x27;, max_depth=8, random_state=1)</pre></div></div></div></div></div>"
            ]
          },
          "metadata": {},
          "execution_count": 57
        }
      ]
    },
    {
      "cell_type": "code",
      "source": [
        "#Fazendo as previsões e salvando na variável \"previsao_forest\"\n",
        "previsao_forest = forest.predict(X_teste)\n",
        "previsao_forest"
      ],
      "metadata": {
        "colab": {
          "base_uri": "https://localhost:8080/"
        },
        "id": "kQ1srZAisnYA",
        "outputId": "8983a2d1-9771-451b-e1e2-35fb71d15233"
      },
      "execution_count": null,
      "outputs": [
        {
          "output_type": "execute_result",
          "data": {
            "text/plain": [
              "array([0, 0, 0, ..., 0, 0, 0])"
            ]
          },
          "metadata": {},
          "execution_count": 167
        }
      ]
    },
    {
      "cell_type": "code",
      "source": [
        "y_teste"
      ],
      "metadata": {
        "colab": {
          "base_uri": "https://localhost:8080/"
        },
        "id": "mo-MzKbcstRQ",
        "outputId": "f68e80fb-738b-4001-801b-19517bf52f26"
      },
      "execution_count": null,
      "outputs": [
        {
          "output_type": "execute_result",
          "data": {
            "text/plain": [
              "array([0, 0, 0, ..., 1, 0, 0])"
            ]
          },
          "metadata": {},
          "execution_count": 168
        }
      ]
    },
    {
      "cell_type": "code",
      "source": [
        "#VErificando a acurácia do modelo\n",
        "accuracy_score(y_teste, previsao_forest)"
      ],
      "metadata": {
        "colab": {
          "base_uri": "https://localhost:8080/"
        },
        "id": "iqI6iSuxsulJ",
        "outputId": "a3d374af-77c9-460b-c750-f08e6e3f1754"
      },
      "execution_count": null,
      "outputs": [
        {
          "output_type": "execute_result",
          "data": {
            "text/plain": [
              "0.8615"
            ]
          },
          "metadata": {},
          "execution_count": 169
        }
      ]
    },
    {
      "cell_type": "code",
      "source": [
        "#Matriz de confusão\n",
        "confusion_matrix(y_teste, previsao_forest)"
      ],
      "metadata": {
        "colab": {
          "base_uri": "https://localhost:8080/"
        },
        "id": "xLjFK9vssx96",
        "outputId": "44092708-0493-43c8-e8f1-aa15aa220081"
      },
      "execution_count": null,
      "outputs": [
        {
          "output_type": "execute_result",
          "data": {
            "text/plain": [
              "array([[1563,   30],\n",
              "       [ 247,  160]])"
            ]
          },
          "metadata": {},
          "execution_count": 170
        }
      ]
    },
    {
      "cell_type": "code",
      "source": [
        "#Relatório de classificação.\n",
        "print(classification_report(y_teste, previsao_forest))"
      ],
      "metadata": {
        "colab": {
          "base_uri": "https://localhost:8080/"
        },
        "id": "xdQgFy4Ks1pW",
        "outputId": "457cbea0-c79e-4c4e-e381-1660ae23aee5"
      },
      "execution_count": null,
      "outputs": [
        {
          "output_type": "stream",
          "name": "stdout",
          "text": [
            "              precision    recall  f1-score   support\n",
            "\n",
            "           0       0.86      0.98      0.92      1593\n",
            "           1       0.84      0.39      0.54       407\n",
            "\n",
            "    accuracy                           0.86      2000\n",
            "   macro avg       0.85      0.69      0.73      2000\n",
            "weighted avg       0.86      0.86      0.84      2000\n",
            "\n"
          ]
        }
      ]
    },
    {
      "cell_type": "markdown",
      "source": [
        "Análise dados Treino"
      ],
      "metadata": {
        "id": "8IjFR-92s6LV"
      }
    },
    {
      "cell_type": "code",
      "source": [
        "#Fazendo as previsões para os dataset de treino e salvando na variável \"previsao_treino_forest\"\n",
        "previsao_treino_forest = forest.predict(X_treino)"
      ],
      "metadata": {
        "id": "jNYbOEv9s-Yb"
      },
      "execution_count": null,
      "outputs": []
    },
    {
      "cell_type": "code",
      "source": [
        "accuracy_score(y_treino, previsao_treino_forest)"
      ],
      "metadata": {
        "colab": {
          "base_uri": "https://localhost:8080/"
        },
        "id": "0nc9zr4ntEzZ",
        "outputId": "7cf67195-df51-4724-b448-f98c9770a6ba"
      },
      "execution_count": null,
      "outputs": [
        {
          "output_type": "execute_result",
          "data": {
            "text/plain": [
              "0.871"
            ]
          },
          "metadata": {},
          "execution_count": 173
        }
      ]
    },
    {
      "cell_type": "code",
      "source": [
        "confusion_matrix(y_treino, previsao_treino_forest)"
      ],
      "metadata": {
        "colab": {
          "base_uri": "https://localhost:8080/"
        },
        "id": "gtBPyKputIlj",
        "outputId": "487008ed-fe99-408d-b606-0d37aac5eaad"
      },
      "execution_count": null,
      "outputs": [
        {
          "output_type": "execute_result",
          "data": {
            "text/plain": [
              "array([[6276,   94],\n",
              "       [ 938,  692]])"
            ]
          },
          "metadata": {},
          "execution_count": 174
        }
      ]
    },
    {
      "cell_type": "markdown",
      "source": [
        "### 2.6.1 - Validação Cruzada"
      ],
      "metadata": {
        "id": "FAJP1EfOtLQB"
      }
    },
    {
      "cell_type": "code",
      "source": [
        "# Separando os dados em folds\n",
        "kfold = KFold(n_splits=10, shuffle = True, random_state = 1)"
      ],
      "metadata": {
        "id": "9PYm_7WEtT_M"
      },
      "execution_count": null,
      "outputs": []
    },
    {
      "cell_type": "code",
      "source": [
        "#Criando o modelo\n",
        "modelo_forest = RandomForestClassifier(n_estimators=100, criterion='entropy', random_state = 1, max_depth=8)"
      ],
      "metadata": {
        "id": "QWy6xbUrteMK"
      },
      "execution_count": null,
      "outputs": []
    },
    {
      "cell_type": "code",
      "source": [
        "# Salvando os resultados na variável \"resultado_forest\"\n",
        "resultado_forest = cross_val_score(modelo_forest, previsores, alvo, cv = kfold)\n",
        "resultado_forest"
      ],
      "metadata": {
        "colab": {
          "base_uri": "https://localhost:8080/"
        },
        "id": "C9yKK6e2tnqd",
        "outputId": "ea76b123-36d5-4be6-c749-7912d6ad77f9"
      },
      "execution_count": null,
      "outputs": [
        {
          "output_type": "execute_result",
          "data": {
            "text/plain": [
              "array([0.855, 0.865, 0.857, 0.856, 0.867, 0.865, 0.843, 0.851, 0.875,\n",
              "       0.846])"
            ]
          },
          "metadata": {},
          "execution_count": 177
        }
      ]
    },
    {
      "cell_type": "code",
      "source": [
        "print(\"Acurácia Média: %.2f%%\" % (resultado_forest.mean() * 100.0))"
      ],
      "metadata": {
        "colab": {
          "base_uri": "https://localhost:8080/"
        },
        "id": "jDqE47-9t4Af",
        "outputId": "c175e7b2-3ea8-4a53-dd05-9127c447f0b4"
      },
      "execution_count": null,
      "outputs": [
        {
          "output_type": "stream",
          "name": "stdout",
          "text": [
            "Acurácia Média: 85.80%\n"
          ]
        }
      ]
    },
    {
      "cell_type": "markdown",
      "source": [
        "Random Forest = 86,15% (treino e teste) e 85,74% (validação cruzada), com o conjunto de dados previsores."
      ],
      "metadata": {
        "id": "sRmomJt180ZC"
      }
    },
    {
      "cell_type": "markdown",
      "source": [
        "## 2.7 - XGBOOST: 86,5% (treino e teste) e 86,41% (validação cruzada)"
      ],
      "metadata": {
        "id": "DyVlPNTTVW9A"
      }
    },
    {
      "cell_type": "markdown",
      "source": [
        "XGBoost (também conhecido como eXtreme Gradient Boosting) é um algoritmo de aprendizado supervisionado que usa gradiente boosting para regressão e classificação.\n",
        "\n",
        "O incremento gradativo é uma abordagem que cria um modelo \"forte\" e sólido por meio da combinação de vários modelos \"fracos\", normalmente árvores de decisão. O aumento do gradiente usa o algoritmo de descida do gradiente para reduzir a função de perda (perda) enquanto novos modelos são adicionados à coleção.\n"
      ],
      "metadata": {
        "id": "GWUe9n0vofE3"
      }
    },
    {
      "cell_type": "code",
      "source": [
        "#Criando o modelo para ser usado no GridSearch\n",
        "xgbg = XGBClassifier()"
      ],
      "metadata": {
        "id": "WH9jSZHjWQNE"
      },
      "execution_count": null,
      "outputs": []
    },
    {
      "cell_type": "code",
      "source": [
        "#Definindo os hiperparametros\n",
        "param_xgb = {'max_depth': [3, 4, 5], 'learning_rate': [0.1, 0.01], 'n_estimators': [100, 200], 'min_child_weight': [1, 5],\n",
        "             'gamma': [0.5, 1], 'subsample': [0.6, 0.8], 'colsample_bytree': [0.6, 0.8], 'objective': ['binary:logistic']}"
      ],
      "metadata": {
        "id": "1FZ2hV-nWU3y"
      },
      "execution_count": null,
      "outputs": []
    },
    {
      "cell_type": "code",
      "source": [
        "#Criando o GridSearch\n",
        "grid_xgb = GridSearchCV(xgbg, param_xgb)"
      ],
      "metadata": {
        "id": "N4GBqb2MWzRY"
      },
      "execution_count": null,
      "outputs": []
    },
    {
      "cell_type": "code",
      "source": [
        "#Treinamento com o GridSearch\n",
        "grid_xgb.fit(X_treino, y_treino)"
      ],
      "metadata": {
        "id": "II9S7aXyXKIT"
      },
      "execution_count": null,
      "outputs": []
    },
    {
      "cell_type": "code",
      "source": [
        "#Imprimindo os melhores hiperparametros\n",
        "print(grid_xgb.best_params_)"
      ],
      "metadata": {
        "id": "bqAZilK_XRwk"
      },
      "execution_count": null,
      "outputs": []
    },
    {
      "cell_type": "code",
      "source": [
        "#Criando o modelo\n",
        "xgb = XGBClassifier(n_estimators = 200, colsample_bytree = 0.6, gamma = 1, learning_rate = 0.1, max_depth = 4,\n",
        "                    min_child_weight = 5, objective ='binary:logistic', subsample = 0.8, random_state = 1)"
      ],
      "metadata": {
        "id": "2QqiWeE1Xqh5"
      },
      "execution_count": null,
      "outputs": []
    },
    {
      "cell_type": "code",
      "source": [
        "#Treinando o modelo XGBOOST\n",
        "xgb.fit(X_treino, y_treino)"
      ],
      "metadata": {
        "colab": {
          "base_uri": "https://localhost:8080/",
          "height": 248
        },
        "id": "5rstLgOdXvxJ",
        "outputId": "d0e20d2e-05aa-41a8-b3cf-ad8e0d9188a7"
      },
      "execution_count": null,
      "outputs": [
        {
          "output_type": "execute_result",
          "data": {
            "text/plain": [
              "XGBClassifier(base_score=None, booster=None, callbacks=None,\n",
              "              colsample_bylevel=None, colsample_bynode=None,\n",
              "              colsample_bytree=0.6, early_stopping_rounds=None,\n",
              "              enable_categorical=False, eval_metric=None, feature_types=None,\n",
              "              gamma=1, gpu_id=None, grow_policy=None, importance_type=None,\n",
              "              interaction_constraints=None, learning_rate=0.1, max_bin=None,\n",
              "              max_cat_threshold=None, max_cat_to_onehot=None,\n",
              "              max_delta_step=None, max_depth=4, max_leaves=None,\n",
              "              min_child_weight=5, missing=nan, monotone_constraints=None,\n",
              "              n_estimators=200, n_jobs=None, num_parallel_tree=None,\n",
              "              predictor=None, random_state=1, ...)"
            ],
            "text/html": [
              "<style>#sk-container-id-11 {color: black;background-color: white;}#sk-container-id-11 pre{padding: 0;}#sk-container-id-11 div.sk-toggleable {background-color: white;}#sk-container-id-11 label.sk-toggleable__label {cursor: pointer;display: block;width: 100%;margin-bottom: 0;padding: 0.3em;box-sizing: border-box;text-align: center;}#sk-container-id-11 label.sk-toggleable__label-arrow:before {content: \"▸\";float: left;margin-right: 0.25em;color: #696969;}#sk-container-id-11 label.sk-toggleable__label-arrow:hover:before {color: black;}#sk-container-id-11 div.sk-estimator:hover label.sk-toggleable__label-arrow:before {color: black;}#sk-container-id-11 div.sk-toggleable__content {max-height: 0;max-width: 0;overflow: hidden;text-align: left;background-color: #f0f8ff;}#sk-container-id-11 div.sk-toggleable__content pre {margin: 0.2em;color: black;border-radius: 0.25em;background-color: #f0f8ff;}#sk-container-id-11 input.sk-toggleable__control:checked~div.sk-toggleable__content {max-height: 200px;max-width: 100%;overflow: auto;}#sk-container-id-11 input.sk-toggleable__control:checked~label.sk-toggleable__label-arrow:before {content: \"▾\";}#sk-container-id-11 div.sk-estimator input.sk-toggleable__control:checked~label.sk-toggleable__label {background-color: #d4ebff;}#sk-container-id-11 div.sk-label input.sk-toggleable__control:checked~label.sk-toggleable__label {background-color: #d4ebff;}#sk-container-id-11 input.sk-hidden--visually {border: 0;clip: rect(1px 1px 1px 1px);clip: rect(1px, 1px, 1px, 1px);height: 1px;margin: -1px;overflow: hidden;padding: 0;position: absolute;width: 1px;}#sk-container-id-11 div.sk-estimator {font-family: monospace;background-color: #f0f8ff;border: 1px dotted black;border-radius: 0.25em;box-sizing: border-box;margin-bottom: 0.5em;}#sk-container-id-11 div.sk-estimator:hover {background-color: #d4ebff;}#sk-container-id-11 div.sk-parallel-item::after {content: \"\";width: 100%;border-bottom: 1px solid gray;flex-grow: 1;}#sk-container-id-11 div.sk-label:hover label.sk-toggleable__label {background-color: #d4ebff;}#sk-container-id-11 div.sk-serial::before {content: \"\";position: absolute;border-left: 1px solid gray;box-sizing: border-box;top: 0;bottom: 0;left: 50%;z-index: 0;}#sk-container-id-11 div.sk-serial {display: flex;flex-direction: column;align-items: center;background-color: white;padding-right: 0.2em;padding-left: 0.2em;position: relative;}#sk-container-id-11 div.sk-item {position: relative;z-index: 1;}#sk-container-id-11 div.sk-parallel {display: flex;align-items: stretch;justify-content: center;background-color: white;position: relative;}#sk-container-id-11 div.sk-item::before, #sk-container-id-11 div.sk-parallel-item::before {content: \"\";position: absolute;border-left: 1px solid gray;box-sizing: border-box;top: 0;bottom: 0;left: 50%;z-index: -1;}#sk-container-id-11 div.sk-parallel-item {display: flex;flex-direction: column;z-index: 1;position: relative;background-color: white;}#sk-container-id-11 div.sk-parallel-item:first-child::after {align-self: flex-end;width: 50%;}#sk-container-id-11 div.sk-parallel-item:last-child::after {align-self: flex-start;width: 50%;}#sk-container-id-11 div.sk-parallel-item:only-child::after {width: 0;}#sk-container-id-11 div.sk-dashed-wrapped {border: 1px dashed gray;margin: 0 0.4em 0.5em 0.4em;box-sizing: border-box;padding-bottom: 0.4em;background-color: white;}#sk-container-id-11 div.sk-label label {font-family: monospace;font-weight: bold;display: inline-block;line-height: 1.2em;}#sk-container-id-11 div.sk-label-container {text-align: center;}#sk-container-id-11 div.sk-container {/* jupyter's `normalize.less` sets `[hidden] { display: none; }` but bootstrap.min.css set `[hidden] { display: none !important; }` so we also need the `!important` here to be able to override the default hidden behavior on the sphinx rendered scikit-learn.org. See: https://github.com/scikit-learn/scikit-learn/issues/21755 */display: inline-block !important;position: relative;}#sk-container-id-11 div.sk-text-repr-fallback {display: none;}</style><div id=\"sk-container-id-11\" class=\"sk-top-container\"><div class=\"sk-text-repr-fallback\"><pre>XGBClassifier(base_score=None, booster=None, callbacks=None,\n",
              "              colsample_bylevel=None, colsample_bynode=None,\n",
              "              colsample_bytree=0.6, early_stopping_rounds=None,\n",
              "              enable_categorical=False, eval_metric=None, feature_types=None,\n",
              "              gamma=1, gpu_id=None, grow_policy=None, importance_type=None,\n",
              "              interaction_constraints=None, learning_rate=0.1, max_bin=None,\n",
              "              max_cat_threshold=None, max_cat_to_onehot=None,\n",
              "              max_delta_step=None, max_depth=4, max_leaves=None,\n",
              "              min_child_weight=5, missing=nan, monotone_constraints=None,\n",
              "              n_estimators=200, n_jobs=None, num_parallel_tree=None,\n",
              "              predictor=None, random_state=1, ...)</pre><b>In a Jupyter environment, please rerun this cell to show the HTML representation or trust the notebook. <br />On GitHub, the HTML representation is unable to render, please try loading this page with nbviewer.org.</b></div><div class=\"sk-container\" hidden><div class=\"sk-item\"><div class=\"sk-estimator sk-toggleable\"><input class=\"sk-toggleable__control sk-hidden--visually\" id=\"sk-estimator-id-11\" type=\"checkbox\" checked><label for=\"sk-estimator-id-11\" class=\"sk-toggleable__label sk-toggleable__label-arrow\">XGBClassifier</label><div class=\"sk-toggleable__content\"><pre>XGBClassifier(base_score=None, booster=None, callbacks=None,\n",
              "              colsample_bylevel=None, colsample_bynode=None,\n",
              "              colsample_bytree=0.6, early_stopping_rounds=None,\n",
              "              enable_categorical=False, eval_metric=None, feature_types=None,\n",
              "              gamma=1, gpu_id=None, grow_policy=None, importance_type=None,\n",
              "              interaction_constraints=None, learning_rate=0.1, max_bin=None,\n",
              "              max_cat_threshold=None, max_cat_to_onehot=None,\n",
              "              max_delta_step=None, max_depth=4, max_leaves=None,\n",
              "              min_child_weight=5, missing=nan, monotone_constraints=None,\n",
              "              n_estimators=200, n_jobs=None, num_parallel_tree=None,\n",
              "              predictor=None, random_state=1, ...)</pre></div></div></div></div></div>"
            ]
          },
          "metadata": {},
          "execution_count": 59
        }
      ]
    },
    {
      "cell_type": "code",
      "source": [
        "#Fazendo as previsões e salvando na variável \"previsao_xgb\"\n",
        "previsao_xgb = xgb.predict(X_teste)\n",
        "previsao_xgb"
      ],
      "metadata": {
        "id": "PdEKySfqX7b3"
      },
      "execution_count": null,
      "outputs": []
    },
    {
      "cell_type": "code",
      "source": [
        "y_teste"
      ],
      "metadata": {
        "id": "pPX7JEQHYCPT"
      },
      "execution_count": null,
      "outputs": []
    },
    {
      "cell_type": "code",
      "source": [
        "#Verificando a acurácia\n",
        "accuracy_score(y_teste, previsao_xgb)"
      ],
      "metadata": {
        "id": "ymDQKlyMYDP1"
      },
      "execution_count": null,
      "outputs": []
    },
    {
      "cell_type": "code",
      "source": [
        "#Matriz de confusão\n",
        "confusion_matrix(y_teste, previsao_xgb)"
      ],
      "metadata": {
        "id": "EV0t90e-YiY1"
      },
      "execution_count": null,
      "outputs": []
    },
    {
      "cell_type": "code",
      "source": [
        "#Relatório de classificação.\n",
        "print(classification_report(y_teste, previsao_xgb))"
      ],
      "metadata": {
        "id": "2sU9pFocYlOf"
      },
      "execution_count": null,
      "outputs": []
    },
    {
      "cell_type": "markdown",
      "source": [
        "Análise dados de Treino"
      ],
      "metadata": {
        "id": "pslBesEWYo92"
      }
    },
    {
      "cell_type": "code",
      "source": [
        "#Fazendo as previsões para os dataset de treino e salvando na variável \"previsao_treino_xgb\"\n",
        "previsao_treino_xgb = xgb.predict(X_treino)"
      ],
      "metadata": {
        "id": "kvfgfi09YrcL"
      },
      "execution_count": null,
      "outputs": []
    },
    {
      "cell_type": "code",
      "source": [
        "accuracy_score(y_treino, previsao_treino_xgb)"
      ],
      "metadata": {
        "id": "pc-2e-5uZVhc"
      },
      "execution_count": null,
      "outputs": []
    },
    {
      "cell_type": "code",
      "source": [
        "confusion_matrix(y_treino, previsao_treino_xgb)"
      ],
      "metadata": {
        "id": "2VaWxAwFZaLt"
      },
      "execution_count": null,
      "outputs": []
    },
    {
      "cell_type": "markdown",
      "source": [
        "### 2.7.1 - Validação Cruzada"
      ],
      "metadata": {
        "id": "0zz2ist-Ze0d"
      }
    },
    {
      "cell_type": "code",
      "source": [
        "# Separando os dados em folds\n",
        "kfold = KFold(n_splits = 10, shuffle=True, random_state = 5)"
      ],
      "metadata": {
        "id": "FJhiU9m0Zi5k"
      },
      "execution_count": null,
      "outputs": []
    },
    {
      "cell_type": "code",
      "source": [
        "#Criando o modelo\n",
        "modelo_xgb = XGBClassifier(n_estimators = 200, colsample_bytree = 0.6, gamma = 1, learning_rate = 0.1, max_depth = 4,\n",
        "                    min_child_weight = 5, objective ='binary:logistic', subsample = 0.8, random_state = 5)"
      ],
      "metadata": {
        "id": "3KKo5I7FZ8YR"
      },
      "execution_count": null,
      "outputs": []
    },
    {
      "cell_type": "code",
      "source": [
        "# Salvando os resultados na variável \"resultado_xgb\"\n",
        "resultado_xgb = cross_val_score(modelo_xgb, previsores, alvo, cv = kfold)"
      ],
      "metadata": {
        "id": "FBBW--fTaAeY"
      },
      "execution_count": null,
      "outputs": []
    },
    {
      "cell_type": "code",
      "source": [
        "print(\"Acurácia Média: %.2f%%\" % (resultado_xgb.mean() * 100.0))"
      ],
      "metadata": {
        "id": "SzkSaDC6aJUP"
      },
      "execution_count": null,
      "outputs": []
    },
    {
      "cell_type": "markdown",
      "source": [
        "XGBOOST = 86,5% (treino e teste) e 86,41% (validação cruzada), com o conjunto de dados previsores."
      ],
      "metadata": {
        "id": "X9PXzmCUeBoK"
      }
    },
    {
      "cell_type": "markdown",
      "source": [
        "## 2.8 - LIGHTGBM: 86,45% (treino e teste) e 86,24% (validação cruzada)"
      ],
      "metadata": {
        "id": "tfLvYrA2eLZw"
      }
    },
    {
      "cell_type": "markdown",
      "source": [
        "LightGBM, originalmente desenvolvida pela Microsoft, é uma estrutura de aumento de gradiente distribuída gratuita e de código aberto para aprendizado de máquina. Ele é usado para tarefas de aprendizado de máquina como classificação e classificação, baseado em algoritmos de árvore de decisão."
      ],
      "metadata": {
        "id": "FrgA9E-CqPlV"
      }
    },
    {
      "cell_type": "code",
      "source": [
        "#Definindo os hiperparametros\n",
        "param_lgb = {'learning_rate': [0.01, 0.1], 'n_estimators': [20, 40], 'max_depth': [3, 5],\n",
        "             'num_leaves': [7, 15], 'min_child_samples': [10, 20], 'subsample': [0.5, 1],\n",
        "             'colsample_bytree': [0.5, 1], 'objective': ['binary', 'multiclass']}"
      ],
      "metadata": {
        "id": "xg8tSLvihLDi"
      },
      "execution_count": null,
      "outputs": []
    },
    {
      "cell_type": "code",
      "source": [
        "#Criando o modelo para ser usado no GridSearch\n",
        "lgb_model = lgb.LGBMClassifier()"
      ],
      "metadata": {
        "id": "GCWlgxY0hZvr"
      },
      "execution_count": null,
      "outputs": []
    },
    {
      "cell_type": "code",
      "source": [
        "#Criando o GridSearch\n",
        "grid_lgb = GridSearchCV(lgb_model, param_lgb)"
      ],
      "metadata": {
        "id": "KzIet2crhziz"
      },
      "execution_count": null,
      "outputs": []
    },
    {
      "cell_type": "code",
      "source": [
        "#Treinamento com o GridSearch\n",
        "grid_lgb.fit(X_treino, y_treino)"
      ],
      "metadata": {
        "id": "sb132zKHiJ5U"
      },
      "execution_count": null,
      "outputs": []
    },
    {
      "cell_type": "code",
      "source": [
        "#Imprimindo os melhores hiperparametros\n",
        "print(grid_lgb.best_params_)"
      ],
      "metadata": {
        "id": "9IVoFUxKiUR3"
      },
      "execution_count": null,
      "outputs": []
    },
    {
      "cell_type": "code",
      "source": [
        "#Criando o modelo\n",
        "lgbm = lgb.LGBMClassifier(colsample_bytree = 1, learning_rate = 0.1, max_depth = 5, min_child_samples = 20,\n",
        "                          n_estimators = 40, num_leaves = 15, objective = 'binary', subsample = 0.5, random_state = 1)"
      ],
      "metadata": {
        "id": "y7JHWUt1kWBm"
      },
      "execution_count": null,
      "outputs": []
    },
    {
      "cell_type": "code",
      "source": [
        "#Treinamento o modelo LIGHTGBM\n",
        "lgbm.fit(X_treino, y_treino)"
      ],
      "metadata": {
        "colab": {
          "base_uri": "https://localhost:8080/",
          "height": 92
        },
        "id": "53XUax7ekm4H",
        "outputId": "9fdf140e-14b9-4217-e728-bc88af771112"
      },
      "execution_count": null,
      "outputs": [
        {
          "output_type": "execute_result",
          "data": {
            "text/plain": [
              "LGBMClassifier(colsample_bytree=1, max_depth=5, n_estimators=40, num_leaves=15,\n",
              "               objective='binary', random_state=1, subsample=0.5)"
            ],
            "text/html": [
              "<style>#sk-container-id-12 {color: black;background-color: white;}#sk-container-id-12 pre{padding: 0;}#sk-container-id-12 div.sk-toggleable {background-color: white;}#sk-container-id-12 label.sk-toggleable__label {cursor: pointer;display: block;width: 100%;margin-bottom: 0;padding: 0.3em;box-sizing: border-box;text-align: center;}#sk-container-id-12 label.sk-toggleable__label-arrow:before {content: \"▸\";float: left;margin-right: 0.25em;color: #696969;}#sk-container-id-12 label.sk-toggleable__label-arrow:hover:before {color: black;}#sk-container-id-12 div.sk-estimator:hover label.sk-toggleable__label-arrow:before {color: black;}#sk-container-id-12 div.sk-toggleable__content {max-height: 0;max-width: 0;overflow: hidden;text-align: left;background-color: #f0f8ff;}#sk-container-id-12 div.sk-toggleable__content pre {margin: 0.2em;color: black;border-radius: 0.25em;background-color: #f0f8ff;}#sk-container-id-12 input.sk-toggleable__control:checked~div.sk-toggleable__content {max-height: 200px;max-width: 100%;overflow: auto;}#sk-container-id-12 input.sk-toggleable__control:checked~label.sk-toggleable__label-arrow:before {content: \"▾\";}#sk-container-id-12 div.sk-estimator input.sk-toggleable__control:checked~label.sk-toggleable__label {background-color: #d4ebff;}#sk-container-id-12 div.sk-label input.sk-toggleable__control:checked~label.sk-toggleable__label {background-color: #d4ebff;}#sk-container-id-12 input.sk-hidden--visually {border: 0;clip: rect(1px 1px 1px 1px);clip: rect(1px, 1px, 1px, 1px);height: 1px;margin: -1px;overflow: hidden;padding: 0;position: absolute;width: 1px;}#sk-container-id-12 div.sk-estimator {font-family: monospace;background-color: #f0f8ff;border: 1px dotted black;border-radius: 0.25em;box-sizing: border-box;margin-bottom: 0.5em;}#sk-container-id-12 div.sk-estimator:hover {background-color: #d4ebff;}#sk-container-id-12 div.sk-parallel-item::after {content: \"\";width: 100%;border-bottom: 1px solid gray;flex-grow: 1;}#sk-container-id-12 div.sk-label:hover label.sk-toggleable__label {background-color: #d4ebff;}#sk-container-id-12 div.sk-serial::before {content: \"\";position: absolute;border-left: 1px solid gray;box-sizing: border-box;top: 0;bottom: 0;left: 50%;z-index: 0;}#sk-container-id-12 div.sk-serial {display: flex;flex-direction: column;align-items: center;background-color: white;padding-right: 0.2em;padding-left: 0.2em;position: relative;}#sk-container-id-12 div.sk-item {position: relative;z-index: 1;}#sk-container-id-12 div.sk-parallel {display: flex;align-items: stretch;justify-content: center;background-color: white;position: relative;}#sk-container-id-12 div.sk-item::before, #sk-container-id-12 div.sk-parallel-item::before {content: \"\";position: absolute;border-left: 1px solid gray;box-sizing: border-box;top: 0;bottom: 0;left: 50%;z-index: -1;}#sk-container-id-12 div.sk-parallel-item {display: flex;flex-direction: column;z-index: 1;position: relative;background-color: white;}#sk-container-id-12 div.sk-parallel-item:first-child::after {align-self: flex-end;width: 50%;}#sk-container-id-12 div.sk-parallel-item:last-child::after {align-self: flex-start;width: 50%;}#sk-container-id-12 div.sk-parallel-item:only-child::after {width: 0;}#sk-container-id-12 div.sk-dashed-wrapped {border: 1px dashed gray;margin: 0 0.4em 0.5em 0.4em;box-sizing: border-box;padding-bottom: 0.4em;background-color: white;}#sk-container-id-12 div.sk-label label {font-family: monospace;font-weight: bold;display: inline-block;line-height: 1.2em;}#sk-container-id-12 div.sk-label-container {text-align: center;}#sk-container-id-12 div.sk-container {/* jupyter's `normalize.less` sets `[hidden] { display: none; }` but bootstrap.min.css set `[hidden] { display: none !important; }` so we also need the `!important` here to be able to override the default hidden behavior on the sphinx rendered scikit-learn.org. See: https://github.com/scikit-learn/scikit-learn/issues/21755 */display: inline-block !important;position: relative;}#sk-container-id-12 div.sk-text-repr-fallback {display: none;}</style><div id=\"sk-container-id-12\" class=\"sk-top-container\"><div class=\"sk-text-repr-fallback\"><pre>LGBMClassifier(colsample_bytree=1, max_depth=5, n_estimators=40, num_leaves=15,\n",
              "               objective=&#x27;binary&#x27;, random_state=1, subsample=0.5)</pre><b>In a Jupyter environment, please rerun this cell to show the HTML representation or trust the notebook. <br />On GitHub, the HTML representation is unable to render, please try loading this page with nbviewer.org.</b></div><div class=\"sk-container\" hidden><div class=\"sk-item\"><div class=\"sk-estimator sk-toggleable\"><input class=\"sk-toggleable__control sk-hidden--visually\" id=\"sk-estimator-id-12\" type=\"checkbox\" checked><label for=\"sk-estimator-id-12\" class=\"sk-toggleable__label sk-toggleable__label-arrow\">LGBMClassifier</label><div class=\"sk-toggleable__content\"><pre>LGBMClassifier(colsample_bytree=1, max_depth=5, n_estimators=40, num_leaves=15,\n",
              "               objective=&#x27;binary&#x27;, random_state=1, subsample=0.5)</pre></div></div></div></div></div>"
            ]
          },
          "metadata": {},
          "execution_count": 61
        }
      ]
    },
    {
      "cell_type": "code",
      "source": [
        "#Fazendo as previsões e salvando na variável \"previsao_lgbm\"\n",
        "previsao_lgbm = lgbm.predict(X_teste)\n",
        "previsao_lgbm"
      ],
      "metadata": {
        "id": "cGzTrr4dkx8t"
      },
      "execution_count": null,
      "outputs": []
    },
    {
      "cell_type": "code",
      "source": [
        "#Verificando a acurácia\n",
        "accuracy_score(y_teste, previsao_lgbm)"
      ],
      "metadata": {
        "id": "HYyI4YK1k68I"
      },
      "execution_count": null,
      "outputs": []
    },
    {
      "cell_type": "code",
      "source": [
        "#Matriz de confusão\n",
        "confusion_matrix(y_teste, previsao_lgbm)"
      ],
      "metadata": {
        "id": "zAnqiWdilEJL"
      },
      "execution_count": null,
      "outputs": []
    },
    {
      "cell_type": "code",
      "source": [
        "#Relatório de classificação.\n",
        "print(classification_report(y_teste, previsao_lgbm))"
      ],
      "metadata": {
        "id": "8pdYp7EXjrJ_"
      },
      "execution_count": null,
      "outputs": []
    },
    {
      "cell_type": "markdown",
      "source": [
        "Análise dados de Treino"
      ],
      "metadata": {
        "id": "Jb5QZLc5jvhR"
      }
    },
    {
      "cell_type": "code",
      "source": [
        "#Fazendo as previsões para os dataset de treino e salvando na variável \"previsao_treino_lgbm\"\n",
        "previsao_treino_lgbm = lgbm.predict(X_treino)\n",
        "previsao_treino_lgbm"
      ],
      "metadata": {
        "id": "nzkL587HjyfK"
      },
      "execution_count": null,
      "outputs": []
    },
    {
      "cell_type": "code",
      "source": [
        "accuracy_score(y_treino, previsao_treino_lgbm)"
      ],
      "metadata": {
        "id": "HDiipXpVj9r4"
      },
      "execution_count": null,
      "outputs": []
    },
    {
      "cell_type": "code",
      "source": [
        "confusion_matrix(y_treino, previsao_treino_lgbm)"
      ],
      "metadata": {
        "id": "2dQqixP3j-8z"
      },
      "execution_count": null,
      "outputs": []
    },
    {
      "cell_type": "markdown",
      "source": [
        "### 2.8.1 - Validação Cruzada"
      ],
      "metadata": {
        "id": "NbmQdUfwkCOv"
      }
    },
    {
      "cell_type": "code",
      "source": [
        "# Separando os dados em folds\n",
        "kfold = KFold(n_splits = 10, shuffle=True, random_state = 5)"
      ],
      "metadata": {
        "id": "0AJy6PAykFjs"
      },
      "execution_count": null,
      "outputs": []
    },
    {
      "cell_type": "code",
      "source": [
        "#Criando o modelo\n",
        "modelo_lgbm = lgb.LGBMClassifier(colsample_bytree = 1, learning_rate = 0.1, max_depth = 5, min_child_samples = 20,\n",
        "                          n_estimators = 40, num_leaves = 15, objective = 'binary', subsample = 0.5, random_state = 5)"
      ],
      "metadata": {
        "id": "2qnm9551kJKn"
      },
      "execution_count": null,
      "outputs": []
    },
    {
      "cell_type": "code",
      "source": [
        "# Salvando os resultados na variável \"resultado_lgbm\"\n",
        "resultado_lgbm = cross_val_score(modelo_lgbm, previsores, alvo, cv = kfold)\n",
        "resultado_lgbm"
      ],
      "metadata": {
        "id": "vXyWxal5lj2l"
      },
      "execution_count": null,
      "outputs": []
    },
    {
      "cell_type": "code",
      "source": [
        "print(\"Acurácia Média: %.2f%%\" % (resultado_lgbm.mean() * 100.0))"
      ],
      "metadata": {
        "id": "-7ZOOlqqluGN"
      },
      "execution_count": null,
      "outputs": []
    },
    {
      "cell_type": "markdown",
      "source": [
        "XGBOOST = 86,45% (treino e teste) e 86,24% (validação cruzada), com o conjunto de dados previsores."
      ],
      "metadata": {
        "id": "V7SzVQDfl11H"
      }
    },
    {
      "cell_type": "markdown",
      "source": [
        "## 2.9 - CATBOOST: 86,5% (treino e teste) e 86,50% (validação cruzada)"
      ],
      "metadata": {
        "id": "qnfiO6jgmilL"
      }
    },
    {
      "cell_type": "markdown",
      "source": [
        "CatBoost é um algoritmo de aumento de gradiente baseado em árvores que treina redes neurais profundas. Ajustando os pesos de acordo com a distribuição dos dados e incorporando conhecimento prévio do conjunto de dados, ele aumenta a precisão. Isso pode melhorar o desempenho da generalização e reduzir o overfitting."
      ],
      "metadata": {
        "id": "qoA6gNyMtUPm"
      }
    },
    {
      "cell_type": "code",
      "source": [
        "#Análisando informações do dataframe\n",
        "df.info()"
      ],
      "metadata": {
        "colab": {
          "base_uri": "https://localhost:8080/"
        },
        "id": "AChV1riJo3eS",
        "outputId": "3d1b0855-8113-465c-d35e-e146ac14a05f"
      },
      "execution_count": null,
      "outputs": [
        {
          "output_type": "stream",
          "name": "stdout",
          "text": [
            "<class 'pandas.core.frame.DataFrame'>\n",
            "RangeIndex: 10000 entries, 0 to 9999\n",
            "Data columns (total 9 columns):\n",
            " #   Column          Non-Null Count  Dtype  \n",
            "---  ------          --------------  -----  \n",
            " 0   CreditScore     10000 non-null  int64  \n",
            " 1   Geography       10000 non-null  object \n",
            " 2   Gender          10000 non-null  object \n",
            " 3   Age             10000 non-null  int64  \n",
            " 4   Balance         10000 non-null  float64\n",
            " 5   NumOfProducts   10000 non-null  int64  \n",
            " 6   HasCrCard       10000 non-null  int64  \n",
            " 7   IsActiveMember  10000 non-null  int64  \n",
            " 8   Exited          10000 non-null  int64  \n",
            "dtypes: float64(1), int64(6), object(2)\n",
            "memory usage: 703.2+ KB\n"
          ]
        }
      ]
    },
    {
      "cell_type": "code",
      "source": [
        "#Criando o Dataframe com as variaveis previsores, nomeando como previsores3\n",
        "previsores3 = df.iloc[:, 0:8]"
      ],
      "metadata": {
        "id": "M2ZCP-dTo-vu"
      },
      "execution_count": null,
      "outputs": []
    },
    {
      "cell_type": "code",
      "source": [
        "#Visualizando o Dataframe\n",
        "previsores3.head()"
      ],
      "metadata": {
        "colab": {
          "base_uri": "https://localhost:8080/",
          "height": 206
        },
        "id": "OBWvl9Z3pENx",
        "outputId": "f5f165c3-ba71-484d-9d88-707e1186831a"
      },
      "execution_count": null,
      "outputs": [
        {
          "output_type": "execute_result",
          "data": {
            "text/plain": [
              "   CreditScore Geography  Gender  Age    Balance  NumOfProducts  HasCrCard  \\\n",
              "0          619    France  Female   42       0.00              1          1   \n",
              "1          608     Spain  Female   41   83807.86              1          0   \n",
              "2          502    France  Female   42  159660.80              3          1   \n",
              "3          699    France  Female   39       0.00              2          0   \n",
              "4          850     Spain  Female   43  125510.82              1          1   \n",
              "\n",
              "   IsActiveMember  \n",
              "0               1  \n",
              "1               1  \n",
              "2               0  \n",
              "3               0  \n",
              "4               1  "
            ],
            "text/html": [
              "\n",
              "  <div id=\"df-90a486ab-dcc5-4a10-962b-421a069b457e\">\n",
              "    <div class=\"colab-df-container\">\n",
              "      <div>\n",
              "<style scoped>\n",
              "    .dataframe tbody tr th:only-of-type {\n",
              "        vertical-align: middle;\n",
              "    }\n",
              "\n",
              "    .dataframe tbody tr th {\n",
              "        vertical-align: top;\n",
              "    }\n",
              "\n",
              "    .dataframe thead th {\n",
              "        text-align: right;\n",
              "    }\n",
              "</style>\n",
              "<table border=\"1\" class=\"dataframe\">\n",
              "  <thead>\n",
              "    <tr style=\"text-align: right;\">\n",
              "      <th></th>\n",
              "      <th>CreditScore</th>\n",
              "      <th>Geography</th>\n",
              "      <th>Gender</th>\n",
              "      <th>Age</th>\n",
              "      <th>Balance</th>\n",
              "      <th>NumOfProducts</th>\n",
              "      <th>HasCrCard</th>\n",
              "      <th>IsActiveMember</th>\n",
              "    </tr>\n",
              "  </thead>\n",
              "  <tbody>\n",
              "    <tr>\n",
              "      <th>0</th>\n",
              "      <td>619</td>\n",
              "      <td>France</td>\n",
              "      <td>Female</td>\n",
              "      <td>42</td>\n",
              "      <td>0.00</td>\n",
              "      <td>1</td>\n",
              "      <td>1</td>\n",
              "      <td>1</td>\n",
              "    </tr>\n",
              "    <tr>\n",
              "      <th>1</th>\n",
              "      <td>608</td>\n",
              "      <td>Spain</td>\n",
              "      <td>Female</td>\n",
              "      <td>41</td>\n",
              "      <td>83807.86</td>\n",
              "      <td>1</td>\n",
              "      <td>0</td>\n",
              "      <td>1</td>\n",
              "    </tr>\n",
              "    <tr>\n",
              "      <th>2</th>\n",
              "      <td>502</td>\n",
              "      <td>France</td>\n",
              "      <td>Female</td>\n",
              "      <td>42</td>\n",
              "      <td>159660.80</td>\n",
              "      <td>3</td>\n",
              "      <td>1</td>\n",
              "      <td>0</td>\n",
              "    </tr>\n",
              "    <tr>\n",
              "      <th>3</th>\n",
              "      <td>699</td>\n",
              "      <td>France</td>\n",
              "      <td>Female</td>\n",
              "      <td>39</td>\n",
              "      <td>0.00</td>\n",
              "      <td>2</td>\n",
              "      <td>0</td>\n",
              "      <td>0</td>\n",
              "    </tr>\n",
              "    <tr>\n",
              "      <th>4</th>\n",
              "      <td>850</td>\n",
              "      <td>Spain</td>\n",
              "      <td>Female</td>\n",
              "      <td>43</td>\n",
              "      <td>125510.82</td>\n",
              "      <td>1</td>\n",
              "      <td>1</td>\n",
              "      <td>1</td>\n",
              "    </tr>\n",
              "  </tbody>\n",
              "</table>\n",
              "</div>\n",
              "      <button class=\"colab-df-convert\" onclick=\"convertToInteractive('df-90a486ab-dcc5-4a10-962b-421a069b457e')\"\n",
              "              title=\"Convert this dataframe to an interactive table.\"\n",
              "              style=\"display:none;\">\n",
              "        \n",
              "  <svg xmlns=\"http://www.w3.org/2000/svg\" height=\"24px\"viewBox=\"0 0 24 24\"\n",
              "       width=\"24px\">\n",
              "    <path d=\"M0 0h24v24H0V0z\" fill=\"none\"/>\n",
              "    <path d=\"M18.56 5.44l.94 2.06.94-2.06 2.06-.94-2.06-.94-.94-2.06-.94 2.06-2.06.94zm-11 1L8.5 8.5l.94-2.06 2.06-.94-2.06-.94L8.5 2.5l-.94 2.06-2.06.94zm10 10l.94 2.06.94-2.06 2.06-.94-2.06-.94-.94-2.06-.94 2.06-2.06.94z\"/><path d=\"M17.41 7.96l-1.37-1.37c-.4-.4-.92-.59-1.43-.59-.52 0-1.04.2-1.43.59L10.3 9.45l-7.72 7.72c-.78.78-.78 2.05 0 2.83L4 21.41c.39.39.9.59 1.41.59.51 0 1.02-.2 1.41-.59l7.78-7.78 2.81-2.81c.8-.78.8-2.07 0-2.86zM5.41 20L4 18.59l7.72-7.72 1.47 1.35L5.41 20z\"/>\n",
              "  </svg>\n",
              "      </button>\n",
              "      \n",
              "  <style>\n",
              "    .colab-df-container {\n",
              "      display:flex;\n",
              "      flex-wrap:wrap;\n",
              "      gap: 12px;\n",
              "    }\n",
              "\n",
              "    .colab-df-convert {\n",
              "      background-color: #E8F0FE;\n",
              "      border: none;\n",
              "      border-radius: 50%;\n",
              "      cursor: pointer;\n",
              "      display: none;\n",
              "      fill: #1967D2;\n",
              "      height: 32px;\n",
              "      padding: 0 0 0 0;\n",
              "      width: 32px;\n",
              "    }\n",
              "\n",
              "    .colab-df-convert:hover {\n",
              "      background-color: #E2EBFA;\n",
              "      box-shadow: 0px 1px 2px rgba(60, 64, 67, 0.3), 0px 1px 3px 1px rgba(60, 64, 67, 0.15);\n",
              "      fill: #174EA6;\n",
              "    }\n",
              "\n",
              "    [theme=dark] .colab-df-convert {\n",
              "      background-color: #3B4455;\n",
              "      fill: #D2E3FC;\n",
              "    }\n",
              "\n",
              "    [theme=dark] .colab-df-convert:hover {\n",
              "      background-color: #434B5C;\n",
              "      box-shadow: 0px 1px 3px 1px rgba(0, 0, 0, 0.15);\n",
              "      filter: drop-shadow(0px 1px 2px rgba(0, 0, 0, 0.3));\n",
              "      fill: #FFFFFF;\n",
              "    }\n",
              "  </style>\n",
              "\n",
              "      <script>\n",
              "        const buttonEl =\n",
              "          document.querySelector('#df-90a486ab-dcc5-4a10-962b-421a069b457e button.colab-df-convert');\n",
              "        buttonEl.style.display =\n",
              "          google.colab.kernel.accessAllowed ? 'block' : 'none';\n",
              "\n",
              "        async function convertToInteractive(key) {\n",
              "          const element = document.querySelector('#df-90a486ab-dcc5-4a10-962b-421a069b457e');\n",
              "          const dataTable =\n",
              "            await google.colab.kernel.invokeFunction('convertToInteractive',\n",
              "                                                     [key], {});\n",
              "          if (!dataTable) return;\n",
              "\n",
              "          const docLinkHtml = 'Like what you see? Visit the ' +\n",
              "            '<a target=\"_blank\" href=https://colab.research.google.com/notebooks/data_table.ipynb>data table notebook</a>'\n",
              "            + ' to learn more about interactive tables.';\n",
              "          element.innerHTML = '';\n",
              "          dataTable['output_type'] = 'display_data';\n",
              "          await google.colab.output.renderOutput(dataTable, element);\n",
              "          const docLink = document.createElement('div');\n",
              "          docLink.innerHTML = docLinkHtml;\n",
              "          element.appendChild(docLink);\n",
              "        }\n",
              "      </script>\n",
              "    </div>\n",
              "  </div>\n",
              "  "
            ]
          },
          "metadata": {},
          "execution_count": 204
        }
      ]
    },
    {
      "cell_type": "code",
      "source": [
        "#Criando um array com a variavel que desejo prever, nomeando como alvo3\n",
        "alvo3 = df.iloc[:, 8]"
      ],
      "metadata": {
        "id": "tRiOb4VipI_o"
      },
      "execution_count": null,
      "outputs": []
    },
    {
      "cell_type": "code",
      "source": [
        "alvo3"
      ],
      "metadata": {
        "colab": {
          "base_uri": "https://localhost:8080/"
        },
        "id": "HbiHLfEMpNPE",
        "outputId": "7a73e663-79b4-4d3b-a446-e2dbada6398b"
      },
      "execution_count": null,
      "outputs": [
        {
          "output_type": "execute_result",
          "data": {
            "text/plain": [
              "0       1\n",
              "1       0\n",
              "2       1\n",
              "3       0\n",
              "4       0\n",
              "       ..\n",
              "9995    0\n",
              "9996    0\n",
              "9997    1\n",
              "9998    1\n",
              "9999    0\n",
              "Name: Exited, Length: 10000, dtype: int64"
            ]
          },
          "metadata": {},
          "execution_count": 206
        }
      ]
    },
    {
      "cell_type": "code",
      "source": [
        "#Fazendo a divisão em treino e teste\n",
        "X_treino3, X_teste3, y_treino3, y_teste3 = train_test_split(previsores3, alvo3, test_size=0.2, random_state=1, stratify=alvo3)"
      ],
      "metadata": {
        "id": "rimdWxn6pR2k"
      },
      "execution_count": null,
      "outputs": []
    },
    {
      "cell_type": "code",
      "source": [
        "#Selecionando as variaveis categoricas\n",
        "categoricas = ['Geography','Gender']"
      ],
      "metadata": {
        "id": "GPIkwCospYKn"
      },
      "execution_count": null,
      "outputs": []
    },
    {
      "cell_type": "code",
      "source": [
        "#Criando o modelo\n",
        "catboost = CatBoostClassifier(task_type='CPU', iterations=100, learning_rate=0.1, depth = 8, random_state = 1,\n",
        "                              eval_metric=\"Accuracy\")"
      ],
      "metadata": {
        "id": "B33Y9A3YpfSt"
      },
      "execution_count": null,
      "outputs": []
    },
    {
      "cell_type": "code",
      "source": [
        "#Treinando o modelo\n",
        "catboost.fit( X_treino3, y_treino3, cat_features= categoricas, plot=True, eval_set=(X_teste3, y_teste3))"
      ],
      "metadata": {
        "id": "5zL1GYaCpsBW",
        "colab": {
          "base_uri": "https://localhost:8080/",
          "height": 1000,
          "referenced_widgets": [
            "dbe299a690a34355a6d31733f2ab781f"
          ]
        },
        "outputId": "fede458e-60b4-480d-f6e3-4d652ac0dcb7"
      },
      "execution_count": null,
      "outputs": [
        {
          "output_type": "display_data",
          "data": {
            "text/plain": [
              "MetricVisualizer(layout=Layout(align_self='stretch', height='500px'))"
            ],
            "application/vnd.jupyter.widget-view+json": {
              "version_major": 2,
              "version_minor": 0,
              "model_id": "dbe299a690a34355a6d31733f2ab781f"
            }
          },
          "metadata": {}
        },
        {
          "output_type": "stream",
          "name": "stdout",
          "text": [
            "0:\tlearn: 0.8501250\ttest: 0.8560000\tbest: 0.8560000 (0)\ttotal: 70.8ms\tremaining: 7.01s\n",
            "1:\tlearn: 0.8526250\ttest: 0.8565000\tbest: 0.8565000 (1)\ttotal: 89.8ms\tremaining: 4.4s\n",
            "2:\tlearn: 0.8540000\ttest: 0.8600000\tbest: 0.8600000 (2)\ttotal: 113ms\tremaining: 3.67s\n",
            "3:\tlearn: 0.8553750\ttest: 0.8610000\tbest: 0.8610000 (3)\ttotal: 129ms\tremaining: 3.1s\n",
            "4:\tlearn: 0.8543750\ttest: 0.8610000\tbest: 0.8610000 (3)\ttotal: 143ms\tremaining: 2.71s\n",
            "5:\tlearn: 0.8538750\ttest: 0.8585000\tbest: 0.8610000 (3)\ttotal: 152ms\tremaining: 2.37s\n",
            "6:\tlearn: 0.8537500\ttest: 0.8610000\tbest: 0.8610000 (3)\ttotal: 180ms\tremaining: 2.39s\n",
            "7:\tlearn: 0.8525000\ttest: 0.8590000\tbest: 0.8610000 (3)\ttotal: 215ms\tremaining: 2.48s\n",
            "8:\tlearn: 0.8538750\ttest: 0.8595000\tbest: 0.8610000 (3)\ttotal: 235ms\tremaining: 2.37s\n",
            "9:\tlearn: 0.8547500\ttest: 0.8625000\tbest: 0.8625000 (9)\ttotal: 249ms\tremaining: 2.24s\n",
            "10:\tlearn: 0.8561250\ttest: 0.8625000\tbest: 0.8625000 (9)\ttotal: 257ms\tremaining: 2.08s\n",
            "11:\tlearn: 0.8550000\ttest: 0.8630000\tbest: 0.8630000 (11)\ttotal: 273ms\tremaining: 2s\n",
            "12:\tlearn: 0.8547500\ttest: 0.8630000\tbest: 0.8630000 (11)\ttotal: 291ms\tremaining: 1.95s\n",
            "13:\tlearn: 0.8552500\ttest: 0.8630000\tbest: 0.8630000 (11)\ttotal: 323ms\tremaining: 1.99s\n",
            "14:\tlearn: 0.8546250\ttest: 0.8630000\tbest: 0.8630000 (11)\ttotal: 343ms\tremaining: 1.95s\n",
            "15:\tlearn: 0.8556250\ttest: 0.8630000\tbest: 0.8630000 (11)\ttotal: 351ms\tremaining: 1.84s\n",
            "16:\tlearn: 0.8565000\ttest: 0.8635000\tbest: 0.8635000 (16)\ttotal: 357ms\tremaining: 1.74s\n",
            "17:\tlearn: 0.8567500\ttest: 0.8635000\tbest: 0.8635000 (16)\ttotal: 366ms\tremaining: 1.67s\n",
            "18:\tlearn: 0.8567500\ttest: 0.8640000\tbest: 0.8640000 (18)\ttotal: 382ms\tremaining: 1.63s\n",
            "19:\tlearn: 0.8570000\ttest: 0.8650000\tbest: 0.8650000 (19)\ttotal: 398ms\tremaining: 1.59s\n",
            "20:\tlearn: 0.8570000\ttest: 0.8645000\tbest: 0.8650000 (19)\ttotal: 406ms\tremaining: 1.53s\n",
            "21:\tlearn: 0.8573750\ttest: 0.8625000\tbest: 0.8650000 (19)\ttotal: 421ms\tremaining: 1.49s\n",
            "22:\tlearn: 0.8572500\ttest: 0.8630000\tbest: 0.8650000 (19)\ttotal: 459ms\tremaining: 1.54s\n",
            "23:\tlearn: 0.8578750\ttest: 0.8620000\tbest: 0.8650000 (19)\ttotal: 467ms\tremaining: 1.48s\n",
            "24:\tlearn: 0.8606250\ttest: 0.8640000\tbest: 0.8650000 (19)\ttotal: 477ms\tremaining: 1.43s\n",
            "25:\tlearn: 0.8616250\ttest: 0.8625000\tbest: 0.8650000 (19)\ttotal: 491ms\tremaining: 1.4s\n",
            "26:\tlearn: 0.8613750\ttest: 0.8635000\tbest: 0.8650000 (19)\ttotal: 497ms\tremaining: 1.34s\n",
            "27:\tlearn: 0.8612500\ttest: 0.8640000\tbest: 0.8650000 (19)\ttotal: 506ms\tremaining: 1.3s\n",
            "28:\tlearn: 0.8621250\ttest: 0.8640000\tbest: 0.8650000 (19)\ttotal: 511ms\tremaining: 1.25s\n",
            "29:\tlearn: 0.8637500\ttest: 0.8630000\tbest: 0.8650000 (19)\ttotal: 519ms\tremaining: 1.21s\n",
            "30:\tlearn: 0.8643750\ttest: 0.8630000\tbest: 0.8650000 (19)\ttotal: 527ms\tremaining: 1.17s\n",
            "31:\tlearn: 0.8652500\ttest: 0.8625000\tbest: 0.8650000 (19)\ttotal: 534ms\tremaining: 1.13s\n",
            "32:\tlearn: 0.8655000\ttest: 0.8630000\tbest: 0.8650000 (19)\ttotal: 543ms\tremaining: 1.1s\n",
            "33:\tlearn: 0.8663750\ttest: 0.8625000\tbest: 0.8650000 (19)\ttotal: 550ms\tremaining: 1.07s\n",
            "34:\tlearn: 0.8667500\ttest: 0.8630000\tbest: 0.8650000 (19)\ttotal: 557ms\tremaining: 1.03s\n",
            "35:\tlearn: 0.8675000\ttest: 0.8645000\tbest: 0.8650000 (19)\ttotal: 566ms\tremaining: 1s\n",
            "36:\tlearn: 0.8676250\ttest: 0.8645000\tbest: 0.8650000 (19)\ttotal: 580ms\tremaining: 988ms\n",
            "37:\tlearn: 0.8678750\ttest: 0.8645000\tbest: 0.8650000 (19)\ttotal: 588ms\tremaining: 960ms\n",
            "38:\tlearn: 0.8671250\ttest: 0.8640000\tbest: 0.8650000 (19)\ttotal: 598ms\tremaining: 936ms\n",
            "39:\tlearn: 0.8681250\ttest: 0.8645000\tbest: 0.8650000 (19)\ttotal: 624ms\tremaining: 936ms\n",
            "40:\tlearn: 0.8681250\ttest: 0.8655000\tbest: 0.8655000 (40)\ttotal: 656ms\tremaining: 944ms\n",
            "41:\tlearn: 0.8686250\ttest: 0.8655000\tbest: 0.8655000 (40)\ttotal: 674ms\tremaining: 930ms\n",
            "42:\tlearn: 0.8683750\ttest: 0.8645000\tbest: 0.8655000 (40)\ttotal: 680ms\tremaining: 902ms\n",
            "43:\tlearn: 0.8685000\ttest: 0.8635000\tbest: 0.8655000 (40)\ttotal: 694ms\tremaining: 883ms\n",
            "44:\tlearn: 0.8692500\ttest: 0.8655000\tbest: 0.8655000 (40)\ttotal: 705ms\tremaining: 862ms\n",
            "45:\tlearn: 0.8698750\ttest: 0.8655000\tbest: 0.8655000 (40)\ttotal: 724ms\tremaining: 850ms\n",
            "46:\tlearn: 0.8700000\ttest: 0.8655000\tbest: 0.8655000 (40)\ttotal: 737ms\tremaining: 831ms\n",
            "47:\tlearn: 0.8696250\ttest: 0.8645000\tbest: 0.8655000 (40)\ttotal: 763ms\tremaining: 827ms\n",
            "48:\tlearn: 0.8701250\ttest: 0.8645000\tbest: 0.8655000 (40)\ttotal: 782ms\tremaining: 813ms\n",
            "49:\tlearn: 0.8700000\ttest: 0.8645000\tbest: 0.8655000 (40)\ttotal: 790ms\tremaining: 790ms\n",
            "50:\tlearn: 0.8697500\ttest: 0.8645000\tbest: 0.8655000 (40)\ttotal: 804ms\tremaining: 773ms\n",
            "51:\tlearn: 0.8701250\ttest: 0.8650000\tbest: 0.8655000 (40)\ttotal: 839ms\tremaining: 775ms\n",
            "52:\tlearn: 0.8698750\ttest: 0.8630000\tbest: 0.8655000 (40)\ttotal: 868ms\tremaining: 770ms\n",
            "53:\tlearn: 0.8705000\ttest: 0.8640000\tbest: 0.8655000 (40)\ttotal: 901ms\tremaining: 768ms\n",
            "54:\tlearn: 0.8706250\ttest: 0.8635000\tbest: 0.8655000 (40)\ttotal: 920ms\tremaining: 753ms\n",
            "55:\tlearn: 0.8703750\ttest: 0.8640000\tbest: 0.8655000 (40)\ttotal: 927ms\tremaining: 728ms\n",
            "56:\tlearn: 0.8708750\ttest: 0.8625000\tbest: 0.8655000 (40)\ttotal: 936ms\tremaining: 706ms\n",
            "57:\tlearn: 0.8706250\ttest: 0.8640000\tbest: 0.8655000 (40)\ttotal: 954ms\tremaining: 691ms\n",
            "58:\tlearn: 0.8706250\ttest: 0.8625000\tbest: 0.8655000 (40)\ttotal: 973ms\tremaining: 676ms\n",
            "59:\tlearn: 0.8708750\ttest: 0.8615000\tbest: 0.8655000 (40)\ttotal: 994ms\tremaining: 663ms\n",
            "60:\tlearn: 0.8715000\ttest: 0.8615000\tbest: 0.8655000 (40)\ttotal: 1.01s\tremaining: 647ms\n",
            "61:\tlearn: 0.8717500\ttest: 0.8620000\tbest: 0.8655000 (40)\ttotal: 1.03s\tremaining: 632ms\n",
            "62:\tlearn: 0.8716250\ttest: 0.8620000\tbest: 0.8655000 (40)\ttotal: 1.04s\tremaining: 610ms\n",
            "63:\tlearn: 0.8715000\ttest: 0.8625000\tbest: 0.8655000 (40)\ttotal: 1.06s\tremaining: 599ms\n",
            "64:\tlearn: 0.8720000\ttest: 0.8620000\tbest: 0.8655000 (40)\ttotal: 1.09s\tremaining: 586ms\n",
            "65:\tlearn: 0.8727500\ttest: 0.8620000\tbest: 0.8655000 (40)\ttotal: 1.11s\tremaining: 573ms\n",
            "66:\tlearn: 0.8730000\ttest: 0.8610000\tbest: 0.8655000 (40)\ttotal: 1.13s\tremaining: 556ms\n",
            "67:\tlearn: 0.8736250\ttest: 0.8620000\tbest: 0.8655000 (40)\ttotal: 1.15s\tremaining: 539ms\n",
            "68:\tlearn: 0.8730000\ttest: 0.8610000\tbest: 0.8655000 (40)\ttotal: 1.17s\tremaining: 525ms\n",
            "69:\tlearn: 0.8731250\ttest: 0.8605000\tbest: 0.8655000 (40)\ttotal: 1.18s\tremaining: 507ms\n",
            "70:\tlearn: 0.8736250\ttest: 0.8615000\tbest: 0.8655000 (40)\ttotal: 1.19s\tremaining: 486ms\n",
            "71:\tlearn: 0.8741250\ttest: 0.8605000\tbest: 0.8655000 (40)\ttotal: 1.2s\tremaining: 466ms\n",
            "72:\tlearn: 0.8740000\ttest: 0.8605000\tbest: 0.8655000 (40)\ttotal: 1.2s\tremaining: 444ms\n",
            "73:\tlearn: 0.8741250\ttest: 0.8600000\tbest: 0.8655000 (40)\ttotal: 1.21s\tremaining: 425ms\n",
            "74:\tlearn: 0.8741250\ttest: 0.8590000\tbest: 0.8655000 (40)\ttotal: 1.22s\tremaining: 406ms\n",
            "75:\tlearn: 0.8742500\ttest: 0.8595000\tbest: 0.8655000 (40)\ttotal: 1.23s\tremaining: 387ms\n",
            "76:\tlearn: 0.8742500\ttest: 0.8600000\tbest: 0.8655000 (40)\ttotal: 1.24s\tremaining: 369ms\n",
            "77:\tlearn: 0.8740000\ttest: 0.8595000\tbest: 0.8655000 (40)\ttotal: 1.25s\tremaining: 352ms\n",
            "78:\tlearn: 0.8741250\ttest: 0.8595000\tbest: 0.8655000 (40)\ttotal: 1.25s\tremaining: 333ms\n",
            "79:\tlearn: 0.8742500\ttest: 0.8605000\tbest: 0.8655000 (40)\ttotal: 1.26s\tremaining: 315ms\n",
            "80:\tlearn: 0.8745000\ttest: 0.8605000\tbest: 0.8655000 (40)\ttotal: 1.27s\tremaining: 298ms\n",
            "81:\tlearn: 0.8745000\ttest: 0.8605000\tbest: 0.8655000 (40)\ttotal: 1.28s\tremaining: 280ms\n",
            "82:\tlearn: 0.8746250\ttest: 0.8615000\tbest: 0.8655000 (40)\ttotal: 1.29s\tremaining: 263ms\n",
            "83:\tlearn: 0.8748750\ttest: 0.8610000\tbest: 0.8655000 (40)\ttotal: 1.29s\tremaining: 246ms\n",
            "84:\tlearn: 0.8750000\ttest: 0.8610000\tbest: 0.8655000 (40)\ttotal: 1.3s\tremaining: 230ms\n",
            "85:\tlearn: 0.8751250\ttest: 0.8605000\tbest: 0.8655000 (40)\ttotal: 1.31s\tremaining: 213ms\n",
            "86:\tlearn: 0.8755000\ttest: 0.8595000\tbest: 0.8655000 (40)\ttotal: 1.32s\tremaining: 197ms\n",
            "87:\tlearn: 0.8755000\ttest: 0.8595000\tbest: 0.8655000 (40)\ttotal: 1.32s\tremaining: 180ms\n",
            "88:\tlearn: 0.8755000\ttest: 0.8590000\tbest: 0.8655000 (40)\ttotal: 1.33s\tremaining: 164ms\n",
            "89:\tlearn: 0.8755000\ttest: 0.8590000\tbest: 0.8655000 (40)\ttotal: 1.34s\tremaining: 149ms\n",
            "90:\tlearn: 0.8756250\ttest: 0.8590000\tbest: 0.8655000 (40)\ttotal: 1.35s\tremaining: 133ms\n",
            "91:\tlearn: 0.8760000\ttest: 0.8595000\tbest: 0.8655000 (40)\ttotal: 1.36s\tremaining: 118ms\n",
            "92:\tlearn: 0.8761250\ttest: 0.8605000\tbest: 0.8655000 (40)\ttotal: 1.38s\tremaining: 104ms\n",
            "93:\tlearn: 0.8757500\ttest: 0.8595000\tbest: 0.8655000 (40)\ttotal: 1.4s\tremaining: 89.3ms\n",
            "94:\tlearn: 0.8763750\ttest: 0.8600000\tbest: 0.8655000 (40)\ttotal: 1.42s\tremaining: 74.8ms\n",
            "95:\tlearn: 0.8762500\ttest: 0.8595000\tbest: 0.8655000 (40)\ttotal: 1.43s\tremaining: 59.7ms\n",
            "96:\tlearn: 0.8763750\ttest: 0.8605000\tbest: 0.8655000 (40)\ttotal: 1.45s\tremaining: 44.8ms\n",
            "97:\tlearn: 0.8768750\ttest: 0.8600000\tbest: 0.8655000 (40)\ttotal: 1.46s\tremaining: 29.8ms\n",
            "98:\tlearn: 0.8766250\ttest: 0.8595000\tbest: 0.8655000 (40)\ttotal: 1.48s\tremaining: 14.9ms\n",
            "99:\tlearn: 0.8767500\ttest: 0.8590000\tbest: 0.8655000 (40)\ttotal: 1.5s\tremaining: 0us\n",
            "\n",
            "bestTest = 0.8655\n",
            "bestIteration = 40\n",
            "\n",
            "Shrink model to first 41 iterations.\n"
          ]
        },
        {
          "output_type": "execute_result",
          "data": {
            "text/plain": [
              "<catboost.core.CatBoostClassifier at 0x7f7f2e369ab0>"
            ]
          },
          "metadata": {},
          "execution_count": 210
        }
      ]
    },
    {
      "cell_type": "code",
      "source": [
        "#Fazendo as previsões e salvando na variável \"previsao_cat\"\n",
        "previsao_cat = catboost.predict(X_teste3)\n",
        "previsao_cat"
      ],
      "metadata": {
        "colab": {
          "base_uri": "https://localhost:8080/"
        },
        "id": "Souohdz5pxlU",
        "outputId": "2d87f9fe-f27b-4e5b-c797-6e4fc3ca65d8"
      },
      "execution_count": null,
      "outputs": [
        {
          "output_type": "execute_result",
          "data": {
            "text/plain": [
              "array([0, 0, 0, ..., 0, 0, 0])"
            ]
          },
          "metadata": {},
          "execution_count": 182
        }
      ]
    },
    {
      "cell_type": "code",
      "source": [
        "y_teste3"
      ],
      "metadata": {
        "colab": {
          "base_uri": "https://localhost:8080/"
        },
        "id": "aOtJ8Cl5pz3U",
        "outputId": "9e4c8ec2-6011-450a-9fd2-17f216024481"
      },
      "execution_count": null,
      "outputs": [
        {
          "output_type": "execute_result",
          "data": {
            "text/plain": [
              "4466    0\n",
              "3754    0\n",
              "9601    0\n",
              "9758    0\n",
              "8577    1\n",
              "       ..\n",
              "7788    0\n",
              "1650    0\n",
              "1276    1\n",
              "1043    0\n",
              "8350    0\n",
              "Name: Exited, Length: 2000, dtype: int64"
            ]
          },
          "metadata": {},
          "execution_count": 183
        }
      ]
    },
    {
      "cell_type": "code",
      "source": [
        "#VErificando a acurácia do modelo\n",
        "accuracy_score(y_teste3, previsao_cat)"
      ],
      "metadata": {
        "colab": {
          "base_uri": "https://localhost:8080/"
        },
        "id": "2Ll5KDlcp3CY",
        "outputId": "d17cf203-0189-4f30-8171-f19452d60642"
      },
      "execution_count": null,
      "outputs": [
        {
          "output_type": "execute_result",
          "data": {
            "text/plain": [
              "0.8655"
            ]
          },
          "metadata": {},
          "execution_count": 184
        }
      ]
    },
    {
      "cell_type": "code",
      "source": [
        "#Matriz de confusão\n",
        "confusion_matrix(y_teste3, previsao_cat)"
      ],
      "metadata": {
        "colab": {
          "base_uri": "https://localhost:8080/"
        },
        "id": "MFyYQKQ1p4N3",
        "outputId": "616f43a6-aadd-47ef-fb95-e2a2051d30b6"
      },
      "execution_count": null,
      "outputs": [
        {
          "output_type": "execute_result",
          "data": {
            "text/plain": [
              "array([[1548,   45],\n",
              "       [ 224,  183]])"
            ]
          },
          "metadata": {},
          "execution_count": 185
        }
      ]
    },
    {
      "cell_type": "code",
      "source": [
        "#Relatório de classificação.\n",
        "print(classification_report(y_teste3, previsao_cat))"
      ],
      "metadata": {
        "colab": {
          "base_uri": "https://localhost:8080/"
        },
        "id": "pYH3a2q-p8WJ",
        "outputId": "8ada051d-81d1-4eb4-d970-74e2a909e331"
      },
      "execution_count": null,
      "outputs": [
        {
          "output_type": "stream",
          "name": "stdout",
          "text": [
            "              precision    recall  f1-score   support\n",
            "\n",
            "           0       0.87      0.97      0.92      1593\n",
            "           1       0.80      0.45      0.58       407\n",
            "\n",
            "    accuracy                           0.87      2000\n",
            "   macro avg       0.84      0.71      0.75      2000\n",
            "weighted avg       0.86      0.87      0.85      2000\n",
            "\n"
          ]
        }
      ]
    },
    {
      "cell_type": "markdown",
      "source": [
        "Análise dados de Treino"
      ],
      "metadata": {
        "id": "KHB9cqG9p-wU"
      }
    },
    {
      "cell_type": "code",
      "source": [
        "#Fazendo as previsões para os dataset de treino e salvando na variável \"previsao_treino_cat\"\n",
        "previsao_treino_cat = catboost.predict(X_treino3)\n",
        "previsao_treino_cat"
      ],
      "metadata": {
        "colab": {
          "base_uri": "https://localhost:8080/"
        },
        "id": "qv3Q03DQqAlY",
        "outputId": "6498747d-ca57-42ca-9dbc-01133b07ef7e"
      },
      "execution_count": null,
      "outputs": [
        {
          "output_type": "execute_result",
          "data": {
            "text/plain": [
              "array([0, 0, 0, ..., 0, 0, 0])"
            ]
          },
          "metadata": {},
          "execution_count": 187
        }
      ]
    },
    {
      "cell_type": "code",
      "source": [
        "accuracy_score(y_treino3, previsao_treino_cat)"
      ],
      "metadata": {
        "colab": {
          "base_uri": "https://localhost:8080/"
        },
        "id": "xawBR0GSqDsm",
        "outputId": "0ae56bd8-0717-44f4-c1ef-61d7acf74295"
      },
      "execution_count": null,
      "outputs": [
        {
          "output_type": "execute_result",
          "data": {
            "text/plain": [
              "0.8685"
            ]
          },
          "metadata": {},
          "execution_count": 188
        }
      ]
    },
    {
      "cell_type": "code",
      "source": [
        "confusion_matrix(y_treino3, previsao_treino_cat)"
      ],
      "metadata": {
        "colab": {
          "base_uri": "https://localhost:8080/"
        },
        "id": "biEhy20-qE10",
        "outputId": "a580b170-6acc-41ce-c8e5-bf7f9044bce1"
      },
      "execution_count": null,
      "outputs": [
        {
          "output_type": "execute_result",
          "data": {
            "text/plain": [
              "array([[6180,  190],\n",
              "       [ 862,  768]])"
            ]
          },
          "metadata": {},
          "execution_count": 189
        }
      ]
    },
    {
      "cell_type": "markdown",
      "source": [
        "### 2.9.1 - Validação Cruzada"
      ],
      "metadata": {
        "id": "bQHs0frrqIoB"
      }
    },
    {
      "cell_type": "code",
      "source": [
        "# Separando os dados em folds\n",
        "kfold = KFold(n_splits = 10, shuffle=True, random_state = 1)"
      ],
      "metadata": {
        "id": "4OeO8FiDqKQ6"
      },
      "execution_count": 50,
      "outputs": []
    },
    {
      "cell_type": "code",
      "source": [
        "#Criando o modelo\n",
        "modelo_cat = CatBoostClassifier(task_type='CPU', iterations=100, learning_rate=0.1, depth = 8, random_state = 5,\n",
        "                              eval_metric=\"Accuracy\")"
      ],
      "metadata": {
        "id": "pQ1Ol6WUqOKT"
      },
      "execution_count": null,
      "outputs": []
    },
    {
      "cell_type": "code",
      "source": [
        "# Salvando os resultados na variável \"resultado_cat\"\n",
        "resultado_cat = cross_val_score(modelo_cat, previsores, alvo, cv = kfold)"
      ],
      "metadata": {
        "id": "5uwIi5UVqPS8"
      },
      "execution_count": null,
      "outputs": []
    },
    {
      "cell_type": "code",
      "source": [
        "resultado_cat"
      ],
      "metadata": {
        "colab": {
          "base_uri": "https://localhost:8080/"
        },
        "id": "Ukmpcjr3qTix",
        "outputId": "21b6ada5-f840-427c-8653-380af8d7bc56"
      },
      "execution_count": null,
      "outputs": [
        {
          "output_type": "execute_result",
          "data": {
            "text/plain": [
              "array([0.868, 0.87 , 0.861, 0.869, 0.871, 0.862, 0.845, 0.861, 0.883,\n",
              "       0.856])"
            ]
          },
          "metadata": {},
          "execution_count": 193
        }
      ]
    },
    {
      "cell_type": "code",
      "source": [
        "print(\"Acurácia Média: %.2f%%\" % (resultado_cat.mean() * 100))"
      ],
      "metadata": {
        "colab": {
          "base_uri": "https://localhost:8080/"
        },
        "id": "jQ4Gm5B2qViy",
        "outputId": "a20f692d-9de2-4bdd-d0b9-a6b23c367a46"
      },
      "execution_count": null,
      "outputs": [
        {
          "output_type": "stream",
          "name": "stdout",
          "text": [
            "Acurácia Média: 86.46%\n"
          ]
        }
      ]
    },
    {
      "cell_type": "markdown",
      "source": [
        "XGBOOST = 86,55% (treino e teste) e 86,46% (validação cruzada), com o conjunto de dados previsores."
      ],
      "metadata": {
        "id": "YZ0pFL3bqd98"
      }
    },
    {
      "cell_type": "markdown",
      "source": [
        "# Comparando os Modelos"
      ],
      "metadata": {
        "id": "PIjVY85N-PZ0"
      }
    },
    {
      "cell_type": "code",
      "source": [
        "#Selecionando os modelos que melhor se ajustaram ao dataframe previsores\n",
        "modelos_previsores = [naive, arvore, forest, xgb, lgbm]"
      ],
      "metadata": {
        "id": "XDNnWuPgGIJV"
      },
      "execution_count": null,
      "outputs": []
    },
    {
      "cell_type": "code",
      "source": [
        "#Selecionando os modelos que melhor se ajustaram ao dataframe previsores2\n",
        "modelos_previsores2 = [svm, reg_log, knn1]"
      ],
      "metadata": {
        "id": "SsJUFuS1Sy4I"
      },
      "execution_count": null,
      "outputs": []
    },
    {
      "cell_type": "code",
      "source": [
        "print('Modelos que se adequaram melhor ao Dataframe Previsores, onde aplicada o OneHotEncoder, para criar Dummies das variáveis.\\n')\n",
        "\n",
        "for modelo in modelos_previsores2:\n",
        "    previsao2 = modelo.predict(X_teste)\n",
        "    accuracy = accuracy_score(y_teste, previsao2)\n",
        "    print('Acuracia do modelo {}: {:.2f}%'.format(modelo.__class__.__name__, accuracy*100))\n",
        "    print('Matriz de Confusão: ''\\n')\n",
        "    print(confusion_matrix(y_teste, previsao2),'\\n')"
      ],
      "metadata": {
        "colab": {
          "base_uri": "https://localhost:8080/"
        },
        "id": "l1p45Ae1d-yX",
        "outputId": "1f197c67-cb23-4dc7-ae0a-3128de7b7cd6"
      },
      "execution_count": null,
      "outputs": [
        {
          "output_type": "stream",
          "name": "stdout",
          "text": [
            "Modelos que se adequaram melhor ao Dataframe Previsores, onde foram transformadas as variáveis categóricas em númericas, aplicado apenas o Label Encoder.\n",
            "Acuracia do modelo SVC: 85.40%\n",
            "Matriz de Confusão: \n",
            "\n",
            "[[1558   35]\n",
            " [ 257  150]] \n",
            "\n",
            "Acuracia do modelo LogisticRegression: 85.10%\n",
            "Matriz de Confusão: \n",
            "\n",
            "[[1524   69]\n",
            " [ 229  178]] \n",
            "\n",
            "Acuracia do modelo KNeighborsClassifier: 82.85%\n",
            "Matriz de Confusão: \n",
            "\n",
            "[[1516   77]\n",
            " [ 266  141]] \n",
            "\n"
          ]
        }
      ]
    },
    {
      "cell_type": "code",
      "source": [
        "print('Modelos que se adequaram melhor ao Dataframe Previsores, onde foram transformadas as variáveis categóricas em númericas, aplicado apenas o Label Encoder.\\n')\n",
        "\n",
        "for modelo in modelos_previsores:\n",
        "    previsao1 = modelo.predict(X_teste)\n",
        "    accuracy = accuracy_score(y_teste, previsao1)\n",
        "    print('Acuracia do modelo {}: {:.2f}%'.format(modelo.__class__.__name__, accuracy*100))\n",
        "    print('Matriz de Confusão:''\\n')\n",
        "    print(confusion_matrix(y_teste, previsao1),'\\n')"
      ],
      "metadata": {
        "colab": {
          "base_uri": "https://localhost:8080/"
        },
        "id": "9gqUqDI5Rp6S",
        "outputId": "1b11481c-2343-4da0-85f9-ea3e6bcb9a61"
      },
      "execution_count": null,
      "outputs": [
        {
          "output_type": "stream",
          "name": "stdout",
          "text": [
            "Modelos que se adequaram melhor ao Dataframe Previsores, onde foram transformadas as variáveis categóricas em númericas, aplicado apenas o Label Encoder.\n",
            "\n",
            "Acuracia do modelo GaussianNB: 79.00%\n",
            "Matriz de Confusão:\n",
            "\n",
            "[[1547   46]\n",
            " [ 374   33]] \n",
            "\n",
            "Acuracia do modelo DecisionTreeClassifier: 85.80%\n",
            "Matriz de Confusão:\n",
            "\n",
            "[[1533   60]\n",
            " [ 224  183]] \n",
            "\n",
            "Acuracia do modelo RandomForestClassifier: 86.15%\n",
            "Matriz de Confusão:\n",
            "\n",
            "[[1563   30]\n",
            " [ 247  160]] \n",
            "\n",
            "Acuracia do modelo XGBClassifier: 86.25%\n",
            "Matriz de Confusão:\n",
            "\n",
            "[[1530   63]\n",
            " [ 212  195]] \n",
            "\n",
            "Acuracia do modelo LGBMClassifier: 86.70%\n",
            "Matriz de Confusão:\n",
            "\n",
            "[[1552   41]\n",
            " [ 225  182]] \n",
            "\n"
          ]
        }
      ]
    },
    {
      "cell_type": "code",
      "source": [
        "catboost.fit( X_treino3, y_treino3, cat_features= categoricas, plot=True, eval_set=(X_teste3, y_teste3))\n",
        "previsaocat = catboost.predict(X_teste3)\n",
        "acuraciacat = accuracy_score(y_teste3, previsaocat)"
      ],
      "metadata": {
        "id": "qd3HmGqjPYnP"
      },
      "execution_count": null,
      "outputs": []
    },
    {
      "cell_type": "code",
      "source": [
        "print('O modelo CATBOOST se adequa melhor ao Dataframe Previsores3, onde não se aplica nada, irá usar as variáveis categóricas')\n",
        "print('Acuracia do modelo CATBOOST: {:.2f}%'.format(acuraciacat*100))\n",
        "print('Matriz de Confusão:''\\n')\n",
        "print(confusion_matrix(y_teste, previsaocat),'\\n')"
      ],
      "metadata": {
        "colab": {
          "base_uri": "https://localhost:8080/"
        },
        "id": "ZL9EZHIDQC3p",
        "outputId": "d14d362d-c89f-4acc-9ad3-a8fef2ca9677"
      },
      "execution_count": null,
      "outputs": [
        {
          "output_type": "stream",
          "name": "stdout",
          "text": [
            "O modelo CATBOOST se adequa melhor ao Dataframe Previsores3, onde não se aplica nada, irá usar as variáveis categóricas\n",
            "Acuracia do modelo CATBOOST: 86.55%\n",
            "Matriz de Confusão:\n",
            "\n",
            "[[1548   45]\n",
            " [ 224  183]] \n",
            "\n"
          ]
        }
      ]
    },
    {
      "cell_type": "markdown",
      "source": [
        "O modelo XGBClassifier é o melhor modelo dentre todos, mesmo que fique com uma acurácia um pouco menor que os modelos LGBMClassifier e DecisionTreeClassifier, ele apresenta uma vantagem que é uma maior quantidade de acertos para os clientes que irão dar Churn, como isso é o que estamos procurando no modelo, então o XGBClassifier é o que melhor se adapta ao nosso problema.\n",
        "\n"
      ],
      "metadata": {
        "id": "slCaoOsPXJPV"
      }
    }
  ]
}
